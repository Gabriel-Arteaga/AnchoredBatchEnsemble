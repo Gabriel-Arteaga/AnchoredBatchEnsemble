{
 "cells": [
  {
   "cell_type": "code",
   "execution_count": 1,
   "metadata": {},
   "outputs": [],
   "source": [
    "import sys\n",
    "sys.path.append('..')\n",
    "import torch\n",
    "from torch import nn\n",
    "import numpy as np\n",
    "from sklearn.model_selection import train_test_split\n",
    "from sklearn.preprocessing import StandardScaler\n",
    "from torch.utils.data import TensorDataset, DataLoader\n",
    "import pandas as pd\n",
    "%matplotlib notebook\n",
    "from ipywidgets import *\n",
    "import matplotlib.pyplot as plt\n",
    "import plotly.express as px\n",
    "from utils.functions import train_models, train_models_w_mean_var, train_and_save_results\n",
    "from utils.models import BatchEnsemble\n",
    "from utils.layers import BatchLinear\n",
    "from utils.layers import AnchoredBatch"
   ]
  },
  {
   "cell_type": "markdown",
   "metadata": {},
   "source": [
    "## Concrete Dataset"
   ]
  },
  {
   "cell_type": "code",
   "execution_count": 2,
   "metadata": {},
   "outputs": [
    {
     "data": {
      "text/html": [
       "<div>\n",
       "<style scoped>\n",
       "    .dataframe tbody tr th:only-of-type {\n",
       "        vertical-align: middle;\n",
       "    }\n",
       "\n",
       "    .dataframe tbody tr th {\n",
       "        vertical-align: top;\n",
       "    }\n",
       "\n",
       "    .dataframe thead th {\n",
       "        text-align: right;\n",
       "    }\n",
       "</style>\n",
       "<table border=\"1\" class=\"dataframe\">\n",
       "  <thead>\n",
       "    <tr style=\"text-align: right;\">\n",
       "      <th></th>\n",
       "      <th>Cement (component 1)(kg in a m^3 mixture)</th>\n",
       "      <th>Blast Furnace Slag (component 2)(kg in a m^3 mixture)</th>\n",
       "      <th>Fly Ash (component 3)(kg in a m^3 mixture)</th>\n",
       "      <th>Water  (component 4)(kg in a m^3 mixture)</th>\n",
       "      <th>Superplasticizer (component 5)(kg in a m^3 mixture)</th>\n",
       "      <th>Coarse Aggregate  (component 6)(kg in a m^3 mixture)</th>\n",
       "      <th>Fine Aggregate (component 7)(kg in a m^3 mixture)</th>\n",
       "      <th>Age (day)</th>\n",
       "      <th>Concrete compressive strength(MPa, megapascals)</th>\n",
       "    </tr>\n",
       "  </thead>\n",
       "  <tbody>\n",
       "    <tr>\n",
       "      <th>0</th>\n",
       "      <td>540.0</td>\n",
       "      <td>0.0</td>\n",
       "      <td>0.0</td>\n",
       "      <td>162.0</td>\n",
       "      <td>2.5</td>\n",
       "      <td>1040.0</td>\n",
       "      <td>676.0</td>\n",
       "      <td>28</td>\n",
       "      <td>79.986111</td>\n",
       "    </tr>\n",
       "    <tr>\n",
       "      <th>1</th>\n",
       "      <td>540.0</td>\n",
       "      <td>0.0</td>\n",
       "      <td>0.0</td>\n",
       "      <td>162.0</td>\n",
       "      <td>2.5</td>\n",
       "      <td>1055.0</td>\n",
       "      <td>676.0</td>\n",
       "      <td>28</td>\n",
       "      <td>61.887366</td>\n",
       "    </tr>\n",
       "    <tr>\n",
       "      <th>2</th>\n",
       "      <td>332.5</td>\n",
       "      <td>142.5</td>\n",
       "      <td>0.0</td>\n",
       "      <td>228.0</td>\n",
       "      <td>0.0</td>\n",
       "      <td>932.0</td>\n",
       "      <td>594.0</td>\n",
       "      <td>270</td>\n",
       "      <td>40.269535</td>\n",
       "    </tr>\n",
       "    <tr>\n",
       "      <th>3</th>\n",
       "      <td>332.5</td>\n",
       "      <td>142.5</td>\n",
       "      <td>0.0</td>\n",
       "      <td>228.0</td>\n",
       "      <td>0.0</td>\n",
       "      <td>932.0</td>\n",
       "      <td>594.0</td>\n",
       "      <td>365</td>\n",
       "      <td>41.052780</td>\n",
       "    </tr>\n",
       "    <tr>\n",
       "      <th>4</th>\n",
       "      <td>198.6</td>\n",
       "      <td>132.4</td>\n",
       "      <td>0.0</td>\n",
       "      <td>192.0</td>\n",
       "      <td>0.0</td>\n",
       "      <td>978.4</td>\n",
       "      <td>825.5</td>\n",
       "      <td>360</td>\n",
       "      <td>44.296075</td>\n",
       "    </tr>\n",
       "  </tbody>\n",
       "</table>\n",
       "</div>"
      ],
      "text/plain": [
       "   Cement (component 1)(kg in a m^3 mixture)  \\\n",
       "0                                      540.0   \n",
       "1                                      540.0   \n",
       "2                                      332.5   \n",
       "3                                      332.5   \n",
       "4                                      198.6   \n",
       "\n",
       "   Blast Furnace Slag (component 2)(kg in a m^3 mixture)  \\\n",
       "0                                                0.0       \n",
       "1                                                0.0       \n",
       "2                                              142.5       \n",
       "3                                              142.5       \n",
       "4                                              132.4       \n",
       "\n",
       "   Fly Ash (component 3)(kg in a m^3 mixture)  \\\n",
       "0                                         0.0   \n",
       "1                                         0.0   \n",
       "2                                         0.0   \n",
       "3                                         0.0   \n",
       "4                                         0.0   \n",
       "\n",
       "   Water  (component 4)(kg in a m^3 mixture)  \\\n",
       "0                                      162.0   \n",
       "1                                      162.0   \n",
       "2                                      228.0   \n",
       "3                                      228.0   \n",
       "4                                      192.0   \n",
       "\n",
       "   Superplasticizer (component 5)(kg in a m^3 mixture)  \\\n",
       "0                                                2.5     \n",
       "1                                                2.5     \n",
       "2                                                0.0     \n",
       "3                                                0.0     \n",
       "4                                                0.0     \n",
       "\n",
       "   Coarse Aggregate  (component 6)(kg in a m^3 mixture)  \\\n",
       "0                                             1040.0      \n",
       "1                                             1055.0      \n",
       "2                                              932.0      \n",
       "3                                              932.0      \n",
       "4                                              978.4      \n",
       "\n",
       "   Fine Aggregate (component 7)(kg in a m^3 mixture)  Age (day)  \\\n",
       "0                                              676.0         28   \n",
       "1                                              676.0         28   \n",
       "2                                              594.0        270   \n",
       "3                                              594.0        365   \n",
       "4                                              825.5        360   \n",
       "\n",
       "   Concrete compressive strength(MPa, megapascals)   \n",
       "0                                         79.986111  \n",
       "1                                         61.887366  \n",
       "2                                         40.269535  \n",
       "3                                         41.052780  \n",
       "4                                         44.296075  "
      ]
     },
     "execution_count": 2,
     "metadata": {},
     "output_type": "execute_result"
    }
   ],
   "source": [
    "# Read data into a pandas dataframe\n",
    "concrete = pd.read_excel('..\\\\data\\\\UCI_Regression\\\\2.Concrete\\\\Concrete_Data.xls')\n",
    "\n",
    "concrete.head()"
   ]
  },
  {
   "cell_type": "code",
   "execution_count": 3,
   "metadata": {},
   "outputs": [],
   "source": [
    "# Set a seed for reproducibility\n",
    "np.random.seed(52)\n",
    "\n",
    "# Split into training and validation datasets\n",
    "concrete_train, concrete_val = train_test_split(concrete, test_size=0.1)\n",
    "concrete_train, concrete_val = concrete_train.to_numpy(), concrete_val.to_numpy()"
   ]
  },
  {
   "cell_type": "code",
   "execution_count": 4,
   "metadata": {},
   "outputs": [
    {
     "name": "stdout",
     "output_type": "stream",
     "text": [
      "torch.Size([648, 8])\n",
      "torch.Size([648, 1])\n",
      "torch.Size([279, 8])\n",
      "torch.Size([279, 1])\n"
     ]
    }
   ],
   "source": [
    "# Subtract mean and divide by standard deviation\n",
    "concrete_scaler = StandardScaler()\n",
    "concrete_scaler.fit(X=concrete_train[:,:8], y=concrete_train[:,8])\n",
    "concrete_train[:,:8] = concrete_scaler.transform(concrete_train[:,:8])\n",
    "\n",
    "# Split the training dataset into train and val\n",
    "x_train, x_test, y_train, y_test = train_test_split(concrete_train[:,:8], concrete_train[:,8],train_size=0.7)\n",
    "\n",
    "device = torch.device('cuda' if torch.cuda.is_available() else 'cpu')\n",
    "\n",
    "# Convert numpy arrays to PyTorch tensors\n",
    "x_train_tensor = torch.tensor(x_train, dtype=torch.float32).to(device)\n",
    "y_train_tensor = torch.tensor(y_train, dtype=torch.float32).unsqueeze(1).to(device)\n",
    "x_test_tensor = torch.tensor(x_test, dtype=torch.float32).to(device)\n",
    "y_test_tensor = torch.tensor(y_test, dtype=torch.float32).unsqueeze(1).to(device)\n",
    "\n",
    "print(x_train_tensor.shape)\n",
    "print(y_train_tensor.shape)\n",
    "print(x_test_tensor.shape)\n",
    "print(y_test_tensor.shape)\n",
    "\n",
    "# Create TensorDatasets\n",
    "train_dataset = TensorDataset(x_train_tensor, y_train_tensor)\n",
    "test_dataset = TensorDataset(x_test_tensor, y_test_tensor)\n",
    "\n",
    "# Define a batch size\n",
    "batch_size = 128\n",
    "\n",
    "# Create DataLoaders\n",
    "train_loader = DataLoader(dataset=train_dataset, batch_size=batch_size, shuffle=True)\n",
    "test_loader = DataLoader(dataset=test_dataset, batch_size=batch_size, shuffle=False)\n",
    "\n"
   ]
  },
  {
   "cell_type": "code",
   "execution_count": 5,
   "metadata": {},
   "outputs": [
    {
     "name": "stdout",
     "output_type": "stream",
     "text": [
      "[0.01, 0.001, 0.0001]\n",
      "Epoch: 0\n",
      "-------\n",
      "Loss: 1178.39404296875\n",
      "Epoch: 100\n",
      "-------\n",
      "Loss: 6.722768147786458\n",
      "Epoch: 200\n",
      "-------\n",
      "Loss: 4.940077702204387\n",
      "Epoch: 300\n",
      "-------\n",
      "Loss: 3.786235531171163\n",
      "Epoch: 400\n",
      "-------\n",
      "Loss: 3.1528915961583457\n",
      "Epoch: 500\n",
      "-------\n",
      "Loss: 2.9289540449778237\n",
      "Epoch: 600\n",
      "-------\n",
      "Loss: 2.8280193408330283\n",
      "Epoch: 700\n",
      "-------\n",
      "Loss: 2.7389130194981894\n",
      "Epoch: 800\n",
      "-------\n",
      "Loss: 2.632975419362386\n",
      "Epoch: 900\n",
      "-------\n",
      "Loss: 2.5441601276397705\n",
      "\n",
      "Evaluation on Test Data\n",
      "------------------------\n",
      "Average Test Loss: 2.592951536178589\n",
      "Epoch: 0\n",
      "-------\n",
      "Loss: 1472.8152669270833\n",
      "Epoch: 100\n",
      "-------\n",
      "Loss: 7.644123554229736\n",
      "Epoch: 200\n",
      "-------\n",
      "Loss: 4.936777432759603\n",
      "Epoch: 300\n",
      "-------\n",
      "Loss: 3.704951206843058\n",
      "Epoch: 400\n",
      "-------\n",
      "Loss: 3.1629375219345093\n",
      "Epoch: 500\n",
      "-------\n",
      "Loss: 2.978944460550944\n",
      "Epoch: 600\n",
      "-------\n",
      "Loss: 2.8257725636164346\n",
      "Epoch: 700\n",
      "-------\n",
      "Loss: 2.7327564557393393\n",
      "Epoch: 800\n",
      "-------\n",
      "Loss: 2.6432796319325766\n",
      "Epoch: 900\n",
      "-------\n",
      "Loss: 2.482157349586487\n",
      "\n",
      "Evaluation on Test Data\n",
      "------------------------\n",
      "Average Test Loss: 2.6175005435943604\n",
      "Epoch: 0\n",
      "-------\n",
      "Loss: 1263.9852294921875\n",
      "Epoch: 100\n",
      "-------\n",
      "Loss: 6.964128812154134\n",
      "Epoch: 200\n",
      "-------\n",
      "Loss: 4.58270263671875\n",
      "Epoch: 300\n",
      "-------\n",
      "Loss: 3.5119153261184692\n",
      "Epoch: 400\n",
      "-------\n",
      "Loss: 3.2352037827173867\n",
      "Epoch: 500\n",
      "-------\n",
      "Loss: 2.898234566052755\n",
      "Epoch: 600\n",
      "-------\n",
      "Loss: 2.7559749682744346\n",
      "Epoch: 700\n",
      "-------\n",
      "Loss: 2.680852015813192\n",
      "Epoch: 800\n",
      "-------\n",
      "Loss: 2.6083540519078574\n",
      "Epoch: 900\n",
      "-------\n",
      "Loss: 2.4725534121195474\n",
      "\n",
      "Evaluation on Test Data\n",
      "------------------------\n",
      "Average Test Loss: 2.6348048051198325\n",
      "Epoch: 0\n",
      "-------\n",
      "Loss: 1053.6014811197917\n",
      "Epoch: 100\n",
      "-------\n",
      "Loss: 5.660165627797444\n",
      "Epoch: 200\n",
      "-------\n",
      "Loss: 3.703526496887207\n",
      "Epoch: 300\n",
      "-------\n",
      "Loss: 3.008527477582296\n",
      "Epoch: 400\n",
      "-------\n",
      "Loss: 2.768888513247172\n",
      "Epoch: 500\n",
      "-------\n",
      "Loss: 2.6496538718541465\n",
      "Epoch: 600\n",
      "-------\n",
      "Loss: 2.5063463846842446\n",
      "Epoch: 700\n",
      "-------\n",
      "Loss: 2.3426332076390586\n",
      "Epoch: 800\n",
      "-------\n",
      "Loss: 2.3326762517293296\n",
      "Epoch: 900\n",
      "-------\n",
      "Loss: 2.2371042172114053\n",
      "\n",
      "Evaluation on Test Data\n",
      "------------------------\n",
      "Average Test Loss: 2.509476979573568\n",
      "Epoch: 0\n",
      "-------\n",
      "Loss: 1512.5753784179688\n",
      "Epoch: 100\n",
      "-------\n",
      "Loss: 6.197360674540202\n",
      "Epoch: 200\n",
      "-------\n",
      "Loss: 4.533536950747172\n",
      "Epoch: 300\n",
      "-------\n",
      "Loss: 3.2646191517512\n",
      "Epoch: 400\n",
      "-------\n",
      "Loss: 2.878984212875366\n",
      "Epoch: 500\n",
      "-------\n",
      "Loss: 2.8094361225763955\n",
      "Epoch: 600\n",
      "-------\n",
      "Loss: 2.71376625696818\n",
      "Epoch: 700\n",
      "-------\n",
      "Loss: 2.4669241905212402\n",
      "Epoch: 800\n",
      "-------\n",
      "Loss: 2.3167619705200195\n",
      "Epoch: 900\n",
      "-------\n",
      "Loss: 2.2277422746022544\n",
      "\n",
      "Evaluation on Test Data\n",
      "------------------------\n",
      "Average Test Loss: 2.5059245427449546\n",
      "Epoch: 0\n",
      "-------\n",
      "Loss: 1277.9723307291667\n",
      "Epoch: 100\n",
      "-------\n",
      "Loss: 6.358410517374675\n",
      "Epoch: 200\n",
      "-------\n",
      "Loss: 3.830599586168925\n",
      "Epoch: 300\n",
      "-------\n",
      "Loss: 3.09096089998881\n",
      "Epoch: 400\n",
      "-------\n",
      "Loss: 2.838744878768921\n",
      "Epoch: 500\n",
      "-------\n",
      "Loss: 2.7536516586939492\n",
      "Epoch: 600\n",
      "-------\n",
      "Loss: 2.590159813563029\n",
      "Epoch: 700\n",
      "-------\n",
      "Loss: 2.414940277735392\n",
      "Epoch: 800\n",
      "-------\n",
      "Loss: 2.3089699745178223\n",
      "Epoch: 900\n",
      "-------\n",
      "Loss: 2.1841059923171997\n",
      "\n",
      "Evaluation on Test Data\n",
      "------------------------\n",
      "Average Test Loss: 2.5524181524912515\n",
      "Epoch: 0\n",
      "-------\n",
      "Loss: 1227.3760681152344\n",
      "Epoch: 100\n",
      "-------\n",
      "Loss: 5.661079486211141\n",
      "Epoch: 200\n",
      "-------\n",
      "Loss: 3.701684276262919\n",
      "Epoch: 300\n",
      "-------\n",
      "Loss: 2.8680293560028076\n",
      "Epoch: 400\n",
      "-------\n",
      "Loss: 2.6937324603398642\n",
      "Epoch: 500\n",
      "-------\n",
      "Loss: 2.505306522051493\n",
      "Epoch: 600\n",
      "-------\n",
      "Loss: 2.3296576340993247\n",
      "Epoch: 700\n",
      "-------\n",
      "Loss: 2.2312155961990356\n",
      "Epoch: 800\n",
      "-------\n",
      "Loss: 2.0781866908073425\n",
      "Epoch: 900\n",
      "-------\n",
      "Loss: 1.9565532604853313\n",
      "\n",
      "Evaluation on Test Data\n",
      "------------------------\n",
      "Average Test Loss: 2.583646297454834\n",
      "Epoch: 0\n",
      "-------\n",
      "Loss: 1472.3016967773438\n",
      "Epoch: 100\n",
      "-------\n",
      "Loss: 5.754068334897359\n",
      "Epoch: 200\n",
      "-------\n",
      "Loss: 3.957367499669393\n",
      "Epoch: 300\n",
      "-------\n",
      "Loss: 3.054264267285665\n",
      "Epoch: 400\n",
      "-------\n",
      "Loss: 2.679627458254496\n",
      "Epoch: 500\n",
      "-------\n",
      "Loss: 2.4386167923609414\n",
      "Epoch: 600\n",
      "-------\n",
      "Loss: 2.3148311773935952\n",
      "Epoch: 700\n",
      "-------\n",
      "Loss: 2.1984788179397583\n",
      "Epoch: 800\n",
      "-------\n",
      "Loss: 2.189130107561747\n",
      "Epoch: 900\n",
      "-------\n",
      "Loss: 2.1549364924430847\n",
      "\n",
      "Evaluation on Test Data\n",
      "------------------------\n",
      "Average Test Loss: 2.5909973780314126\n",
      "Epoch: 0\n",
      "-------\n",
      "Loss: 1295.537109375\n",
      "Epoch: 100\n",
      "-------\n",
      "Loss: 5.80500586827596\n",
      "Epoch: 200\n",
      "-------\n",
      "Loss: 3.619509975115458\n",
      "Epoch: 300\n",
      "-------\n",
      "Loss: 2.8928914864857993\n",
      "Epoch: 400\n",
      "-------\n",
      "Loss: 2.6459302504857383\n",
      "Epoch: 500\n",
      "-------\n",
      "Loss: 2.4596109787623086\n",
      "Epoch: 600\n",
      "-------\n",
      "Loss: 2.295164863268534\n",
      "Epoch: 700\n",
      "-------\n",
      "Loss: 2.1886022885640464\n",
      "Epoch: 800\n",
      "-------\n",
      "Loss: 2.0480393767356873\n",
      "Epoch: 900\n",
      "-------\n",
      "Loss: 1.9870736201604207\n",
      "\n",
      "Evaluation on Test Data\n",
      "------------------------\n",
      "Average Test Loss: 2.581496079762777\n",
      "Epoch: 0\n",
      "-------\n",
      "Loss: 1476.2496337890625\n",
      "Epoch: 100\n",
      "-------\n",
      "Loss: 5.234372099240621\n",
      "Epoch: 200\n",
      "-------\n",
      "Loss: 3.680837353070577\n",
      "Epoch: 300\n",
      "-------\n",
      "Loss: 2.9534448782602944\n",
      "Epoch: 400\n",
      "-------\n",
      "Loss: 2.8548583984375\n",
      "Epoch: 500\n",
      "-------\n",
      "Loss: 2.6376523971557617\n",
      "Epoch: 600\n",
      "-------\n",
      "Loss: 2.4698265393575034\n",
      "Epoch: 700\n",
      "-------\n",
      "Loss: 2.3966615200042725\n",
      "Epoch: 800\n",
      "-------\n",
      "Loss: 2.257764220237732\n",
      "Epoch: 900\n",
      "-------\n",
      "Loss: 2.18660561243693\n",
      "\n",
      "Evaluation on Test Data\n",
      "------------------------\n",
      "Average Test Loss: 2.500396807988485\n",
      "Epoch: 0\n",
      "-------\n",
      "Loss: 1094.4547017415364\n",
      "Epoch: 100\n",
      "-------\n",
      "Loss: 4.970629056294759\n",
      "Epoch: 200\n",
      "-------\n",
      "Loss: 3.4352784951527915\n",
      "Epoch: 300\n",
      "-------\n",
      "Loss: 3.0016115506490073\n",
      "Epoch: 400\n",
      "-------\n",
      "Loss: 2.855604966481527\n",
      "Epoch: 500\n",
      "-------\n",
      "Loss: 2.607098619143168\n",
      "Epoch: 600\n",
      "-------\n",
      "Loss: 2.4440853198369346\n",
      "Epoch: 700\n",
      "-------\n",
      "Loss: 2.3378354708353677\n",
      "Epoch: 800\n",
      "-------\n",
      "Loss: 2.3186606963475547\n",
      "Epoch: 900\n",
      "-------\n",
      "Loss: 2.241533120473226\n",
      "\n",
      "Evaluation on Test Data\n",
      "------------------------\n",
      "Average Test Loss: 2.509685436884562\n",
      "Epoch: 0\n",
      "-------\n",
      "Loss: 1399.7783813476562\n",
      "Epoch: 100\n",
      "-------\n",
      "Loss: 5.165330410003662\n",
      "Epoch: 200\n",
      "-------\n",
      "Loss: 3.6252495447794595\n",
      "Epoch: 300\n",
      "-------\n",
      "Loss: 2.9710673491160073\n",
      "Epoch: 400\n",
      "-------\n",
      "Loss: 2.827822963396708\n",
      "Epoch: 500\n",
      "-------\n",
      "Loss: 2.723024090131124\n",
      "Epoch: 600\n",
      "-------\n",
      "Loss: 2.5941073894500732\n",
      "Epoch: 700\n",
      "-------\n",
      "Loss: 2.5108852783838906\n",
      "Epoch: 800\n",
      "-------\n",
      "Loss: 2.3617823918660483\n",
      "Epoch: 900\n",
      "-------\n",
      "Loss: 2.331201910972595\n",
      "\n",
      "Evaluation on Test Data\n",
      "------------------------\n",
      "Average Test Loss: 2.5341530640920005\n",
      "Epoch: 0\n",
      "-------\n",
      "Loss: 1216.9816487630208\n",
      "Epoch: 100\n",
      "-------\n",
      "Loss: 4.618505199750264\n",
      "Epoch: 200\n",
      "-------\n",
      "Loss: 3.2394591569900513\n",
      "Epoch: 300\n",
      "-------\n",
      "Loss: 2.8882335821787515\n",
      "Epoch: 400\n",
      "-------\n",
      "Loss: 2.71023956934611\n",
      "Epoch: 500\n",
      "-------\n",
      "Loss: 2.476150552431742\n",
      "Epoch: 600\n",
      "-------\n",
      "Loss: 2.231679936250051\n",
      "Epoch: 700\n",
      "-------\n",
      "Loss: 2.162525018056234\n",
      "Epoch: 800\n",
      "-------\n",
      "Loss: 2.0882482131322226\n",
      "Epoch: 900\n",
      "-------\n",
      "Loss: 2.1186240911483765\n",
      "\n",
      "Evaluation on Test Data\n",
      "------------------------\n",
      "Average Test Loss: 3.3861048221588135\n",
      "Epoch: 0\n",
      "-------\n",
      "Loss: 1532.5099080403645\n",
      "Epoch: 100\n",
      "-------\n",
      "Loss: 5.0219493707021075\n",
      "Epoch: 200\n",
      "-------\n",
      "Loss: 3.276342988014221\n",
      "Epoch: 300\n",
      "-------\n",
      "Loss: 2.8879748980204263\n",
      "Epoch: 400\n",
      "-------\n",
      "Loss: 2.7551039854685464\n",
      "Epoch: 500\n",
      "-------\n",
      "Loss: 2.525121490160624\n",
      "Epoch: 600\n",
      "-------\n",
      "Loss: 2.407895485560099\n",
      "Epoch: 700\n",
      "-------\n",
      "Loss: 2.2029635111490884\n",
      "Epoch: 800\n",
      "-------\n",
      "Loss: 2.1107046206792197\n",
      "Epoch: 900\n",
      "-------\n",
      "Loss: 2.1872960726420083\n",
      "\n",
      "Evaluation on Test Data\n",
      "------------------------\n",
      "Average Test Loss: 2.7287325859069824\n",
      "Epoch: 0\n",
      "-------\n",
      "Loss: 1389.1868693033855\n",
      "Epoch: 100\n",
      "-------\n",
      "Loss: 4.912741184234619\n",
      "Epoch: 200\n",
      "-------\n",
      "Loss: 3.23654313882192\n",
      "Epoch: 300\n",
      "-------\n",
      "Loss: 2.7835760513941445\n",
      "Epoch: 400\n",
      "-------\n",
      "Loss: 2.587515632311503\n",
      "Epoch: 500\n",
      "-------\n",
      "Loss: 2.4547811349232993\n",
      "Epoch: 600\n",
      "-------\n",
      "Loss: 2.3016279538472495\n",
      "Epoch: 700\n",
      "-------\n",
      "Loss: 2.1937400102615356\n",
      "Epoch: 800\n",
      "-------\n",
      "Loss: 2.0618455608685813\n",
      "Epoch: 900\n",
      "-------\n",
      "Loss: 2.0306000312169394\n",
      "\n",
      "Evaluation on Test Data\n",
      "------------------------\n",
      "Average Test Loss: 7.0533952713012695\n",
      "Epoch: 0\n",
      "-------\n",
      "Loss: 1177.0594482421875\n",
      "Epoch: 100\n",
      "-------\n",
      "Loss: 4.5309789180755615\n",
      "Epoch: 200\n",
      "-------\n",
      "Loss: 2.9177262783050537\n",
      "Epoch: 300\n",
      "-------\n",
      "Loss: 2.561272978782654\n",
      "Epoch: 400\n",
      "-------\n",
      "Loss: 2.306660294532776\n",
      "Epoch: 500\n",
      "-------\n",
      "Loss: 2.1111374298731485\n",
      "Epoch: 600\n",
      "-------\n",
      "Loss: 1.9517670472462971\n",
      "Epoch: 700\n",
      "-------\n",
      "Loss: 1.9272068341573079\n",
      "Epoch: 800\n",
      "-------\n",
      "Loss: 1.8613052169481914\n",
      "Epoch: 900\n",
      "-------\n",
      "Loss: 1.8343783617019653\n",
      "\n",
      "Evaluation on Test Data\n",
      "------------------------\n",
      "Average Test Loss: 3.5449100335439048\n",
      "Epoch: 0\n",
      "-------\n",
      "Loss: 1347.615010579427\n",
      "Epoch: 100\n",
      "-------\n",
      "Loss: 4.432921846707662\n",
      "Epoch: 200\n",
      "-------\n",
      "Loss: 2.9451050758361816\n",
      "Epoch: 300\n",
      "-------\n",
      "Loss: 2.6235841512680054\n",
      "Epoch: 400\n",
      "-------\n",
      "Loss: 2.331787943840027\n",
      "Epoch: 500\n",
      "-------\n",
      "Loss: 2.170957406361898\n",
      "Epoch: 600\n",
      "-------\n",
      "Loss: 2.1260919769605002\n",
      "Epoch: 700\n",
      "-------\n",
      "Loss: 1.905467450618744\n",
      "Epoch: 800\n",
      "-------\n",
      "Loss: 1.8300243616104126\n",
      "Epoch: 900\n",
      "-------\n",
      "Loss: 1.7870124379793804\n",
      "\n",
      "Evaluation on Test Data\n",
      "------------------------\n",
      "Average Test Loss: 11.007368167241415\n",
      "Epoch: 0\n",
      "-------\n",
      "Loss: 1475.9471638997395\n",
      "Epoch: 100\n",
      "-------\n",
      "Loss: 4.67786439259847\n",
      "Epoch: 200\n",
      "-------\n",
      "Loss: 3.031686703364054\n",
      "Epoch: 300\n",
      "-------\n",
      "Loss: 2.653519550959269\n",
      "Epoch: 400\n",
      "-------\n",
      "Loss: 2.3078940709431968\n",
      "Epoch: 500\n",
      "-------\n",
      "Loss: 2.1602667967478433\n",
      "Epoch: 600\n",
      "-------\n",
      "Loss: 2.033007820447286\n",
      "Epoch: 700\n",
      "-------\n",
      "Loss: 1.9892890453338623\n",
      "Epoch: 800\n",
      "-------\n",
      "Loss: 1.8754785458246868\n",
      "Epoch: 900\n",
      "-------\n",
      "Loss: 1.87507430712382\n",
      "\n",
      "Evaluation on Test Data\n",
      "------------------------\n",
      "Average Test Loss: 3.7618355751037598\n",
      "Epoch: 0\n",
      "-------\n",
      "Loss: 1764.387430826823\n",
      "Epoch: 100\n",
      "-------\n",
      "Loss: 4.647520383199056\n",
      "Epoch: 200\n",
      "-------\n",
      "Loss: 3.3284159898757935\n",
      "Epoch: 300\n",
      "-------\n",
      "Loss: 3.0338401397069297\n",
      "Epoch: 400\n",
      "-------\n",
      "Loss: 2.852078835169474\n",
      "Epoch: 500\n",
      "-------\n",
      "Loss: 2.631903648376465\n",
      "Epoch: 600\n",
      "-------\n",
      "Loss: 2.5057191451390586\n",
      "Epoch: 700\n",
      "-------\n",
      "Loss: 2.3937645753224692\n",
      "Epoch: 800\n",
      "-------\n",
      "Loss: 2.249252120653788\n",
      "Epoch: 900\n",
      "-------\n",
      "Loss: 2.2065840562184653\n",
      "\n",
      "Evaluation on Test Data\n",
      "------------------------\n",
      "Average Test Loss: 2.603032350540161\n",
      "Epoch: 0\n",
      "-------\n",
      "Loss: 1619.3116251627605\n",
      "Epoch: 100\n",
      "-------\n",
      "Loss: 4.556658824284871\n",
      "Epoch: 200\n",
      "-------\n",
      "Loss: 3.30339781443278\n",
      "Epoch: 300\n",
      "-------\n",
      "Loss: 2.861929496129354\n",
      "Epoch: 400\n",
      "-------\n",
      "Loss: 2.7820892333984375\n",
      "Epoch: 500\n",
      "-------\n",
      "Loss: 2.644774595896403\n",
      "Epoch: 600\n",
      "-------\n",
      "Loss: 2.4405504067738852\n",
      "Epoch: 700\n",
      "-------\n",
      "Loss: 2.3082915941874185\n",
      "Epoch: 800\n",
      "-------\n",
      "Loss: 2.2732975085576377\n",
      "Epoch: 900\n",
      "-------\n",
      "Loss: 2.181894302368164\n",
      "\n",
      "Evaluation on Test Data\n",
      "------------------------\n",
      "Average Test Loss: 2.639606475830078\n",
      "Epoch: 0\n",
      "-------\n",
      "Loss: 1204.439717610677\n",
      "Epoch: 100\n",
      "-------\n",
      "Loss: 4.663466930389404\n",
      "Epoch: 200\n",
      "-------\n",
      "Loss: 3.2673399845759072\n",
      "Epoch: 300\n",
      "-------\n",
      "Loss: 2.8982331355412803\n",
      "Epoch: 400\n",
      "-------\n",
      "Loss: 2.722969134648641\n",
      "Epoch: 500\n",
      "-------\n",
      "Loss: 2.612231691678365\n",
      "Epoch: 600\n",
      "-------\n",
      "Loss: 2.5139713684717813\n",
      "Epoch: 700\n",
      "-------\n",
      "Loss: 2.3125333388646445\n",
      "Epoch: 800\n",
      "-------\n",
      "Loss: 2.275007883707682\n",
      "Epoch: 900\n",
      "-------\n",
      "Loss: 2.1333048939704895\n",
      "\n",
      "Evaluation on Test Data\n",
      "------------------------\n",
      "Average Test Loss: 2.635258356730143\n",
      "Epoch: 0\n",
      "-------\n",
      "Loss: 1030.9314880371094\n",
      "Epoch: 100\n",
      "-------\n",
      "Loss: 4.013359824816386\n",
      "Epoch: 200\n",
      "-------\n",
      "Loss: 2.982564091682434\n",
      "Epoch: 300\n",
      "-------\n",
      "Loss: 2.612236579259237\n",
      "Epoch: 400\n",
      "-------\n",
      "Loss: 2.4237512747446694\n",
      "Epoch: 500\n",
      "-------\n",
      "Loss: 2.2882461547851562\n",
      "Epoch: 600\n",
      "-------\n",
      "Loss: 2.153308868408203\n",
      "Epoch: 700\n",
      "-------\n",
      "Loss: 2.0243298014005027\n",
      "Epoch: 800\n",
      "-------\n",
      "Loss: 2.01827863852183\n",
      "Epoch: 900\n",
      "-------\n",
      "Loss: 2.016648848851522\n",
      "\n",
      "Evaluation on Test Data\n",
      "------------------------\n",
      "Average Test Loss: 2.7843781312306723\n",
      "Epoch: 0\n",
      "-------\n",
      "Loss: 1296.3316853841145\n",
      "Epoch: 100\n",
      "-------\n",
      "Loss: 4.507643699645996\n",
      "Epoch: 200\n",
      "-------\n",
      "Loss: 3.094393809636434\n",
      "Epoch: 300\n",
      "-------\n",
      "Loss: 2.7173974911371865\n",
      "Epoch: 400\n",
      "-------\n",
      "Loss: 2.444301962852478\n",
      "Epoch: 500\n",
      "-------\n",
      "Loss: 2.26512610912323\n",
      "Epoch: 600\n",
      "-------\n",
      "Loss: 2.2637659708658853\n",
      "Epoch: 700\n",
      "-------\n",
      "Loss: 2.1453182101249695\n",
      "Epoch: 800\n",
      "-------\n",
      "Loss: 1.9752929210662842\n",
      "Epoch: 900\n",
      "-------\n",
      "Loss: 1.999490737915039\n",
      "\n",
      "Evaluation on Test Data\n",
      "------------------------\n",
      "Average Test Loss: 3.3750550746917725\n",
      "Epoch: 0\n",
      "-------\n",
      "Loss: 1371.979756673177\n",
      "Epoch: 100\n",
      "-------\n",
      "Loss: 4.443497180938721\n",
      "Epoch: 200\n",
      "-------\n",
      "Loss: 3.073002656300863\n",
      "Epoch: 300\n",
      "-------\n",
      "Loss: 2.7702502012252808\n",
      "Epoch: 400\n",
      "-------\n",
      "Loss: 2.512273907661438\n",
      "Epoch: 500\n",
      "-------\n",
      "Loss: 2.346415122350057\n",
      "Epoch: 600\n",
      "-------\n",
      "Loss: 2.2150920232137046\n",
      "Epoch: 700\n",
      "-------\n",
      "Loss: 2.1376231908798218\n",
      "Epoch: 800\n",
      "-------\n",
      "Loss: 2.0888845523198447\n",
      "Epoch: 900\n",
      "-------\n",
      "Loss: 1.9612249334653218\n",
      "\n",
      "Evaluation on Test Data\n",
      "------------------------\n",
      "Average Test Loss: 2.827117681503296\n",
      "Epoch: 0\n",
      "-------\n",
      "Loss: 969.8871053059896\n",
      "Epoch: 100\n",
      "-------\n",
      "Loss: 3.9759199221928916\n",
      "Epoch: 200\n",
      "-------\n",
      "Loss: 2.7786652247111\n",
      "Epoch: 300\n",
      "-------\n",
      "Loss: 2.3722317616144815\n",
      "Epoch: 400\n",
      "-------\n",
      "Loss: 2.2051833868026733\n",
      "Epoch: 500\n",
      "-------\n",
      "Loss: 2.060307761033376\n",
      "Epoch: 600\n",
      "-------\n",
      "Loss: 1.9634783267974854\n",
      "Epoch: 700\n",
      "-------\n",
      "Loss: 1.9054005146026611\n",
      "Epoch: 800\n",
      "-------\n",
      "Loss: 1.8025188247362773\n",
      "Epoch: 900\n",
      "-------\n",
      "Loss: 1.754068652788798\n",
      "\n",
      "Evaluation on Test Data\n",
      "------------------------\n",
      "Average Test Loss: 4.649202346801758\n",
      "Epoch: 0\n",
      "-------\n",
      "Loss: 1163.8744506835938\n",
      "Epoch: 100\n",
      "-------\n",
      "Loss: 3.8533926010131836\n",
      "Epoch: 200\n",
      "-------\n",
      "Loss: 2.7332398891448975\n",
      "Epoch: 300\n",
      "-------\n",
      "Loss: 2.4208856423695884\n",
      "Epoch: 400\n",
      "-------\n",
      "Loss: 2.144958019256592\n",
      "Epoch: 500\n",
      "-------\n",
      "Loss: 2.0749608278274536\n",
      "Epoch: 600\n",
      "-------\n",
      "Loss: 1.9168513417243958\n",
      "Epoch: 700\n",
      "-------\n",
      "Loss: 1.8224385976791382\n",
      "Epoch: 800\n",
      "-------\n",
      "Loss: 1.8105456233024597\n",
      "Epoch: 900\n",
      "-------\n",
      "Loss: 1.689271867275238\n",
      "\n",
      "Evaluation on Test Data\n",
      "------------------------\n",
      "Average Test Loss: 3.3859832286834717\n",
      "Epoch: 0\n",
      "-------\n",
      "Loss: 1427.3429565429688\n",
      "Epoch: 100\n",
      "-------\n",
      "Loss: 4.2896759907404585\n",
      "Epoch: 200\n",
      "-------\n",
      "Loss: 2.7261898517608643\n",
      "Epoch: 300\n",
      "-------\n",
      "Loss: 2.3614869117736816\n",
      "Epoch: 400\n",
      "-------\n",
      "Loss: 2.1648579438527427\n",
      "Epoch: 500\n",
      "-------\n",
      "Loss: 1.9775492350260417\n",
      "Epoch: 600\n",
      "-------\n",
      "Loss: 1.9087010224660237\n",
      "Epoch: 700\n",
      "-------\n",
      "Loss: 1.807199776172638\n",
      "Epoch: 800\n",
      "-------\n",
      "Loss: 1.7104342182477315\n",
      "Epoch: 900\n",
      "-------\n",
      "Loss: 1.7308576703071594\n",
      "\n",
      "Evaluation on Test Data\n",
      "------------------------\n",
      "Average Test Loss: 32.306168953577675\n",
      "Epoch: 0\n",
      "-------\n",
      "Loss: 1284.6866251627605\n",
      "Epoch: 100\n",
      "-------\n",
      "Loss: 4.1516538461049395\n",
      "Epoch: 200\n",
      "-------\n",
      "Loss: 3.3533416589101157\n",
      "Epoch: 300\n",
      "-------\n",
      "Loss: 2.854364275932312\n",
      "Epoch: 400\n",
      "-------\n",
      "Loss: 2.705295284589132\n",
      "Epoch: 500\n",
      "-------\n",
      "Loss: 2.482014298439026\n",
      "Epoch: 600\n",
      "-------\n",
      "Loss: 2.3276148239771524\n",
      "Epoch: 700\n",
      "-------\n",
      "Loss: 2.2729365825653076\n",
      "Epoch: 800\n",
      "-------\n",
      "Loss: 2.1882012685139975\n",
      "Epoch: 900\n",
      "-------\n",
      "Loss: 2.1072789827982583\n",
      "\n",
      "Evaluation on Test Data\n",
      "------------------------\n",
      "Average Test Loss: 2.6580328941345215\n",
      "Epoch: 0\n",
      "-------\n",
      "Loss: 1088.649190266927\n",
      "Epoch: 100\n",
      "-------\n",
      "Loss: 4.30248761177063\n",
      "Epoch: 200\n",
      "-------\n",
      "Loss: 3.031036615371704\n",
      "Epoch: 300\n",
      "-------\n",
      "Loss: 2.8817935387293496\n",
      "Epoch: 400\n",
      "-------\n",
      "Loss: 2.710503021876017\n",
      "Epoch: 500\n",
      "-------\n",
      "Loss: 2.521055221557617\n",
      "Epoch: 600\n",
      "-------\n",
      "Loss: 2.376474062601725\n",
      "Epoch: 700\n",
      "-------\n",
      "Loss: 2.300844430923462\n",
      "Epoch: 800\n",
      "-------\n",
      "Loss: 2.2719953060150146\n",
      "Epoch: 900\n",
      "-------\n",
      "Loss: 2.1414014101028442\n",
      "\n",
      "Evaluation on Test Data\n",
      "------------------------\n",
      "Average Test Loss: 2.877885421117147\n",
      "Epoch: 0\n",
      "-------\n",
      "Loss: 1204.525390625\n",
      "Epoch: 100\n",
      "-------\n",
      "Loss: 4.1086089213689165\n",
      "Epoch: 200\n",
      "-------\n",
      "Loss: 3.147857666015625\n",
      "Epoch: 300\n",
      "-------\n",
      "Loss: 2.8042271534601846\n",
      "Epoch: 400\n",
      "-------\n",
      "Loss: 2.6454217036565146\n",
      "Epoch: 500\n",
      "-------\n",
      "Loss: 2.478213349978129\n",
      "Epoch: 600\n",
      "-------\n",
      "Loss: 2.254704554875692\n",
      "Epoch: 700\n",
      "-------\n",
      "Loss: 2.2114031314849854\n",
      "Epoch: 800\n",
      "-------\n",
      "Loss: 2.162329832712809\n",
      "Epoch: 900\n",
      "-------\n",
      "Loss: 2.1378786166508994\n",
      "\n",
      "Evaluation on Test Data\n",
      "------------------------\n",
      "Average Test Loss: 2.645393451054891\n",
      "Epoch: 0\n",
      "-------\n",
      "Loss: 1253.9758707682292\n",
      "Epoch: 100\n",
      "-------\n",
      "Loss: 3.8598079284032187\n",
      "Epoch: 200\n",
      "-------\n",
      "Loss: 2.9070055882136026\n",
      "Epoch: 300\n",
      "-------\n",
      "Loss: 2.568308711051941\n",
      "Epoch: 400\n",
      "-------\n",
      "Loss: 2.3793975512186685\n",
      "Epoch: 500\n",
      "-------\n",
      "Loss: 2.24240513642629\n",
      "Epoch: 600\n",
      "-------\n",
      "Loss: 2.0848775506019592\n",
      "Epoch: 700\n",
      "-------\n",
      "Loss: 2.0844823718070984\n",
      "Epoch: 800\n",
      "-------\n",
      "Loss: 1.949444095293681\n",
      "Epoch: 900\n",
      "-------\n",
      "Loss: 1.9410038789113362\n",
      "\n",
      "Evaluation on Test Data\n",
      "------------------------\n",
      "Average Test Loss: 2.7927509943644204\n",
      "Epoch: 0\n",
      "-------\n",
      "Loss: 1409.8920084635417\n",
      "Epoch: 100\n",
      "-------\n",
      "Loss: 4.084658583005269\n",
      "Epoch: 200\n",
      "-------\n",
      "Loss: 2.8267170190811157\n",
      "Epoch: 300\n",
      "-------\n",
      "Loss: 2.5588830709457397\n",
      "Epoch: 400\n",
      "-------\n",
      "Loss: 2.385052959124247\n",
      "Epoch: 500\n",
      "-------\n",
      "Loss: 2.141695737838745\n",
      "Epoch: 600\n",
      "-------\n",
      "Loss: 2.024300674597422\n",
      "Epoch: 700\n",
      "-------\n",
      "Loss: 1.994171380996704\n",
      "Epoch: 800\n",
      "-------\n",
      "Loss: 1.9843357801437378\n",
      "Epoch: 900\n",
      "-------\n",
      "Loss: 1.971195638179779\n",
      "\n",
      "Evaluation on Test Data\n",
      "------------------------\n",
      "Average Test Loss: 2.8244267304738364\n",
      "Epoch: 0\n",
      "-------\n",
      "Loss: 1144.1480102539062\n",
      "Epoch: 100\n",
      "-------\n",
      "Loss: 3.803023099899292\n",
      "Epoch: 200\n",
      "-------\n",
      "Loss: 2.8891183535257974\n",
      "Epoch: 300\n",
      "-------\n",
      "Loss: 2.5084359645843506\n",
      "Epoch: 400\n",
      "-------\n",
      "Loss: 2.357857346534729\n",
      "Epoch: 500\n",
      "-------\n",
      "Loss: 2.1486400763193765\n",
      "Epoch: 600\n",
      "-------\n",
      "Loss: 2.0560234785079956\n",
      "Epoch: 700\n",
      "-------\n",
      "Loss: 2.013854225476583\n",
      "Epoch: 800\n",
      "-------\n",
      "Loss: 1.9762680927912395\n",
      "Epoch: 900\n",
      "-------\n",
      "Loss: 1.8408672014872234\n",
      "\n",
      "Evaluation on Test Data\n",
      "------------------------\n",
      "Average Test Loss: 2.881540218989054\n",
      "Epoch: 0\n",
      "-------\n",
      "Loss: 1138.2560424804688\n",
      "Epoch: 100\n",
      "-------\n",
      "Loss: 3.3788543144861856\n",
      "Epoch: 200\n",
      "-------\n",
      "Loss: 2.483812848726908\n",
      "Epoch: 300\n",
      "-------\n",
      "Loss: 2.181126356124878\n",
      "Epoch: 400\n",
      "-------\n",
      "Loss: 2.002635657787323\n",
      "Epoch: 500\n",
      "-------\n",
      "Loss: 1.9060351252555847\n",
      "Epoch: 600\n",
      "-------\n",
      "Loss: 1.8277138471603394\n",
      "Epoch: 700\n",
      "-------\n",
      "Loss: 1.7131044069925945\n",
      "Epoch: 800\n",
      "-------\n",
      "Loss: 1.6681436101595561\n",
      "Epoch: 900\n",
      "-------\n",
      "Loss: 1.520432710647583\n",
      "\n",
      "Evaluation on Test Data\n",
      "------------------------\n",
      "Average Test Loss: 4.472817579905192\n",
      "Epoch: 0\n",
      "-------\n",
      "Loss: 1513.3659261067708\n",
      "Epoch: 100\n",
      "-------\n",
      "Loss: 3.5876179536183677\n",
      "Epoch: 200\n",
      "-------\n",
      "Loss: 2.537849227587382\n",
      "Epoch: 300\n",
      "-------\n",
      "Loss: 2.2786874373753867\n",
      "Epoch: 400\n",
      "-------\n",
      "Loss: 2.0458249052365622\n",
      "Epoch: 500\n",
      "-------\n",
      "Loss: 1.9411908984184265\n",
      "Epoch: 600\n",
      "-------\n",
      "Loss: 1.7995886603991191\n",
      "Epoch: 700\n",
      "-------\n",
      "Loss: 1.7967152794202168\n",
      "Epoch: 800\n",
      "-------\n",
      "Loss: 1.5653098424275715\n",
      "Epoch: 900\n",
      "-------\n",
      "Loss: 1.5758880178133647\n",
      "\n",
      "Evaluation on Test Data\n",
      "------------------------\n",
      "Average Test Loss: 3.955361763636271\n",
      "Epoch: 0\n",
      "-------\n",
      "Loss: 1321.2139689127605\n",
      "Epoch: 100\n",
      "-------\n",
      "Loss: 3.3827608029047647\n",
      "Epoch: 200\n",
      "-------\n",
      "Loss: 2.487176537513733\n",
      "Epoch: 300\n",
      "-------\n",
      "Loss: 2.1881222327550254\n",
      "Epoch: 400\n",
      "-------\n",
      "Loss: 2.0437583525975547\n",
      "Epoch: 500\n",
      "-------\n",
      "Loss: 1.9159452120463054\n",
      "Epoch: 600\n",
      "-------\n",
      "Loss: 1.8364521265029907\n",
      "Epoch: 700\n",
      "-------\n",
      "Loss: 1.78424076239268\n",
      "Epoch: 800\n",
      "-------\n",
      "Loss: 1.6290046374003093\n",
      "Epoch: 900\n",
      "-------\n",
      "Loss: 1.6141852537790935\n",
      "\n",
      "Evaluation on Test Data\n",
      "------------------------\n",
      "Average Test Loss: 3.6563682556152344\n"
     ]
    }
   ],
   "source": [
    "# Initalize list of Hyperparameters to try out\n",
    "#hidden_layers_options = list(range(2, 6))  # 2 to 10 inclusive\n",
    "hidden_layers_options = [6]\n",
    "hidden_units_options = [32, 64, 128]\n",
    "weight_decay_options = [0.01,0.001,0.0001,0.00001]\n",
    "#weight_decay_options = [0.01,0.001,0.0001]\n",
    "\n",
    "loss_fn = nn.GaussianNLLLoss()\n",
    "optimizer = torch.optim.Adam\n",
    "print(weight_decay_options)\n",
    "\n",
    "train_and_save_results(model_name = 'batch', hidden_layers_options=hidden_layers_options, hidden_units_options=hidden_units_options, input_shape=8, loss_fn=loss_fn,optimizer=optimizer, train_loader=train_loader, test_loader=test_loader,ensemble_size=10,epochs=1000, csv_file='concrete_model_results.csv',weight_decay_options=weight_decay_options,print_frequency=100)"
   ]
  },
  {
   "cell_type": "code",
   "execution_count": 14,
   "metadata": {},
   "outputs": [
    {
     "name": "stdout",
     "output_type": "stream",
     "text": [
      "Epoch: 0\n",
      "-------\n",
      "Loss: 1052.89863170277\n",
      "Epoch: 50\n",
      "-------\n",
      "Loss: 4.4566732103174385\n",
      "Epoch: 100\n",
      "-------\n",
      "Loss: 2.953240914778276\n",
      "Epoch: 150\n",
      "-------\n",
      "Loss: 2.5891949263485996\n",
      "Epoch: 200\n",
      "-------\n",
      "Loss: 2.373821410265836\n",
      "Epoch: 250\n",
      "-------\n",
      "Loss: 2.1957076462832363\n",
      "Epoch: 300\n",
      "-------\n",
      "Loss: 2.094709027897228\n",
      "Epoch: 350\n",
      "-------\n",
      "Loss: 2.0049897649071435\n",
      "Epoch: 400\n",
      "-------\n",
      "Loss: 1.9448035088452427\n",
      "Epoch: 450\n",
      "-------\n",
      "Loss: 1.872825557535345\n",
      "\n",
      "Evaluation on Test Data\n",
      "------------------------\n",
      "Average Test Loss: 2.627743053436279\n",
      "GaussianNLLLoss: 2.627743053436279\n",
      "RMSE: 6.182777309417725\n"
     ]
    }
   ],
   "source": [
    "model = BatchEnsemble(ensemble_size=10, input_shape=8, hidden_layers=3, hidden_units=128)\n",
    "\n",
    "loss_fn = torch.nn.GaussianNLLLoss()\n",
    "optimizer = torch.optim.Adam\n",
    "GNLLL_result, rmse_result = train_models_w_mean_var(model=model, ensemble_type='batch', ensemble_size=10,data_noise=0,epochs=500,print_frequency=50,loss_fn=loss_fn,optimizer=optimizer,train_loader=train_loader,test_loader=test_loader,test=True,RMSE=True,weight_decay=0.0001,)\n",
    "\n",
    "print('GaussianNLLLoss:', GNLLL_result)\n",
    "print('RMSE:', rmse_result)\n"
   ]
  },
  {
   "cell_type": "code",
   "execution_count": 15,
   "metadata": {},
   "outputs": [
    {
     "name": "stdout",
     "output_type": "stream",
     "text": [
      "..\\results\\concrete_model_results.csv\n"
     ]
    }
   ],
   "source": [
    "# Specify the directory where the CSV file should be saved\n",
    "results_directory = '..\\\\results'\n",
    "\n",
    "\n",
    "# Specify the CSV file name\n",
    "csv_file_name = 'concrete_model_results.csv'  # Replace with your desired CSV file name\n",
    "\n",
    "# Create the full path for the CSV file\n",
    "csv_file_path = os.path.join(results_directory, csv_file_name)\n",
    "\n",
    "# Check if the CSV file exists\n",
    "try:\n",
    "    # Load the existing CSV file\n",
    "    df_existing = pd.read_csv(csv_file_path)\n",
    "except FileNotFoundError:\n",
    "    # If the file doesn't exist, create a new DataFrame\n",
    "    df_existing = pd.DataFrame()\n",
    "\n",
    "print(csv_file_path)\n",
    "df_existing.to_csv(csv_file_path, mode='a', header=not df_existing.shape[0], index=False)"
   ]
  },
  {
   "cell_type": "code",
   "execution_count": 23,
   "metadata": {},
   "outputs": [
    {
     "name": "stdout",
     "output_type": "stream",
     "text": [
      "Epoch: 0\n",
      "-------\n",
      "Loss: 1.2789609161290256\n",
      "Epoch: 50\n",
      "-------\n",
      "Loss: 0.29053364287723193\n",
      "Epoch: 100\n",
      "-------\n",
      "Loss: 0.17948136275464838\n",
      "Epoch: 150\n",
      "-------\n",
      "Loss: 0.16007963635704733\n",
      "Epoch: 200\n",
      "-------\n",
      "Loss: 0.14776190708984027\n",
      "Epoch: 250\n",
      "-------\n",
      "Loss: 0.13760600848631424\n",
      "Epoch: 300\n",
      "-------\n",
      "Loss: 0.1303254406560551\n",
      "Epoch: 350\n",
      "-------\n",
      "Loss: 0.12935656918720764\n",
      "Epoch: 400\n",
      "-------\n",
      "Loss: 0.12082395702600479\n",
      "Epoch: 450\n",
      "-------\n",
      "Loss: 0.1196495308117433\n",
      "\n",
      "Evaluation on Test Data\n",
      "------------------------\n",
      "Average Test Loss: 0.11701419800519944\n",
      "Epoch: 0\n",
      "-------\n",
      "Loss: 1.3439821059053594\n",
      "Epoch: 50\n",
      "-------\n",
      "Loss: 0.261006236076355\n",
      "Epoch: 100\n",
      "-------\n",
      "Loss: 0.17731957069852136\n",
      "Epoch: 150\n",
      "-------\n",
      "Loss: 0.14439911124381152\n",
      "Epoch: 200\n",
      "-------\n",
      "Loss: 0.145053122531284\n",
      "Epoch: 250\n",
      "-------\n",
      "Loss: 0.10993427275256677\n",
      "Epoch: 300\n",
      "-------\n",
      "Loss: 0.11210461909120734\n",
      "Epoch: 350\n",
      "-------\n",
      "Loss: 0.10031452571803873\n",
      "Epoch: 400\n",
      "-------\n",
      "Loss: 0.10265921259468253\n",
      "Epoch: 450\n",
      "-------\n",
      "Loss: 0.08647637035359036\n",
      "\n",
      "Evaluation on Test Data\n",
      "------------------------\n",
      "Average Test Loss: 0.1085217073559761\n",
      "Epoch: 0\n",
      "-------\n",
      "Loss: 1.2507724111730403\n",
      "Epoch: 50\n",
      "-------\n",
      "Loss: 0.21972931921482086\n",
      "Epoch: 100\n",
      "-------\n",
      "Loss: 0.14106120711023157\n",
      "Epoch: 150\n",
      "-------\n",
      "Loss: 0.12759515846317465\n",
      "Epoch: 200\n",
      "-------\n",
      "Loss: 0.1012371273880655\n",
      "Epoch: 250\n",
      "-------\n",
      "Loss: 0.09544893625107678\n",
      "Epoch: 300\n",
      "-------\n",
      "Loss: 0.08222454820166934\n",
      "Epoch: 350\n",
      "-------\n",
      "Loss: 0.07234660637649623\n",
      "Epoch: 400\n",
      "-------\n",
      "Loss: 0.0667869546874003\n",
      "Epoch: 450\n",
      "-------\n",
      "Loss: 0.06460508331656456\n",
      "\n",
      "Evaluation on Test Data\n",
      "------------------------\n",
      "Average Test Loss: 0.09898357540369034\n",
      "Epoch: 0\n",
      "-------\n",
      "Loss: 1.4078592278740623\n",
      "Epoch: 50\n",
      "-------\n",
      "Loss: 0.3307730880650607\n",
      "Epoch: 100\n",
      "-------\n",
      "Loss: 0.17665819146416403\n",
      "Epoch: 150\n",
      "-------\n",
      "Loss: 0.16150188513777472\n",
      "Epoch: 200\n",
      "-------\n",
      "Loss: 0.1514969982884147\n",
      "Epoch: 250\n",
      "-------\n",
      "Loss: 0.1333542906425216\n",
      "Epoch: 300\n",
      "-------\n",
      "Loss: 0.12873504514043982\n",
      "Epoch: 350\n",
      "-------\n",
      "Loss: 0.1153689141977917\n",
      "Epoch: 400\n",
      "-------\n",
      "Loss: 0.11585204980590126\n",
      "Epoch: 450\n",
      "-------\n",
      "Loss: 0.10202777351845395\n",
      "\n",
      "Evaluation on Test Data\n",
      "------------------------\n",
      "Average Test Loss: 0.12455113977193832\n",
      "Epoch: 0\n",
      "-------\n",
      "Loss: 1.404144828969782\n",
      "Epoch: 50\n",
      "-------\n",
      "Loss: 0.3196591504595496\n",
      "Epoch: 100\n",
      "-------\n",
      "Loss: 0.16597498072819275\n",
      "Epoch: 150\n",
      "-------\n",
      "Loss: 0.14990841868248853\n",
      "Epoch: 200\n",
      "-------\n",
      "Loss: 0.13146478140896017\n",
      "Epoch: 250\n",
      "-------\n",
      "Loss: 0.11630354076623917\n",
      "Epoch: 300\n",
      "-------\n",
      "Loss: 0.1267657997933301\n",
      "Epoch: 350\n",
      "-------\n",
      "Loss: 0.09249199757521803\n",
      "Epoch: 400\n",
      "-------\n",
      "Loss: 0.09859887171875346\n",
      "Epoch: 450\n",
      "-------\n",
      "Loss: 0.08614702522754669\n",
      "\n",
      "Evaluation on Test Data\n",
      "------------------------\n",
      "Average Test Loss: 0.11007597893476487\n",
      "Epoch: 0\n",
      "-------\n",
      "Loss: 1.3967118805105037\n",
      "Epoch: 50\n",
      "-------\n",
      "Loss: 0.29313682967966254\n",
      "Epoch: 100\n",
      "-------\n",
      "Loss: 0.1496666276996786\n",
      "Epoch: 150\n",
      "-------\n",
      "Loss: 0.1246549165384336\n",
      "Epoch: 200\n",
      "-------\n",
      "Loss: 0.10882449691945856\n",
      "Epoch: 250\n",
      "-------\n",
      "Loss: 0.0945411581884731\n",
      "Epoch: 300\n",
      "-------\n",
      "Loss: 0.08719862658869136\n",
      "Epoch: 350\n",
      "-------\n",
      "Loss: 0.07332571697506038\n",
      "Epoch: 400\n",
      "-------\n",
      "Loss: 0.06828581914305687\n",
      "Epoch: 450\n",
      "-------\n",
      "Loss: 0.05799369175325741\n",
      "\n",
      "Evaluation on Test Data\n",
      "------------------------\n",
      "Average Test Loss: 0.09881208091974258\n",
      "Epoch: 0\n",
      "-------\n",
      "Loss: 1.2886272506280378\n",
      "Epoch: 50\n",
      "-------\n",
      "Loss: 0.4405730664730072\n",
      "Epoch: 100\n",
      "-------\n",
      "Loss: 0.20392093130133368\n",
      "Epoch: 150\n",
      "-------\n",
      "Loss: 0.16909062659198587\n",
      "Epoch: 200\n",
      "-------\n",
      "Loss: 0.16312382979826492\n",
      "Epoch: 250\n",
      "-------\n",
      "Loss: 0.1335249956358563\n",
      "Epoch: 300\n",
      "-------\n",
      "Loss: 0.12094523757696152\n",
      "Epoch: 350\n",
      "-------\n",
      "Loss: 0.11103963157670065\n",
      "Epoch: 400\n",
      "-------\n",
      "Loss: 0.11598629030314359\n",
      "Epoch: 450\n",
      "-------\n",
      "Loss: 0.10502947595986453\n",
      "\n",
      "Evaluation on Test Data\n",
      "------------------------\n",
      "Average Test Loss: 0.11645654439926148\n",
      "Epoch: 0\n",
      "-------\n",
      "Loss: 1.4777636202898892\n",
      "Epoch: 50\n",
      "-------\n",
      "Loss: 0.5030174390836195\n",
      "Epoch: 100\n",
      "-------\n",
      "Loss: 0.24754217267036438\n",
      "Epoch: 150\n",
      "-------\n",
      "Loss: 0.1357886249368841\n",
      "Epoch: 200\n",
      "-------\n",
      "Loss: 0.11897561699151993\n",
      "Epoch: 250\n",
      "-------\n",
      "Loss: 0.11172411319884387\n",
      "Epoch: 300\n",
      "-------\n",
      "Loss: 0.09274775975129822\n",
      "Epoch: 350\n",
      "-------\n",
      "Loss: 0.08179588294164701\n",
      "Epoch: 400\n",
      "-------\n",
      "Loss: 0.07883750071579759\n",
      "Epoch: 450\n",
      "-------\n",
      "Loss: 0.0777392800558697\n",
      "\n",
      "Evaluation on Test Data\n",
      "------------------------\n",
      "Average Test Loss: 0.10671028345823289\n",
      "Epoch: 0\n",
      "-------\n",
      "Loss: 1.247034419666637\n",
      "Epoch: 50\n",
      "-------\n",
      "Loss: 0.5269931988282637\n",
      "Epoch: 100\n",
      "-------\n",
      "Loss: 0.30764925615354016\n",
      "Epoch: 150\n",
      "-------\n",
      "Loss: 0.31731228259476746\n",
      "Epoch: 200\n",
      "-------\n",
      "Loss: 0.29717750170014123\n",
      "Epoch: 250\n",
      "-------\n",
      "Loss: 0.2692014276981354\n",
      "Epoch: 300\n",
      "-------\n",
      "Loss: 0.27210649170658807\n",
      "Epoch: 350\n",
      "-------\n",
      "Loss: 0.2597926177761771\n",
      "Epoch: 400\n",
      "-------\n",
      "Loss: 0.17858195304870605\n",
      "Epoch: 450\n",
      "-------\n",
      "Loss: 0.16760931773619217\n",
      "\n",
      "Evaluation on Test Data\n",
      "------------------------\n",
      "Average Test Loss: 0.19336654245853424\n",
      "Epoch: 0\n",
      "-------\n",
      "Loss: 1.392117673700506\n",
      "Epoch: 50\n",
      "-------\n",
      "Loss: 0.5715876438400962\n",
      "Epoch: 100\n",
      "-------\n",
      "Loss: 0.3072252707047896\n",
      "Epoch: 150\n",
      "-------\n",
      "Loss: 0.26192102378064935\n",
      "Epoch: 200\n",
      "-------\n",
      "Loss: 0.23174230754375458\n",
      "Epoch: 250\n",
      "-------\n",
      "Loss: 0.14072111316702582\n",
      "Epoch: 300\n",
      "-------\n",
      "Loss: 0.1237630315802314\n",
      "Epoch: 350\n",
      "-------\n",
      "Loss: 0.12332053550265053\n",
      "Epoch: 400\n",
      "-------\n",
      "Loss: 0.1186601377346299\n",
      "Epoch: 450\n",
      "-------\n",
      "Loss: 0.1079941222613508\n",
      "\n",
      "Evaluation on Test Data\n",
      "------------------------\n",
      "Average Test Loss: 0.12457301020622254\n",
      "Epoch: 0\n",
      "-------\n",
      "Loss: 1.4403075738386675\n",
      "Epoch: 50\n",
      "-------\n",
      "Loss: 0.7229380526325919\n",
      "Epoch: 100\n",
      "-------\n",
      "Loss: 0.43422829833897675\n",
      "Epoch: 150\n",
      "-------\n",
      "Loss: 0.3320218026638031\n",
      "Epoch: 200\n",
      "-------\n",
      "Loss: 0.2829643758860501\n",
      "Epoch: 250\n",
      "-------\n",
      "Loss: 0.2770829905163158\n",
      "Epoch: 300\n",
      "-------\n",
      "Loss: 0.27847684919834137\n",
      "Epoch: 350\n",
      "-------\n",
      "Loss: 0.27111540734767914\n",
      "Epoch: 400\n",
      "-------\n",
      "Loss: 0.25554113360968506\n",
      "Epoch: 450\n",
      "-------\n",
      "Loss: 0.25619875165549194\n",
      "\n",
      "Evaluation on Test Data\n",
      "------------------------\n",
      "Average Test Loss: 0.2929555386304855\n",
      "Epoch: 0\n",
      "-------\n",
      "Loss: 1.2885941158641467\n",
      "Epoch: 50\n",
      "-------\n",
      "Loss: 0.9805542718280446\n",
      "Epoch: 100\n",
      "-------\n",
      "Loss: 1.0002737695520574\n",
      "Epoch: 150\n",
      "-------\n",
      "Loss: 0.925760957327756\n",
      "Epoch: 200\n",
      "-------\n",
      "Loss: 0.9550430070270192\n",
      "Epoch: 250\n",
      "-------\n",
      "Loss: 0.9591307152401317\n",
      "Epoch: 300\n",
      "-------\n",
      "Loss: 0.8798646818507802\n",
      "Epoch: 350\n",
      "-------\n",
      "Loss: 0.9099150516770103\n",
      "Epoch: 400\n",
      "-------\n",
      "Loss: 0.933404499834234\n",
      "Epoch: 450\n",
      "-------\n",
      "Loss: 0.9271176511591132\n",
      "\n",
      "Evaluation on Test Data\n",
      "------------------------\n",
      "Average Test Loss: 0.9447466373443604\n",
      "Epoch: 0\n",
      "-------\n",
      "Loss: 1.3173540830612183\n",
      "Epoch: 50\n",
      "-------\n",
      "Loss: 0.9359485398639332\n",
      "Epoch: 100\n",
      "-------\n",
      "Loss: 0.71789735826579\n",
      "Epoch: 150\n",
      "-------\n",
      "Loss: 0.6660228100689974\n",
      "Epoch: 200\n",
      "-------\n",
      "Loss: 0.6632598259232261\n",
      "Epoch: 250\n",
      "-------\n",
      "Loss: 0.6220602745359595\n",
      "Epoch: 300\n",
      "-------\n",
      "Loss: 0.629868829792196\n",
      "Epoch: 350\n",
      "-------\n",
      "Loss: 0.620706170797348\n",
      "Epoch: 400\n",
      "-------\n",
      "Loss: 0.6423620093952526\n",
      "Epoch: 450\n",
      "-------\n",
      "Loss: 0.6204586001959714\n",
      "\n",
      "Evaluation on Test Data\n",
      "------------------------\n",
      "Average Test Loss: 0.6679557681083679\n",
      "Epoch: 0\n",
      "-------\n",
      "Loss: 1.3302928859537297\n",
      "Epoch: 50\n",
      "-------\n",
      "Loss: 0.9324542622674595\n",
      "Epoch: 100\n",
      "-------\n",
      "Loss: 0.9798449006947604\n",
      "Epoch: 150\n",
      "-------\n",
      "Loss: 1.0120134949684143\n",
      "Epoch: 200\n",
      "-------\n",
      "Loss: 0.9779023799029264\n",
      "Epoch: 250\n",
      "-------\n",
      "Loss: 1.0583851174874739\n",
      "Epoch: 300\n",
      "-------\n",
      "Loss: 1.008091758597981\n",
      "Epoch: 350\n",
      "-------\n",
      "Loss: 1.048197242346677\n",
      "Epoch: 400\n",
      "-------\n",
      "Loss: 1.0550669919360767\n",
      "Epoch: 450\n",
      "-------\n",
      "Loss: 0.9794421521100131\n",
      "\n",
      "Evaluation on Test Data\n",
      "------------------------\n",
      "Average Test Loss: 1.0340219855308532\n",
      "Epoch: 0\n",
      "-------\n",
      "Loss: 1.339625196023421\n",
      "Epoch: 50\n",
      "-------\n",
      "Loss: 0.9610585191033103\n",
      "Epoch: 100\n",
      "-------\n",
      "Loss: 1.0089124061844565\n",
      "Epoch: 150\n",
      "-------\n",
      "Loss: 0.9720978736877441\n",
      "Epoch: 200\n",
      "-------\n",
      "Loss: 0.9731697548519481\n",
      "Epoch: 250\n",
      "-------\n",
      "Loss: 0.9430371008136056\n",
      "Epoch: 300\n",
      "-------\n",
      "Loss: 0.9881009351123463\n",
      "Epoch: 350\n",
      "-------\n",
      "Loss: 0.9741495414213701\n",
      "Epoch: 400\n",
      "-------\n",
      "Loss: 0.9706404967741533\n",
      "Epoch: 450\n",
      "-------\n",
      "Loss: 0.9743283770301125\n",
      "\n",
      "Evaluation on Test Data\n",
      "------------------------\n",
      "Average Test Loss: 1.0367284893989563\n",
      "Epoch: 0\n",
      "-------\n",
      "Loss: 1.3526706153696233\n",
      "Epoch: 50\n",
      "-------\n",
      "Loss: 0.9617844223976135\n",
      "Epoch: 100\n",
      "-------\n",
      "Loss: 1.0017846714366565\n",
      "Epoch: 150\n",
      "-------\n",
      "Loss: 1.0099076141010632\n",
      "Epoch: 200\n",
      "-------\n",
      "Loss: 0.978864155032418\n",
      "Epoch: 250\n",
      "-------\n",
      "Loss: 1.004642589525743\n",
      "Epoch: 300\n",
      "-------\n",
      "Loss: 0.954861042174426\n",
      "Epoch: 350\n",
      "-------\n",
      "Loss: 0.9961965734308417\n",
      "Epoch: 400\n",
      "-------\n",
      "Loss: 1.096754095771096\n",
      "Epoch: 450\n",
      "-------\n",
      "Loss: 1.0031829476356506\n",
      "\n",
      "Evaluation on Test Data\n",
      "------------------------\n",
      "Average Test Loss: 1.0376087069511413\n",
      "Epoch: 0\n",
      "-------\n",
      "Loss: 1.4706245444037698\n",
      "Epoch: 50\n",
      "-------\n",
      "Loss: 0.9893264011903242\n",
      "Epoch: 100\n",
      "-------\n",
      "Loss: 1.0074924230575562\n",
      "Epoch: 150\n",
      "-------\n",
      "Loss: 1.00517429005016\n",
      "Epoch: 200\n",
      "-------\n",
      "Loss: 1.06474046273665\n",
      "Epoch: 250\n",
      "-------\n",
      "Loss: 1.0308869318528608\n",
      "Epoch: 300\n",
      "-------\n",
      "Loss: 0.9636506546627391\n",
      "Epoch: 350\n",
      "-------\n",
      "Loss: 0.9749012914570895\n",
      "Epoch: 400\n",
      "-------\n",
      "Loss: 0.9969461506063287\n",
      "Epoch: 450\n",
      "-------\n",
      "Loss: 0.9951544024727561\n",
      "\n",
      "Evaluation on Test Data\n",
      "------------------------\n",
      "Average Test Loss: 1.0359164476394653\n",
      "Epoch: 0\n",
      "-------\n",
      "Loss: 1.245235107161782\n",
      "Epoch: 50\n",
      "-------\n",
      "Loss: 1.0004647103222934\n",
      "Epoch: 100\n",
      "-------\n",
      "Loss: 0.9794263785535638\n",
      "Epoch: 150\n",
      "-------\n",
      "Loss: 1.0230851335959001\n",
      "Epoch: 200\n",
      "-------\n",
      "Loss: 0.9699323881756176\n",
      "Epoch: 250\n",
      "-------\n",
      "Loss: 0.9911994988268072\n",
      "Epoch: 300\n",
      "-------\n",
      "Loss: 1.0042358528483997\n",
      "Epoch: 350\n",
      "-------\n",
      "Loss: 0.9661781029267744\n",
      "Epoch: 400\n",
      "-------\n",
      "Loss: 0.9326399469917471\n",
      "Epoch: 450\n",
      "-------\n",
      "Loss: 0.9841895970431241\n",
      "\n",
      "Evaluation on Test Data\n",
      "------------------------\n",
      "Average Test Loss: 1.0398675084114075\n",
      "Epoch: 0\n",
      "-------\n",
      "Loss: 1.4070636250756003\n",
      "Epoch: 50\n",
      "-------\n",
      "Loss: 0.980833113193512\n",
      "Epoch: 100\n",
      "-------\n",
      "Loss: 0.9588182405991987\n",
      "Epoch: 150\n",
      "-------\n",
      "Loss: 0.9630140282891013\n",
      "Epoch: 200\n",
      "-------\n",
      "Loss: 1.0328459252010693\n",
      "Epoch: 250\n",
      "-------\n",
      "Loss: 0.946431967345151\n",
      "Epoch: 300\n",
      "-------\n",
      "Loss: 1.0006411671638489\n",
      "Epoch: 350\n",
      "-------\n",
      "Loss: 1.0579447204416448\n",
      "Epoch: 400\n",
      "-------\n",
      "Loss: 1.033392776142467\n",
      "Epoch: 450\n",
      "-------\n",
      "Loss: 0.9454433972185309\n",
      "\n",
      "Evaluation on Test Data\n",
      "------------------------\n",
      "Average Test Loss: 1.0349124550819397\n",
      "Epoch: 0\n",
      "-------\n",
      "Loss: 1.3853581168434836\n",
      "Epoch: 50\n",
      "-------\n",
      "Loss: 0.9580721313303168\n",
      "Epoch: 100\n",
      "-------\n",
      "Loss: 0.9565837329084222\n",
      "Epoch: 150\n",
      "-------\n",
      "Loss: 1.002652108669281\n",
      "Epoch: 200\n",
      "-------\n",
      "Loss: 0.9717981869524176\n",
      "Epoch: 250\n",
      "-------\n",
      "Loss: 0.9582579352638938\n",
      "Epoch: 300\n",
      "-------\n",
      "Loss: 0.9629039114171808\n",
      "Epoch: 350\n",
      "-------\n",
      "Loss: 0.9973910721865568\n",
      "Epoch: 400\n",
      "-------\n",
      "Loss: 1.0263761444525286\n",
      "Epoch: 450\n",
      "-------\n",
      "Loss: 0.9635823965072632\n",
      "\n",
      "Evaluation on Test Data\n",
      "------------------------\n",
      "Average Test Loss: 1.0355639934539795\n",
      "Epoch: 0\n",
      "-------\n",
      "Loss: 1.1082942702553489\n",
      "Epoch: 50\n",
      "-------\n",
      "Loss: 1.0698974295095964\n",
      "Epoch: 100\n",
      "-------\n",
      "Loss: 0.9792329127138312\n",
      "Epoch: 150\n",
      "-------\n",
      "Loss: 0.9658011523160067\n",
      "Epoch: 200\n",
      "-------\n",
      "Loss: 0.985746063969352\n",
      "Epoch: 250\n",
      "-------\n",
      "Loss: 1.0104329098354687\n",
      "Epoch: 300\n",
      "-------\n",
      "Loss: 0.9692795493386008\n",
      "Epoch: 350\n",
      "-------\n",
      "Loss: 1.0144863562150435\n",
      "Epoch: 400\n",
      "-------\n",
      "Loss: 1.0176238959485835\n",
      "Epoch: 450\n",
      "-------\n",
      "Loss: 1.0010812336748296\n",
      "\n",
      "Evaluation on Test Data\n",
      "------------------------\n",
      "Average Test Loss: 1.0366423964500426\n",
      "Epoch: 0\n",
      "-------\n",
      "Loss: 1.3713803182948718\n",
      "Epoch: 50\n",
      "-------\n",
      "Loss: 1.0285568020560525\n",
      "Epoch: 100\n",
      "-------\n",
      "Loss: 1.0007008855993098\n",
      "Epoch: 150\n",
      "-------\n",
      "Loss: 0.9722601121122186\n",
      "Epoch: 200\n",
      "-------\n",
      "Loss: 1.0027583566578953\n",
      "Epoch: 250\n",
      "-------\n",
      "Loss: 1.0310980515046553\n",
      "Epoch: 300\n",
      "-------\n",
      "Loss: 0.9738294644789263\n",
      "Epoch: 350\n",
      "-------\n",
      "Loss: 1.0181152874773198\n",
      "Epoch: 400\n",
      "-------\n",
      "Loss: 0.9656461477279663\n",
      "Epoch: 450\n",
      "-------\n",
      "Loss: 0.9979832714254205\n",
      "\n",
      "Evaluation on Test Data\n",
      "------------------------\n",
      "Average Test Loss: 1.039640688896179\n",
      "Epoch: 0\n",
      "-------\n",
      "Loss: 1.2742282910780474\n",
      "Epoch: 50\n",
      "-------\n",
      "Loss: 0.9968232675032183\n",
      "Epoch: 100\n",
      "-------\n",
      "Loss: 0.9570356824181296\n",
      "Epoch: 150\n",
      "-------\n",
      "Loss: 1.0563466115431352\n",
      "Epoch: 200\n",
      "-------\n",
      "Loss: 1.0473748608068987\n",
      "Epoch: 250\n",
      "-------\n",
      "Loss: 1.0182652310891585\n",
      "Epoch: 300\n",
      "-------\n",
      "Loss: 0.9521552676504309\n",
      "Epoch: 350\n",
      "-------\n",
      "Loss: 0.9963899742473256\n",
      "Epoch: 400\n",
      "-------\n",
      "Loss: 0.9710086963393472\n",
      "Epoch: 450\n",
      "-------\n",
      "Loss: 1.0154188654639504\n",
      "\n",
      "Evaluation on Test Data\n",
      "------------------------\n",
      "Average Test Loss: 1.0379358410835267\n",
      "Epoch: 0\n",
      "-------\n",
      "Loss: 1.184585533358834\n",
      "Epoch: 50\n",
      "-------\n",
      "Loss: 0.9572978995063088\n",
      "Epoch: 100\n",
      "-------\n",
      "Loss: 0.9781401103193109\n",
      "Epoch: 150\n",
      "-------\n",
      "Loss: 1.0180805108763955\n",
      "Epoch: 200\n",
      "-------\n",
      "Loss: 0.9755923314528032\n",
      "Epoch: 250\n",
      "-------\n",
      "Loss: 1.0211051269011064\n",
      "Epoch: 300\n",
      "-------\n",
      "Loss: 0.9792455543171276\n",
      "Epoch: 350\n",
      "-------\n",
      "Loss: 0.9286868138746782\n",
      "Epoch: 400\n",
      "-------\n",
      "Loss: 0.9435850029641931\n",
      "Epoch: 450\n",
      "-------\n",
      "Loss: 0.984505604613911\n",
      "\n",
      "Evaluation on Test Data\n",
      "------------------------\n",
      "Average Test Loss: 1.0379635572433472\n",
      "Epoch: 0\n",
      "-------\n",
      "Loss: 1.1680077043446628\n",
      "Epoch: 50\n",
      "-------\n",
      "Loss: 1.0407647382129321\n",
      "Epoch: 100\n",
      "-------\n",
      "Loss: 1.008241745558652\n",
      "Epoch: 150\n",
      "-------\n",
      "Loss: 1.0715144601735203\n",
      "Epoch: 200\n",
      "-------\n",
      "Loss: 0.9469162252816287\n",
      "Epoch: 250\n",
      "-------\n",
      "Loss: 1.046865013512698\n",
      "Epoch: 300\n",
      "-------\n",
      "Loss: 0.9603301991115917\n",
      "Epoch: 350\n",
      "-------\n",
      "Loss: 1.0313123898072676\n",
      "Epoch: 400\n",
      "-------\n",
      "Loss: 0.9567361907525496\n",
      "Epoch: 450\n",
      "-------\n",
      "Loss: 0.9862904494458978\n",
      "\n",
      "Evaluation on Test Data\n",
      "------------------------\n",
      "Average Test Loss: 1.0345528602600098\n",
      "Epoch: 0\n",
      "-------\n",
      "Loss: 1.4645254070108586\n",
      "Epoch: 50\n",
      "-------\n",
      "Loss: 0.975099032575434\n",
      "Epoch: 100\n",
      "-------\n",
      "Loss: 0.9834043166854165\n",
      "Epoch: 150\n",
      "-------\n",
      "Loss: 0.9467080316760323\n",
      "Epoch: 200\n",
      "-------\n",
      "Loss: 0.953417721119794\n",
      "Epoch: 250\n",
      "-------\n",
      "Loss: 0.9511402547359467\n",
      "Epoch: 300\n",
      "-------\n",
      "Loss: 1.0207880301909014\n",
      "Epoch: 350\n",
      "-------\n",
      "Loss: 0.9518208449537103\n",
      "Epoch: 400\n",
      "-------\n",
      "Loss: 1.0185983018441633\n",
      "Epoch: 450\n",
      "-------\n",
      "Loss: 0.9912892309102145\n",
      "\n",
      "Evaluation on Test Data\n",
      "------------------------\n",
      "Average Test Loss: 1.0371743440628052\n",
      "Epoch: 0\n",
      "-------\n",
      "Loss: 1.339514130895788\n",
      "Epoch: 50\n",
      "-------\n",
      "Loss: 0.971626260063865\n",
      "Epoch: 100\n",
      "-------\n",
      "Loss: 0.9822553775527261\n",
      "Epoch: 150\n",
      "-------\n",
      "Loss: 0.9627903808246959\n",
      "Epoch: 200\n",
      "-------\n",
      "Loss: 1.0032775347883052\n",
      "Epoch: 250\n",
      "-------\n",
      "Loss: 1.0384131940928372\n",
      "Epoch: 300\n",
      "-------\n",
      "Loss: 1.0683283860033208\n",
      "Epoch: 350\n",
      "-------\n",
      "Loss: 0.9775753888216886\n",
      "Epoch: 400\n",
      "-------\n",
      "Loss: 0.9706060290336609\n",
      "Epoch: 450\n",
      "-------\n",
      "Loss: 0.9801656441255049\n",
      "\n",
      "Evaluation on Test Data\n",
      "------------------------\n",
      "Average Test Loss: 1.0375198721885681\n"
     ]
    }
   ],
   "source": [
    "import pandas as pd\n",
    "\n",
    "# Define the configurations\n",
    "hidden_layers_options = list(range(2, 11))  # 2 to 10 inclusive\n",
    "hidden_units_options = [32, 64, 128]\n",
    "\n",
    "# Initialize a list to store the results\n",
    "results = []\n",
    "\n",
    "# Loop over the configurations\n",
    "for hidden_layers in hidden_layers_options:\n",
    "    for hidden_units in hidden_units_options:\n",
    "        # Create the model\n",
    "        model = BatchEnsemble(ensemble_size=10, input_shape=8, hidden_layers=hidden_layers, hidden_units=hidden_units, output_shape=1)\n",
    "\n",
    "        # Train the model and get the average loss on test data\n",
    "        result = train_models(model=model, ensemble_type='batch', ensemble_size=10, data_noise=0, epochs=500, print_frequency=50, loss_fn=loss_fn, optimizer=optimizer, train_loader=train_loader, test_loader=test_loader, test=True, learning_rate=0.001)\n",
    "\n",
    "        # Append the result to the list\n",
    "        results.append({\n",
    "            'hidden_layers': hidden_layers,\n",
    "            'hidden_units': hidden_units,\n",
    "            'average_loss': result\n",
    "        })\n",
    "\n",
    "# Convert the results to a DataFrame\n",
    "\n",
    "df = pd.DataFrame(results)\n",
    "list_of_dicts = df.to_dicts('records')\n"
   ]
  },
  {
   "cell_type": "code",
   "execution_count": 27,
   "metadata": {},
   "outputs": [
    {
     "data": {
      "text/plain": [
       "[{'hidden_layers': 2, 'hidden_units': 32, 'average_loss': 0.11701419800519944},\n",
       " {'hidden_layers': 2, 'hidden_units': 64, 'average_loss': 0.1085217073559761},\n",
       " {'hidden_layers': 2,\n",
       "  'hidden_units': 128,\n",
       "  'average_loss': 0.09898357540369034},\n",
       " {'hidden_layers': 3, 'hidden_units': 32, 'average_loss': 0.12455113977193832},\n",
       " {'hidden_layers': 3, 'hidden_units': 64, 'average_loss': 0.11007597893476487},\n",
       " {'hidden_layers': 3,\n",
       "  'hidden_units': 128,\n",
       "  'average_loss': 0.09881208091974258},\n",
       " {'hidden_layers': 4, 'hidden_units': 32, 'average_loss': 0.11645654439926148},\n",
       " {'hidden_layers': 4, 'hidden_units': 64, 'average_loss': 0.10671028345823289},\n",
       " {'hidden_layers': 4,\n",
       "  'hidden_units': 128,\n",
       "  'average_loss': 0.19336654245853424},\n",
       " {'hidden_layers': 5, 'hidden_units': 32, 'average_loss': 0.12457301020622254},\n",
       " {'hidden_layers': 5, 'hidden_units': 64, 'average_loss': 0.2929555386304855},\n",
       " {'hidden_layers': 5, 'hidden_units': 128, 'average_loss': 0.9447466373443604},\n",
       " {'hidden_layers': 6, 'hidden_units': 32, 'average_loss': 0.6679557681083679},\n",
       " {'hidden_layers': 6, 'hidden_units': 64, 'average_loss': 1.0340219855308532},\n",
       " {'hidden_layers': 6, 'hidden_units': 128, 'average_loss': 1.0367284893989563},\n",
       " {'hidden_layers': 7, 'hidden_units': 32, 'average_loss': 1.0376087069511413},\n",
       " {'hidden_layers': 7, 'hidden_units': 64, 'average_loss': 1.0359164476394653},\n",
       " {'hidden_layers': 7, 'hidden_units': 128, 'average_loss': 1.0398675084114075},\n",
       " {'hidden_layers': 8, 'hidden_units': 32, 'average_loss': 1.0349124550819397},\n",
       " {'hidden_layers': 8, 'hidden_units': 64, 'average_loss': 1.0355639934539795},\n",
       " {'hidden_layers': 8, 'hidden_units': 128, 'average_loss': 1.0366423964500426},\n",
       " {'hidden_layers': 9, 'hidden_units': 32, 'average_loss': 1.039640688896179},\n",
       " {'hidden_layers': 9, 'hidden_units': 64, 'average_loss': 1.0379358410835267},\n",
       " {'hidden_layers': 9, 'hidden_units': 128, 'average_loss': 1.0379635572433472},\n",
       " {'hidden_layers': 10, 'hidden_units': 32, 'average_loss': 1.0345528602600098},\n",
       " {'hidden_layers': 10, 'hidden_units': 64, 'average_loss': 1.0371743440628052},\n",
       " {'hidden_layers': 10,\n",
       "  'hidden_units': 128,\n",
       "  'average_loss': 1.0375198721885681}]"
      ]
     },
     "execution_count": 27,
     "metadata": {},
     "output_type": "execute_result"
    }
   ],
   "source": [
    "list_of_dicts = df.to_dict('records')\n",
    "list_of_dicts"
   ]
  },
  {
   "cell_type": "code",
   "execution_count": 38,
   "metadata": {},
   "outputs": [
    {
     "data": {
      "application/vnd.plotly.v1+json": {
       "config": {
        "plotlyServerURL": "https://plot.ly"
       },
       "data": [
        {
         "dimensions": [
          {
           "label": "hidden_layers",
           "values": [
            2,
            2,
            2,
            3,
            3,
            3,
            4,
            4,
            4,
            5,
            5,
            5,
            6,
            6,
            6,
            7,
            7,
            7,
            8,
            8,
            8,
            9,
            9,
            9,
            10,
            10,
            10
           ]
          },
          {
           "label": "hidden_units",
           "values": [
            32,
            64,
            128,
            32,
            64,
            128,
            32,
            64,
            128,
            32,
            64,
            128,
            32,
            64,
            128,
            32,
            64,
            128,
            32,
            64,
            128,
            32,
            64,
            128,
            32,
            64,
            128
           ]
          },
          {
           "label": "average_loss",
           "values": [
            0.11701419800519944,
            0.1085217073559761,
            0.09898357540369034,
            0.12455113977193832,
            0.11007597893476487,
            0.09881208091974258,
            0.11645654439926148,
            0.10671028345823289,
            0.19336654245853424,
            0.12457301020622254,
            0.2929555386304855,
            0.9447466373443604,
            0.6679557681083679,
            1.0340219855308532,
            1.0367284893989563,
            1.0376087069511413,
            1.0359164476394653,
            1.0398675084114075,
            1.0349124550819397,
            1.0355639934539795,
            1.0366423964500426,
            1.039640688896179,
            1.0379358410835267,
            1.0379635572433472,
            1.0345528602600098,
            1.0371743440628052,
            1.0375198721885681
           ]
          }
         ],
         "domain": {
          "x": [
           0,
           1
          ],
          "y": [
           0,
           1
          ]
         },
         "line": {
          "color": [
           0.11701419800519944,
           0.1085217073559761,
           0.09898357540369034,
           0.12455113977193832,
           0.11007597893476487,
           0.09881208091974258,
           0.11645654439926148,
           0.10671028345823289,
           0.19336654245853424,
           0.12457301020622254,
           0.2929555386304855,
           0.9447466373443604,
           0.6679557681083679,
           1.0340219855308532,
           1.0367284893989563,
           1.0376087069511413,
           1.0359164476394653,
           1.0398675084114075,
           1.0349124550819397,
           1.0355639934539795,
           1.0366423964500426,
           1.039640688896179,
           1.0379358410835267,
           1.0379635572433472,
           1.0345528602600098,
           1.0371743440628052,
           1.0375198721885681
          ],
          "coloraxis": "coloraxis"
         },
         "name": "",
         "type": "parcoords"
        }
       ],
       "layout": {
        "coloraxis": {
         "cmid": 2,
         "colorbar": {
          "title": {
           "text": "average_loss"
          }
         },
         "colorscale": [
          [
           0,
           "rgb(0, 147, 146)"
          ],
          [
           0.16666666666666666,
           "rgb(114, 170, 161)"
          ],
          [
           0.3333333333333333,
           "rgb(177, 199, 179)"
          ],
          [
           0.5,
           "rgb(241, 234, 200)"
          ],
          [
           0.6666666666666666,
           "rgb(229, 185, 173)"
          ],
          [
           0.8333333333333334,
           "rgb(217, 137, 148)"
          ],
          [
           1,
           "rgb(208, 88, 126)"
          ]
         ]
        },
        "legend": {
         "tracegroupgap": 0
        },
        "margin": {
         "t": 60
        },
        "template": {
         "data": {
          "bar": [
           {
            "error_x": {
             "color": "#2a3f5f"
            },
            "error_y": {
             "color": "#2a3f5f"
            },
            "marker": {
             "line": {
              "color": "#E5ECF6",
              "width": 0.5
             },
             "pattern": {
              "fillmode": "overlay",
              "size": 10,
              "solidity": 0.2
             }
            },
            "type": "bar"
           }
          ],
          "barpolar": [
           {
            "marker": {
             "line": {
              "color": "#E5ECF6",
              "width": 0.5
             },
             "pattern": {
              "fillmode": "overlay",
              "size": 10,
              "solidity": 0.2
             }
            },
            "type": "barpolar"
           }
          ],
          "carpet": [
           {
            "aaxis": {
             "endlinecolor": "#2a3f5f",
             "gridcolor": "white",
             "linecolor": "white",
             "minorgridcolor": "white",
             "startlinecolor": "#2a3f5f"
            },
            "baxis": {
             "endlinecolor": "#2a3f5f",
             "gridcolor": "white",
             "linecolor": "white",
             "minorgridcolor": "white",
             "startlinecolor": "#2a3f5f"
            },
            "type": "carpet"
           }
          ],
          "choropleth": [
           {
            "colorbar": {
             "outlinewidth": 0,
             "ticks": ""
            },
            "type": "choropleth"
           }
          ],
          "contour": [
           {
            "colorbar": {
             "outlinewidth": 0,
             "ticks": ""
            },
            "colorscale": [
             [
              0,
              "#0d0887"
             ],
             [
              0.1111111111111111,
              "#46039f"
             ],
             [
              0.2222222222222222,
              "#7201a8"
             ],
             [
              0.3333333333333333,
              "#9c179e"
             ],
             [
              0.4444444444444444,
              "#bd3786"
             ],
             [
              0.5555555555555556,
              "#d8576b"
             ],
             [
              0.6666666666666666,
              "#ed7953"
             ],
             [
              0.7777777777777778,
              "#fb9f3a"
             ],
             [
              0.8888888888888888,
              "#fdca26"
             ],
             [
              1,
              "#f0f921"
             ]
            ],
            "type": "contour"
           }
          ],
          "contourcarpet": [
           {
            "colorbar": {
             "outlinewidth": 0,
             "ticks": ""
            },
            "type": "contourcarpet"
           }
          ],
          "heatmap": [
           {
            "colorbar": {
             "outlinewidth": 0,
             "ticks": ""
            },
            "colorscale": [
             [
              0,
              "#0d0887"
             ],
             [
              0.1111111111111111,
              "#46039f"
             ],
             [
              0.2222222222222222,
              "#7201a8"
             ],
             [
              0.3333333333333333,
              "#9c179e"
             ],
             [
              0.4444444444444444,
              "#bd3786"
             ],
             [
              0.5555555555555556,
              "#d8576b"
             ],
             [
              0.6666666666666666,
              "#ed7953"
             ],
             [
              0.7777777777777778,
              "#fb9f3a"
             ],
             [
              0.8888888888888888,
              "#fdca26"
             ],
             [
              1,
              "#f0f921"
             ]
            ],
            "type": "heatmap"
           }
          ],
          "heatmapgl": [
           {
            "colorbar": {
             "outlinewidth": 0,
             "ticks": ""
            },
            "colorscale": [
             [
              0,
              "#0d0887"
             ],
             [
              0.1111111111111111,
              "#46039f"
             ],
             [
              0.2222222222222222,
              "#7201a8"
             ],
             [
              0.3333333333333333,
              "#9c179e"
             ],
             [
              0.4444444444444444,
              "#bd3786"
             ],
             [
              0.5555555555555556,
              "#d8576b"
             ],
             [
              0.6666666666666666,
              "#ed7953"
             ],
             [
              0.7777777777777778,
              "#fb9f3a"
             ],
             [
              0.8888888888888888,
              "#fdca26"
             ],
             [
              1,
              "#f0f921"
             ]
            ],
            "type": "heatmapgl"
           }
          ],
          "histogram": [
           {
            "marker": {
             "pattern": {
              "fillmode": "overlay",
              "size": 10,
              "solidity": 0.2
             }
            },
            "type": "histogram"
           }
          ],
          "histogram2d": [
           {
            "colorbar": {
             "outlinewidth": 0,
             "ticks": ""
            },
            "colorscale": [
             [
              0,
              "#0d0887"
             ],
             [
              0.1111111111111111,
              "#46039f"
             ],
             [
              0.2222222222222222,
              "#7201a8"
             ],
             [
              0.3333333333333333,
              "#9c179e"
             ],
             [
              0.4444444444444444,
              "#bd3786"
             ],
             [
              0.5555555555555556,
              "#d8576b"
             ],
             [
              0.6666666666666666,
              "#ed7953"
             ],
             [
              0.7777777777777778,
              "#fb9f3a"
             ],
             [
              0.8888888888888888,
              "#fdca26"
             ],
             [
              1,
              "#f0f921"
             ]
            ],
            "type": "histogram2d"
           }
          ],
          "histogram2dcontour": [
           {
            "colorbar": {
             "outlinewidth": 0,
             "ticks": ""
            },
            "colorscale": [
             [
              0,
              "#0d0887"
             ],
             [
              0.1111111111111111,
              "#46039f"
             ],
             [
              0.2222222222222222,
              "#7201a8"
             ],
             [
              0.3333333333333333,
              "#9c179e"
             ],
             [
              0.4444444444444444,
              "#bd3786"
             ],
             [
              0.5555555555555556,
              "#d8576b"
             ],
             [
              0.6666666666666666,
              "#ed7953"
             ],
             [
              0.7777777777777778,
              "#fb9f3a"
             ],
             [
              0.8888888888888888,
              "#fdca26"
             ],
             [
              1,
              "#f0f921"
             ]
            ],
            "type": "histogram2dcontour"
           }
          ],
          "mesh3d": [
           {
            "colorbar": {
             "outlinewidth": 0,
             "ticks": ""
            },
            "type": "mesh3d"
           }
          ],
          "parcoords": [
           {
            "line": {
             "colorbar": {
              "outlinewidth": 0,
              "ticks": ""
             }
            },
            "type": "parcoords"
           }
          ],
          "pie": [
           {
            "automargin": true,
            "type": "pie"
           }
          ],
          "scatter": [
           {
            "fillpattern": {
             "fillmode": "overlay",
             "size": 10,
             "solidity": 0.2
            },
            "type": "scatter"
           }
          ],
          "scatter3d": [
           {
            "line": {
             "colorbar": {
              "outlinewidth": 0,
              "ticks": ""
             }
            },
            "marker": {
             "colorbar": {
              "outlinewidth": 0,
              "ticks": ""
             }
            },
            "type": "scatter3d"
           }
          ],
          "scattercarpet": [
           {
            "marker": {
             "colorbar": {
              "outlinewidth": 0,
              "ticks": ""
             }
            },
            "type": "scattercarpet"
           }
          ],
          "scattergeo": [
           {
            "marker": {
             "colorbar": {
              "outlinewidth": 0,
              "ticks": ""
             }
            },
            "type": "scattergeo"
           }
          ],
          "scattergl": [
           {
            "marker": {
             "colorbar": {
              "outlinewidth": 0,
              "ticks": ""
             }
            },
            "type": "scattergl"
           }
          ],
          "scattermapbox": [
           {
            "marker": {
             "colorbar": {
              "outlinewidth": 0,
              "ticks": ""
             }
            },
            "type": "scattermapbox"
           }
          ],
          "scatterpolar": [
           {
            "marker": {
             "colorbar": {
              "outlinewidth": 0,
              "ticks": ""
             }
            },
            "type": "scatterpolar"
           }
          ],
          "scatterpolargl": [
           {
            "marker": {
             "colorbar": {
              "outlinewidth": 0,
              "ticks": ""
             }
            },
            "type": "scatterpolargl"
           }
          ],
          "scatterternary": [
           {
            "marker": {
             "colorbar": {
              "outlinewidth": 0,
              "ticks": ""
             }
            },
            "type": "scatterternary"
           }
          ],
          "surface": [
           {
            "colorbar": {
             "outlinewidth": 0,
             "ticks": ""
            },
            "colorscale": [
             [
              0,
              "#0d0887"
             ],
             [
              0.1111111111111111,
              "#46039f"
             ],
             [
              0.2222222222222222,
              "#7201a8"
             ],
             [
              0.3333333333333333,
              "#9c179e"
             ],
             [
              0.4444444444444444,
              "#bd3786"
             ],
             [
              0.5555555555555556,
              "#d8576b"
             ],
             [
              0.6666666666666666,
              "#ed7953"
             ],
             [
              0.7777777777777778,
              "#fb9f3a"
             ],
             [
              0.8888888888888888,
              "#fdca26"
             ],
             [
              1,
              "#f0f921"
             ]
            ],
            "type": "surface"
           }
          ],
          "table": [
           {
            "cells": {
             "fill": {
              "color": "#EBF0F8"
             },
             "line": {
              "color": "white"
             }
            },
            "header": {
             "fill": {
              "color": "#C8D4E3"
             },
             "line": {
              "color": "white"
             }
            },
            "type": "table"
           }
          ]
         },
         "layout": {
          "annotationdefaults": {
           "arrowcolor": "#2a3f5f",
           "arrowhead": 0,
           "arrowwidth": 1
          },
          "autotypenumbers": "strict",
          "coloraxis": {
           "colorbar": {
            "outlinewidth": 0,
            "ticks": ""
           }
          },
          "colorscale": {
           "diverging": [
            [
             0,
             "#8e0152"
            ],
            [
             0.1,
             "#c51b7d"
            ],
            [
             0.2,
             "#de77ae"
            ],
            [
             0.3,
             "#f1b6da"
            ],
            [
             0.4,
             "#fde0ef"
            ],
            [
             0.5,
             "#f7f7f7"
            ],
            [
             0.6,
             "#e6f5d0"
            ],
            [
             0.7,
             "#b8e186"
            ],
            [
             0.8,
             "#7fbc41"
            ],
            [
             0.9,
             "#4d9221"
            ],
            [
             1,
             "#276419"
            ]
           ],
           "sequential": [
            [
             0,
             "#0d0887"
            ],
            [
             0.1111111111111111,
             "#46039f"
            ],
            [
             0.2222222222222222,
             "#7201a8"
            ],
            [
             0.3333333333333333,
             "#9c179e"
            ],
            [
             0.4444444444444444,
             "#bd3786"
            ],
            [
             0.5555555555555556,
             "#d8576b"
            ],
            [
             0.6666666666666666,
             "#ed7953"
            ],
            [
             0.7777777777777778,
             "#fb9f3a"
            ],
            [
             0.8888888888888888,
             "#fdca26"
            ],
            [
             1,
             "#f0f921"
            ]
           ],
           "sequentialminus": [
            [
             0,
             "#0d0887"
            ],
            [
             0.1111111111111111,
             "#46039f"
            ],
            [
             0.2222222222222222,
             "#7201a8"
            ],
            [
             0.3333333333333333,
             "#9c179e"
            ],
            [
             0.4444444444444444,
             "#bd3786"
            ],
            [
             0.5555555555555556,
             "#d8576b"
            ],
            [
             0.6666666666666666,
             "#ed7953"
            ],
            [
             0.7777777777777778,
             "#fb9f3a"
            ],
            [
             0.8888888888888888,
             "#fdca26"
            ],
            [
             1,
             "#f0f921"
            ]
           ]
          },
          "colorway": [
           "#636efa",
           "#EF553B",
           "#00cc96",
           "#ab63fa",
           "#FFA15A",
           "#19d3f3",
           "#FF6692",
           "#B6E880",
           "#FF97FF",
           "#FECB52"
          ],
          "font": {
           "color": "#2a3f5f"
          },
          "geo": {
           "bgcolor": "white",
           "lakecolor": "white",
           "landcolor": "#E5ECF6",
           "showlakes": true,
           "showland": true,
           "subunitcolor": "white"
          },
          "hoverlabel": {
           "align": "left"
          },
          "hovermode": "closest",
          "mapbox": {
           "style": "light"
          },
          "paper_bgcolor": "white",
          "plot_bgcolor": "#E5ECF6",
          "polar": {
           "angularaxis": {
            "gridcolor": "white",
            "linecolor": "white",
            "ticks": ""
           },
           "bgcolor": "#E5ECF6",
           "radialaxis": {
            "gridcolor": "white",
            "linecolor": "white",
            "ticks": ""
           }
          },
          "scene": {
           "xaxis": {
            "backgroundcolor": "#E5ECF6",
            "gridcolor": "white",
            "gridwidth": 2,
            "linecolor": "white",
            "showbackground": true,
            "ticks": "",
            "zerolinecolor": "white"
           },
           "yaxis": {
            "backgroundcolor": "#E5ECF6",
            "gridcolor": "white",
            "gridwidth": 2,
            "linecolor": "white",
            "showbackground": true,
            "ticks": "",
            "zerolinecolor": "white"
           },
           "zaxis": {
            "backgroundcolor": "#E5ECF6",
            "gridcolor": "white",
            "gridwidth": 2,
            "linecolor": "white",
            "showbackground": true,
            "ticks": "",
            "zerolinecolor": "white"
           }
          },
          "shapedefaults": {
           "line": {
            "color": "#2a3f5f"
           }
          },
          "ternary": {
           "aaxis": {
            "gridcolor": "white",
            "linecolor": "white",
            "ticks": ""
           },
           "baxis": {
            "gridcolor": "white",
            "linecolor": "white",
            "ticks": ""
           },
           "bgcolor": "#E5ECF6",
           "caxis": {
            "gridcolor": "white",
            "linecolor": "white",
            "ticks": ""
           }
          },
          "title": {
           "x": 0.05
          },
          "xaxis": {
           "automargin": true,
           "gridcolor": "white",
           "linecolor": "white",
           "ticks": "",
           "title": {
            "standoff": 15
           },
           "zerolinecolor": "white",
           "zerolinewidth": 2
          },
          "yaxis": {
           "automargin": true,
           "gridcolor": "white",
           "linecolor": "white",
           "ticks": "",
           "title": {
            "standoff": 15
           },
           "zerolinecolor": "white",
           "zerolinewidth": 2
          }
         }
        }
       }
      }
     },
     "metadata": {},
     "output_type": "display_data"
    }
   ],
   "source": [
    "fig = px.parallel_coordinates(df, color=\"average_loss\",\n",
    "                              color_continuous_scale=px.colors.diverging.Tealrose,\n",
    "                              color_continuous_midpoint=2)\n",
    "fig.show()\n"
   ]
  },
  {
   "cell_type": "code",
   "execution_count": 5,
   "metadata": {},
   "outputs": [
    {
     "name": "stdout",
     "output_type": "stream",
     "text": [
      "Epoch: 0\n",
      "-------\n",
      "Loss: 1.2951505726033992\n",
      "Epoch: 50\n",
      "-------\n",
      "Loss: 0.9436066069386222\n",
      "Epoch: 100\n",
      "-------\n",
      "Loss: 1.01465519991788\n",
      "Epoch: 150\n",
      "-------\n",
      "Loss: 1.0016494935209102\n",
      "Epoch: 200\n",
      "-------\n",
      "Loss: 0.9765080538662997\n",
      "Epoch: 250\n",
      "-------\n",
      "Loss: 0.9297991259531542\n",
      "Epoch: 300\n",
      "-------\n",
      "Loss: 1.0272549986839294\n",
      "Epoch: 350\n",
      "-------\n",
      "Loss: 1.0097867846488953\n",
      "Epoch: 400\n",
      "-------\n",
      "Loss: 1.0563481775197117\n",
      "Epoch: 450\n",
      "-------\n",
      "Loss: 1.0052577636458657\n",
      "\n",
      "Evaluation on Test Data\n",
      "------------------------\n",
      "Average Test Loss: 1.0451125621795654\n",
      "Epoch: 0\n",
      "-------\n",
      "Loss: 1.317843328822743\n",
      "Epoch: 50\n",
      "-------\n",
      "Loss: 0.9853831258687106\n",
      "Epoch: 100\n",
      "-------\n",
      "Loss: 0.9634399088946256\n",
      "Epoch: 150\n",
      "-------\n",
      "Loss: 0.9796543554826216\n",
      "Epoch: 200\n",
      "-------\n",
      "Loss: 0.9679790897802873\n",
      "Epoch: 250\n",
      "-------\n",
      "Loss: 1.0216174504973672\n",
      "Epoch: 300\n",
      "-------\n",
      "Loss: 1.0177323818206787\n",
      "Epoch: 350\n",
      "-------\n",
      "Loss: 0.9425522007725455\n",
      "Epoch: 400\n",
      "-------\n",
      "Loss: 0.9527037089521234\n",
      "Epoch: 450\n",
      "-------\n",
      "Loss: 0.9474860321391713\n",
      "\n",
      "Evaluation on Test Data\n",
      "------------------------\n",
      "Average Test Loss: 1.0454032301902771\n",
      "Epoch: 0\n",
      "-------\n",
      "Loss: 1.2625465393066406\n",
      "Epoch: 50\n",
      "-------\n",
      "Loss: 0.7692221186377786\n",
      "Epoch: 100\n",
      "-------\n",
      "Loss: 0.7376471216028387\n",
      "Epoch: 150\n",
      "-------\n",
      "Loss: 0.7014750106768175\n",
      "Epoch: 200\n",
      "-------\n",
      "Loss: 0.7670124931768938\n",
      "Epoch: 250\n",
      "-------\n",
      "Loss: 0.7168187661604448\n",
      "Epoch: 300\n",
      "-------\n",
      "Loss: 0.6919040869582783\n",
      "Epoch: 350\n",
      "-------\n",
      "Loss: 0.7281310179016807\n",
      "Epoch: 400\n",
      "-------\n",
      "Loss: 0.7056872167370536\n",
      "Epoch: 450\n",
      "-------\n",
      "Loss: 0.7045725204727866\n",
      "\n",
      "Evaluation on Test Data\n",
      "------------------------\n",
      "Average Test Loss: 0.7877357840538025\n",
      "Epoch: 0\n",
      "-------\n",
      "Loss: 1.3173588080839678\n",
      "Epoch: 50\n",
      "-------\n",
      "Loss: 0.369609536095099\n",
      "Epoch: 100\n",
      "-------\n",
      "Loss: 0.23056208816441623\n",
      "Epoch: 150\n",
      "-------\n",
      "Loss: 0.21841234375130048\n",
      "Epoch: 200\n",
      "-------\n",
      "Loss: 0.21419960666786542\n",
      "Epoch: 250\n",
      "-------\n",
      "Loss: 0.19620517167178067\n",
      "Epoch: 300\n",
      "-------\n",
      "Loss: 0.18408877199346368\n",
      "Epoch: 350\n",
      "-------\n",
      "Loss: 0.1989530690691688\n",
      "Epoch: 400\n",
      "-------\n",
      "Loss: 0.17419810593128204\n",
      "Epoch: 450\n",
      "-------\n",
      "Loss: 0.17514983225952496\n",
      "\n",
      "Evaluation on Test Data\n",
      "------------------------\n",
      "Average Test Loss: 0.24226209819316863\n",
      "Epoch: 0\n",
      "-------\n",
      "Loss: 1.2612426443533464\n",
      "Epoch: 50\n",
      "-------\n",
      "Loss: 0.9498615806752985\n",
      "Epoch: 100\n",
      "-------\n",
      "Loss: 1.0002892342480747\n",
      "Epoch: 150\n",
      "-------\n",
      "Loss: 0.9640041914853182\n",
      "Epoch: 200\n",
      "-------\n",
      "Loss: 0.9880609837445345\n",
      "Epoch: 250\n",
      "-------\n",
      "Loss: 0.9848241860216315\n",
      "Epoch: 300\n",
      "-------\n",
      "Loss: 0.9632588733326305\n",
      "Epoch: 350\n",
      "-------\n",
      "Loss: 0.9579199823466215\n",
      "Epoch: 400\n",
      "-------\n",
      "Loss: 0.9658587304028597\n",
      "Epoch: 450\n",
      "-------\n",
      "Loss: 1.0087936141274192\n",
      "\n",
      "Evaluation on Test Data\n",
      "------------------------\n",
      "Average Test Loss: 1.0450719833374023\n",
      "Epoch: 0\n",
      "-------\n",
      "Loss: 1.3604731126265093\n",
      "Epoch: 50\n",
      "-------\n",
      "Loss: 0.9606552449139681\n",
      "Epoch: 100\n",
      "-------\n",
      "Loss: 0.9656439477747137\n",
      "Epoch: 150\n",
      "-------\n",
      "Loss: 1.0990454066883435\n",
      "Epoch: 200\n",
      "-------\n",
      "Loss: 0.9899739948186007\n",
      "Epoch: 250\n",
      "-------\n",
      "Loss: 0.9575447711077604\n",
      "Epoch: 300\n",
      "-------\n",
      "Loss: 1.0239963748238303\n",
      "Epoch: 350\n",
      "-------\n",
      "Loss: 0.9317368133501573\n",
      "Epoch: 400\n",
      "-------\n",
      "Loss: 0.9577124769037421\n",
      "Epoch: 450\n",
      "-------\n",
      "Loss: 0.9522855606946078\n",
      "\n",
      "Evaluation on Test Data\n",
      "------------------------\n",
      "Average Test Loss: 1.0448859930038452\n",
      "Epoch: 0\n",
      "-------\n",
      "Loss: 1.3001623587174849\n",
      "Epoch: 50\n",
      "-------\n",
      "Loss: 0.9419430927796797\n",
      "Epoch: 100\n",
      "-------\n",
      "Loss: 0.8638083961876956\n",
      "Epoch: 150\n",
      "-------\n",
      "Loss: 0.9028221585533835\n",
      "Epoch: 200\n",
      "-------\n",
      "Loss: 0.9111319238489325\n",
      "Epoch: 250\n",
      "-------\n",
      "Loss: 0.8618107194250281\n",
      "Epoch: 300\n",
      "-------\n",
      "Loss: 0.9311821352351796\n",
      "Epoch: 350\n",
      "-------\n",
      "Loss: 0.8861128037626093\n",
      "Epoch: 400\n",
      "-------\n",
      "Loss: 0.9735044620253823\n",
      "Epoch: 450\n",
      "-------\n",
      "Loss: 0.9323080398819663\n",
      "\n",
      "Evaluation on Test Data\n",
      "------------------------\n",
      "Average Test Loss: 0.9604656815528869\n",
      "Epoch: 0\n",
      "-------\n",
      "Loss: 1.4809718240391125\n",
      "Epoch: 50\n",
      "-------\n",
      "Loss: 0.34463033892891626\n",
      "Epoch: 100\n",
      "-------\n",
      "Loss: 0.24175968901677566\n",
      "Epoch: 150\n",
      "-------\n",
      "Loss: 0.21370776674964212\n",
      "Epoch: 200\n",
      "-------\n",
      "Loss: 0.19883974302898755\n",
      "Epoch: 250\n",
      "-------\n",
      "Loss: 0.1995019939812747\n",
      "Epoch: 300\n",
      "-------\n",
      "Loss: 0.18809245797720822\n",
      "Epoch: 350\n",
      "-------\n",
      "Loss: 0.1892287710850889\n",
      "Epoch: 400\n",
      "-------\n",
      "Loss: 0.1753660047596151\n",
      "Epoch: 450\n",
      "-------\n",
      "Loss: 0.15852779217741705\n",
      "\n",
      "Evaluation on Test Data\n",
      "------------------------\n",
      "Average Test Loss: 0.23765479028224945\n",
      "Epoch: 0\n",
      "-------\n",
      "Loss: 1.162176625295119\n",
      "Epoch: 50\n",
      "-------\n",
      "Loss: 1.0536033565347844\n",
      "Epoch: 100\n",
      "-------\n",
      "Loss: 0.9494769627397711\n",
      "Epoch: 150\n",
      "-------\n",
      "Loss: 1.0206410776485095\n",
      "Epoch: 200\n",
      "-------\n",
      "Loss: 0.9618108976971019\n",
      "Epoch: 250\n",
      "-------\n",
      "Loss: 1.0081737041473389\n",
      "Epoch: 300\n",
      "-------\n",
      "Loss: 1.0730616612867876\n",
      "Epoch: 350\n",
      "-------\n",
      "Loss: 0.9243906790559943\n",
      "Epoch: 400\n",
      "-------\n",
      "Loss: 1.0207294604995034\n",
      "Epoch: 450\n",
      "-------\n",
      "Loss: 1.1122974103147334\n",
      "\n",
      "Evaluation on Test Data\n",
      "------------------------\n",
      "Average Test Loss: 1.0454233765602112\n",
      "Epoch: 0\n",
      "-------\n",
      "Loss: 1.4239420890808105\n",
      "Epoch: 50\n",
      "-------\n",
      "Loss: 0.9888334816152399\n",
      "Epoch: 100\n",
      "-------\n",
      "Loss: 0.9989447051828558\n",
      "Epoch: 150\n",
      "-------\n",
      "Loss: 0.9914678226817738\n",
      "Epoch: 200\n",
      "-------\n",
      "Loss: 1.0106200630014592\n",
      "Epoch: 250\n",
      "-------\n",
      "Loss: 1.0753120183944702\n",
      "Epoch: 300\n",
      "-------\n",
      "Loss: 0.9988198551264676\n",
      "Epoch: 350\n",
      "-------\n",
      "Loss: 1.0057624741034075\n",
      "Epoch: 400\n",
      "-------\n",
      "Loss: 0.9610119462013245\n",
      "Epoch: 450\n",
      "-------\n",
      "Loss: 0.9686725464734164\n",
      "\n",
      "Evaluation on Test Data\n",
      "------------------------\n",
      "Average Test Loss: 1.0448169946670531\n",
      "Epoch: 0\n",
      "-------\n",
      "Loss: 1.2266912893815474\n",
      "Epoch: 50\n",
      "-------\n",
      "Loss: 0.9474336830052462\n",
      "Epoch: 100\n",
      "-------\n",
      "Loss: 1.0186402580954812\n",
      "Epoch: 150\n",
      "-------\n",
      "Loss: 1.008797363801436\n",
      "Epoch: 200\n",
      "-------\n",
      "Loss: 0.9527277567169883\n",
      "Epoch: 250\n",
      "-------\n",
      "Loss: 0.9534097909927368\n",
      "Epoch: 300\n",
      "-------\n",
      "Loss: 1.057030807841908\n",
      "Epoch: 350\n",
      "-------\n",
      "Loss: 0.9537936774167147\n",
      "Epoch: 400\n",
      "-------\n",
      "Loss: 0.9446697912432931\n",
      "Epoch: 450\n",
      "-------\n",
      "Loss: 1.0205500396815212\n",
      "\n",
      "Evaluation on Test Data\n",
      "------------------------\n",
      "Average Test Loss: 1.0445733308792113\n",
      "Epoch: 0\n",
      "-------\n",
      "Loss: 1.227670967578888\n",
      "Epoch: 50\n",
      "-------\n",
      "Loss: 1.023043697530573\n",
      "Epoch: 100\n",
      "-------\n",
      "Loss: 0.9379100880839608\n",
      "Epoch: 150\n",
      "-------\n",
      "Loss: 0.9385884404182434\n",
      "Epoch: 200\n",
      "-------\n",
      "Loss: 0.9733543341810053\n",
      "Epoch: 250\n",
      "-------\n",
      "Loss: 0.9696366299282421\n",
      "Epoch: 300\n",
      "-------\n",
      "Loss: 0.9481178576296027\n",
      "Epoch: 350\n",
      "-------\n",
      "Loss: 0.9449803693728014\n",
      "Epoch: 400\n",
      "-------\n",
      "Loss: 1.0004645477641712\n",
      "Epoch: 450\n",
      "-------\n",
      "Loss: 0.9274686818773096\n",
      "\n",
      "Evaluation on Test Data\n",
      "------------------------\n",
      "Average Test Loss: 1.045264768600464\n",
      "Epoch: 0\n",
      "-------\n",
      "Loss: 1.4171725511550903\n",
      "Epoch: 50\n",
      "-------\n",
      "Loss: 0.9802785190668973\n",
      "Epoch: 100\n",
      "-------\n",
      "Loss: 0.9808724034916271\n",
      "Epoch: 150\n",
      "-------\n",
      "Loss: 0.9937902363863859\n",
      "Epoch: 200\n",
      "-------\n",
      "Loss: 0.9733680920167402\n",
      "Epoch: 250\n",
      "-------\n",
      "Loss: 0.923120616511865\n",
      "Epoch: 300\n",
      "-------\n",
      "Loss: 0.9346643171527169\n",
      "Epoch: 350\n",
      "-------\n",
      "Loss: 0.960753018205816\n",
      "Epoch: 400\n",
      "-------\n",
      "Loss: 0.9632255164059725\n",
      "Epoch: 450\n",
      "-------\n",
      "Loss: 1.010003680532629\n",
      "\n",
      "Evaluation on Test Data\n",
      "------------------------\n",
      "Average Test Loss: 1.0450591921806336\n",
      "Epoch: 0\n",
      "-------\n",
      "Loss: 1.3402038704265247\n",
      "Epoch: 50\n",
      "-------\n",
      "Loss: 0.9604585279117931\n",
      "Epoch: 100\n",
      "-------\n",
      "Loss: 0.9844077012755654\n",
      "Epoch: 150\n",
      "-------\n",
      "Loss: 0.9588102102279663\n",
      "Epoch: 200\n",
      "-------\n",
      "Loss: 0.9571113098751415\n",
      "Epoch: 250\n",
      "-------\n",
      "Loss: 0.9822495200417258\n",
      "Epoch: 300\n",
      "-------\n",
      "Loss: 0.9748629548332908\n",
      "Epoch: 350\n",
      "-------\n",
      "Loss: 0.9798666889017279\n",
      "Epoch: 400\n",
      "-------\n",
      "Loss: 0.9869806333021685\n",
      "Epoch: 450\n",
      "-------\n",
      "Loss: 1.0143161416053772\n",
      "\n",
      "Evaluation on Test Data\n",
      "------------------------\n",
      "Average Test Loss: 1.0458934307098389\n",
      "Epoch: 0\n",
      "-------\n",
      "Loss: 1.5979172749952837\n",
      "Epoch: 50\n",
      "-------\n",
      "Loss: 1.0651601552963257\n",
      "Epoch: 100\n",
      "-------\n",
      "Loss: 0.9780057506127791\n",
      "Epoch: 150\n",
      "-------\n",
      "Loss: 0.9408495182340796\n",
      "Epoch: 200\n",
      "-------\n",
      "Loss: 0.9376741701906378\n",
      "Epoch: 250\n",
      "-------\n",
      "Loss: 0.9422308504581451\n",
      "Epoch: 300\n",
      "-------\n",
      "Loss: 0.9408697133714502\n",
      "Epoch: 350\n",
      "-------\n",
      "Loss: 1.0638598799705505\n",
      "Epoch: 400\n",
      "-------\n",
      "Loss: 0.9910550659353082\n",
      "Epoch: 450\n",
      "-------\n",
      "Loss: 0.9729477763175964\n",
      "\n",
      "Evaluation on Test Data\n",
      "------------------------\n",
      "Average Test Loss: 1.0461643815040589\n",
      "Epoch: 0\n",
      "-------\n",
      "Loss: 1.521216327493841\n",
      "Epoch: 50\n",
      "-------\n",
      "Loss: 1.045773067257621\n",
      "Epoch: 100\n",
      "-------\n",
      "Loss: 1.0296518260782415\n",
      "Epoch: 150\n",
      "-------\n",
      "Loss: 1.0550822398879312\n",
      "Epoch: 200\n",
      "-------\n",
      "Loss: 0.998257880861109\n",
      "Epoch: 250\n",
      "-------\n",
      "Loss: 0.938357412815094\n",
      "Epoch: 300\n",
      "-------\n",
      "Loss: 0.9767376672137867\n",
      "Epoch: 350\n",
      "-------\n",
      "Loss: 1.0334763472730464\n",
      "Epoch: 400\n",
      "-------\n",
      "Loss: 0.9819281643087213\n",
      "Epoch: 450\n",
      "-------\n",
      "Loss: 0.9785739887844432\n",
      "\n",
      "Evaluation on Test Data\n",
      "------------------------\n",
      "Average Test Loss: 1.0466971039772033\n"
     ]
    }
   ],
   "source": [
    "# Define the configurations\n",
    "hidden_layers_options = list(range(2, 4))  # 2 to 10 inclusive\n",
    "hidden_units_options = [64,128]\n",
    "weight_decay_options = [0.01,0.001,0.0001,0.00001]\n",
    "\n",
    "# Initialize a list to store the results\n",
    "results = []\n",
    "\n",
    "loss_fn = torch.nn.MSELoss()\n",
    "optimizer = torch.optim.Adam\n",
    "\n",
    "# Loop over the configurations\n",
    "for hidden_layers in hidden_layers_options:\n",
    "    for hidden_units in hidden_units_options:\n",
    "        for weight_decay in weight_decay_options:\n",
    "            # Create the model\n",
    "            model = BatchEnsemble(ensemble_size=10, input_shape=8, hidden_layers=hidden_layers, hidden_units=hidden_units, output_shape=1)\n",
    "\n",
    "            # Train the model and get the average loss on test data\n",
    "            result = train_models(model=model, ensemble_type='batch', ensemble_size=10, data_noise=0, epochs=500, print_frequency=50, loss_fn=loss_fn, optimizer=optimizer, train_loader=train_loader, test_loader=test_loader, test=True, learning_rate=0.001, weight_decay=weight_decay)\n",
    "\n",
    "            # Append the result to the list\n",
    "            results.append({\n",
    "                'hidden_layers': hidden_layers,\n",
    "                'hidden_units': hidden_units,\n",
    "                'weight_decay': weight_decay,\n",
    "                'average_loss': result\n",
    "            })\n",
    "\n",
    "# Convert the results to a DataFrame\n",
    "\n",
    "df_concrete = pd.DataFrame(results)"
   ]
  },
  {
   "cell_type": "code",
   "execution_count": 6,
   "metadata": {},
   "outputs": [
    {
     "data": {
      "application/vnd.plotly.v1+json": {
       "config": {
        "plotlyServerURL": "https://plot.ly"
       },
       "data": [
        {
         "dimensions": [
          {
           "label": "hidden_layers",
           "values": [
            2,
            2,
            2,
            2,
            2,
            2,
            2,
            2,
            3,
            3,
            3,
            3,
            3,
            3,
            3,
            3
           ]
          },
          {
           "label": "hidden_units",
           "values": [
            64,
            64,
            64,
            64,
            128,
            128,
            128,
            128,
            64,
            64,
            64,
            64,
            128,
            128,
            128,
            128
           ]
          },
          {
           "label": "weight_decay",
           "values": [
            0.01,
            0.001,
            0.0001,
            0.00001,
            0.01,
            0.001,
            0.0001,
            0.00001,
            0.01,
            0.001,
            0.0001,
            0.00001,
            0.01,
            0.001,
            0.0001,
            0.00001
           ]
          },
          {
           "label": "average_loss",
           "values": [
            1.0451125621795654,
            1.0454032301902771,
            0.7877357840538025,
            0.24226209819316863,
            1.0450719833374023,
            1.0448859930038452,
            0.9604656815528869,
            0.23765479028224945,
            1.0454233765602112,
            1.0448169946670531,
            1.0445733308792113,
            1.045264768600464,
            1.0450591921806336,
            1.0458934307098389,
            1.0461643815040589,
            1.0466971039772033
           ]
          }
         ],
         "domain": {
          "x": [
           0,
           1
          ],
          "y": [
           0,
           1
          ]
         },
         "line": {
          "color": [
           1.0451125621795654,
           1.0454032301902771,
           0.7877357840538025,
           0.24226209819316863,
           1.0450719833374023,
           1.0448859930038452,
           0.9604656815528869,
           0.23765479028224945,
           1.0454233765602112,
           1.0448169946670531,
           1.0445733308792113,
           1.045264768600464,
           1.0450591921806336,
           1.0458934307098389,
           1.0461643815040589,
           1.0466971039772033
          ],
          "coloraxis": "coloraxis"
         },
         "name": "",
         "type": "parcoords"
        }
       ],
       "layout": {
        "coloraxis": {
         "cmid": 2,
         "colorbar": {
          "title": {
           "text": "average_loss"
          }
         },
         "colorscale": [
          [
           0,
           "rgb(0, 147, 146)"
          ],
          [
           0.16666666666666666,
           "rgb(114, 170, 161)"
          ],
          [
           0.3333333333333333,
           "rgb(177, 199, 179)"
          ],
          [
           0.5,
           "rgb(241, 234, 200)"
          ],
          [
           0.6666666666666666,
           "rgb(229, 185, 173)"
          ],
          [
           0.8333333333333334,
           "rgb(217, 137, 148)"
          ],
          [
           1,
           "rgb(208, 88, 126)"
          ]
         ]
        },
        "legend": {
         "tracegroupgap": 0
        },
        "margin": {
         "t": 60
        },
        "template": {
         "data": {
          "bar": [
           {
            "error_x": {
             "color": "#2a3f5f"
            },
            "error_y": {
             "color": "#2a3f5f"
            },
            "marker": {
             "line": {
              "color": "#E5ECF6",
              "width": 0.5
             },
             "pattern": {
              "fillmode": "overlay",
              "size": 10,
              "solidity": 0.2
             }
            },
            "type": "bar"
           }
          ],
          "barpolar": [
           {
            "marker": {
             "line": {
              "color": "#E5ECF6",
              "width": 0.5
             },
             "pattern": {
              "fillmode": "overlay",
              "size": 10,
              "solidity": 0.2
             }
            },
            "type": "barpolar"
           }
          ],
          "carpet": [
           {
            "aaxis": {
             "endlinecolor": "#2a3f5f",
             "gridcolor": "white",
             "linecolor": "white",
             "minorgridcolor": "white",
             "startlinecolor": "#2a3f5f"
            },
            "baxis": {
             "endlinecolor": "#2a3f5f",
             "gridcolor": "white",
             "linecolor": "white",
             "minorgridcolor": "white",
             "startlinecolor": "#2a3f5f"
            },
            "type": "carpet"
           }
          ],
          "choropleth": [
           {
            "colorbar": {
             "outlinewidth": 0,
             "ticks": ""
            },
            "type": "choropleth"
           }
          ],
          "contour": [
           {
            "colorbar": {
             "outlinewidth": 0,
             "ticks": ""
            },
            "colorscale": [
             [
              0,
              "#0d0887"
             ],
             [
              0.1111111111111111,
              "#46039f"
             ],
             [
              0.2222222222222222,
              "#7201a8"
             ],
             [
              0.3333333333333333,
              "#9c179e"
             ],
             [
              0.4444444444444444,
              "#bd3786"
             ],
             [
              0.5555555555555556,
              "#d8576b"
             ],
             [
              0.6666666666666666,
              "#ed7953"
             ],
             [
              0.7777777777777778,
              "#fb9f3a"
             ],
             [
              0.8888888888888888,
              "#fdca26"
             ],
             [
              1,
              "#f0f921"
             ]
            ],
            "type": "contour"
           }
          ],
          "contourcarpet": [
           {
            "colorbar": {
             "outlinewidth": 0,
             "ticks": ""
            },
            "type": "contourcarpet"
           }
          ],
          "heatmap": [
           {
            "colorbar": {
             "outlinewidth": 0,
             "ticks": ""
            },
            "colorscale": [
             [
              0,
              "#0d0887"
             ],
             [
              0.1111111111111111,
              "#46039f"
             ],
             [
              0.2222222222222222,
              "#7201a8"
             ],
             [
              0.3333333333333333,
              "#9c179e"
             ],
             [
              0.4444444444444444,
              "#bd3786"
             ],
             [
              0.5555555555555556,
              "#d8576b"
             ],
             [
              0.6666666666666666,
              "#ed7953"
             ],
             [
              0.7777777777777778,
              "#fb9f3a"
             ],
             [
              0.8888888888888888,
              "#fdca26"
             ],
             [
              1,
              "#f0f921"
             ]
            ],
            "type": "heatmap"
           }
          ],
          "heatmapgl": [
           {
            "colorbar": {
             "outlinewidth": 0,
             "ticks": ""
            },
            "colorscale": [
             [
              0,
              "#0d0887"
             ],
             [
              0.1111111111111111,
              "#46039f"
             ],
             [
              0.2222222222222222,
              "#7201a8"
             ],
             [
              0.3333333333333333,
              "#9c179e"
             ],
             [
              0.4444444444444444,
              "#bd3786"
             ],
             [
              0.5555555555555556,
              "#d8576b"
             ],
             [
              0.6666666666666666,
              "#ed7953"
             ],
             [
              0.7777777777777778,
              "#fb9f3a"
             ],
             [
              0.8888888888888888,
              "#fdca26"
             ],
             [
              1,
              "#f0f921"
             ]
            ],
            "type": "heatmapgl"
           }
          ],
          "histogram": [
           {
            "marker": {
             "pattern": {
              "fillmode": "overlay",
              "size": 10,
              "solidity": 0.2
             }
            },
            "type": "histogram"
           }
          ],
          "histogram2d": [
           {
            "colorbar": {
             "outlinewidth": 0,
             "ticks": ""
            },
            "colorscale": [
             [
              0,
              "#0d0887"
             ],
             [
              0.1111111111111111,
              "#46039f"
             ],
             [
              0.2222222222222222,
              "#7201a8"
             ],
             [
              0.3333333333333333,
              "#9c179e"
             ],
             [
              0.4444444444444444,
              "#bd3786"
             ],
             [
              0.5555555555555556,
              "#d8576b"
             ],
             [
              0.6666666666666666,
              "#ed7953"
             ],
             [
              0.7777777777777778,
              "#fb9f3a"
             ],
             [
              0.8888888888888888,
              "#fdca26"
             ],
             [
              1,
              "#f0f921"
             ]
            ],
            "type": "histogram2d"
           }
          ],
          "histogram2dcontour": [
           {
            "colorbar": {
             "outlinewidth": 0,
             "ticks": ""
            },
            "colorscale": [
             [
              0,
              "#0d0887"
             ],
             [
              0.1111111111111111,
              "#46039f"
             ],
             [
              0.2222222222222222,
              "#7201a8"
             ],
             [
              0.3333333333333333,
              "#9c179e"
             ],
             [
              0.4444444444444444,
              "#bd3786"
             ],
             [
              0.5555555555555556,
              "#d8576b"
             ],
             [
              0.6666666666666666,
              "#ed7953"
             ],
             [
              0.7777777777777778,
              "#fb9f3a"
             ],
             [
              0.8888888888888888,
              "#fdca26"
             ],
             [
              1,
              "#f0f921"
             ]
            ],
            "type": "histogram2dcontour"
           }
          ],
          "mesh3d": [
           {
            "colorbar": {
             "outlinewidth": 0,
             "ticks": ""
            },
            "type": "mesh3d"
           }
          ],
          "parcoords": [
           {
            "line": {
             "colorbar": {
              "outlinewidth": 0,
              "ticks": ""
             }
            },
            "type": "parcoords"
           }
          ],
          "pie": [
           {
            "automargin": true,
            "type": "pie"
           }
          ],
          "scatter": [
           {
            "fillpattern": {
             "fillmode": "overlay",
             "size": 10,
             "solidity": 0.2
            },
            "type": "scatter"
           }
          ],
          "scatter3d": [
           {
            "line": {
             "colorbar": {
              "outlinewidth": 0,
              "ticks": ""
             }
            },
            "marker": {
             "colorbar": {
              "outlinewidth": 0,
              "ticks": ""
             }
            },
            "type": "scatter3d"
           }
          ],
          "scattercarpet": [
           {
            "marker": {
             "colorbar": {
              "outlinewidth": 0,
              "ticks": ""
             }
            },
            "type": "scattercarpet"
           }
          ],
          "scattergeo": [
           {
            "marker": {
             "colorbar": {
              "outlinewidth": 0,
              "ticks": ""
             }
            },
            "type": "scattergeo"
           }
          ],
          "scattergl": [
           {
            "marker": {
             "colorbar": {
              "outlinewidth": 0,
              "ticks": ""
             }
            },
            "type": "scattergl"
           }
          ],
          "scattermapbox": [
           {
            "marker": {
             "colorbar": {
              "outlinewidth": 0,
              "ticks": ""
             }
            },
            "type": "scattermapbox"
           }
          ],
          "scatterpolar": [
           {
            "marker": {
             "colorbar": {
              "outlinewidth": 0,
              "ticks": ""
             }
            },
            "type": "scatterpolar"
           }
          ],
          "scatterpolargl": [
           {
            "marker": {
             "colorbar": {
              "outlinewidth": 0,
              "ticks": ""
             }
            },
            "type": "scatterpolargl"
           }
          ],
          "scatterternary": [
           {
            "marker": {
             "colorbar": {
              "outlinewidth": 0,
              "ticks": ""
             }
            },
            "type": "scatterternary"
           }
          ],
          "surface": [
           {
            "colorbar": {
             "outlinewidth": 0,
             "ticks": ""
            },
            "colorscale": [
             [
              0,
              "#0d0887"
             ],
             [
              0.1111111111111111,
              "#46039f"
             ],
             [
              0.2222222222222222,
              "#7201a8"
             ],
             [
              0.3333333333333333,
              "#9c179e"
             ],
             [
              0.4444444444444444,
              "#bd3786"
             ],
             [
              0.5555555555555556,
              "#d8576b"
             ],
             [
              0.6666666666666666,
              "#ed7953"
             ],
             [
              0.7777777777777778,
              "#fb9f3a"
             ],
             [
              0.8888888888888888,
              "#fdca26"
             ],
             [
              1,
              "#f0f921"
             ]
            ],
            "type": "surface"
           }
          ],
          "table": [
           {
            "cells": {
             "fill": {
              "color": "#EBF0F8"
             },
             "line": {
              "color": "white"
             }
            },
            "header": {
             "fill": {
              "color": "#C8D4E3"
             },
             "line": {
              "color": "white"
             }
            },
            "type": "table"
           }
          ]
         },
         "layout": {
          "annotationdefaults": {
           "arrowcolor": "#2a3f5f",
           "arrowhead": 0,
           "arrowwidth": 1
          },
          "autotypenumbers": "strict",
          "coloraxis": {
           "colorbar": {
            "outlinewidth": 0,
            "ticks": ""
           }
          },
          "colorscale": {
           "diverging": [
            [
             0,
             "#8e0152"
            ],
            [
             0.1,
             "#c51b7d"
            ],
            [
             0.2,
             "#de77ae"
            ],
            [
             0.3,
             "#f1b6da"
            ],
            [
             0.4,
             "#fde0ef"
            ],
            [
             0.5,
             "#f7f7f7"
            ],
            [
             0.6,
             "#e6f5d0"
            ],
            [
             0.7,
             "#b8e186"
            ],
            [
             0.8,
             "#7fbc41"
            ],
            [
             0.9,
             "#4d9221"
            ],
            [
             1,
             "#276419"
            ]
           ],
           "sequential": [
            [
             0,
             "#0d0887"
            ],
            [
             0.1111111111111111,
             "#46039f"
            ],
            [
             0.2222222222222222,
             "#7201a8"
            ],
            [
             0.3333333333333333,
             "#9c179e"
            ],
            [
             0.4444444444444444,
             "#bd3786"
            ],
            [
             0.5555555555555556,
             "#d8576b"
            ],
            [
             0.6666666666666666,
             "#ed7953"
            ],
            [
             0.7777777777777778,
             "#fb9f3a"
            ],
            [
             0.8888888888888888,
             "#fdca26"
            ],
            [
             1,
             "#f0f921"
            ]
           ],
           "sequentialminus": [
            [
             0,
             "#0d0887"
            ],
            [
             0.1111111111111111,
             "#46039f"
            ],
            [
             0.2222222222222222,
             "#7201a8"
            ],
            [
             0.3333333333333333,
             "#9c179e"
            ],
            [
             0.4444444444444444,
             "#bd3786"
            ],
            [
             0.5555555555555556,
             "#d8576b"
            ],
            [
             0.6666666666666666,
             "#ed7953"
            ],
            [
             0.7777777777777778,
             "#fb9f3a"
            ],
            [
             0.8888888888888888,
             "#fdca26"
            ],
            [
             1,
             "#f0f921"
            ]
           ]
          },
          "colorway": [
           "#636efa",
           "#EF553B",
           "#00cc96",
           "#ab63fa",
           "#FFA15A",
           "#19d3f3",
           "#FF6692",
           "#B6E880",
           "#FF97FF",
           "#FECB52"
          ],
          "font": {
           "color": "#2a3f5f"
          },
          "geo": {
           "bgcolor": "white",
           "lakecolor": "white",
           "landcolor": "#E5ECF6",
           "showlakes": true,
           "showland": true,
           "subunitcolor": "white"
          },
          "hoverlabel": {
           "align": "left"
          },
          "hovermode": "closest",
          "mapbox": {
           "style": "light"
          },
          "paper_bgcolor": "white",
          "plot_bgcolor": "#E5ECF6",
          "polar": {
           "angularaxis": {
            "gridcolor": "white",
            "linecolor": "white",
            "ticks": ""
           },
           "bgcolor": "#E5ECF6",
           "radialaxis": {
            "gridcolor": "white",
            "linecolor": "white",
            "ticks": ""
           }
          },
          "scene": {
           "xaxis": {
            "backgroundcolor": "#E5ECF6",
            "gridcolor": "white",
            "gridwidth": 2,
            "linecolor": "white",
            "showbackground": true,
            "ticks": "",
            "zerolinecolor": "white"
           },
           "yaxis": {
            "backgroundcolor": "#E5ECF6",
            "gridcolor": "white",
            "gridwidth": 2,
            "linecolor": "white",
            "showbackground": true,
            "ticks": "",
            "zerolinecolor": "white"
           },
           "zaxis": {
            "backgroundcolor": "#E5ECF6",
            "gridcolor": "white",
            "gridwidth": 2,
            "linecolor": "white",
            "showbackground": true,
            "ticks": "",
            "zerolinecolor": "white"
           }
          },
          "shapedefaults": {
           "line": {
            "color": "#2a3f5f"
           }
          },
          "ternary": {
           "aaxis": {
            "gridcolor": "white",
            "linecolor": "white",
            "ticks": ""
           },
           "baxis": {
            "gridcolor": "white",
            "linecolor": "white",
            "ticks": ""
           },
           "bgcolor": "#E5ECF6",
           "caxis": {
            "gridcolor": "white",
            "linecolor": "white",
            "ticks": ""
           }
          },
          "title": {
           "x": 0.05
          },
          "xaxis": {
           "automargin": true,
           "gridcolor": "white",
           "linecolor": "white",
           "ticks": "",
           "title": {
            "standoff": 15
           },
           "zerolinecolor": "white",
           "zerolinewidth": 2
          },
          "yaxis": {
           "automargin": true,
           "gridcolor": "white",
           "linecolor": "white",
           "ticks": "",
           "title": {
            "standoff": 15
           },
           "zerolinecolor": "white",
           "zerolinewidth": 2
          }
         }
        }
       }
      }
     },
     "metadata": {},
     "output_type": "display_data"
    }
   ],
   "source": [
    "fig_2 = px.parallel_coordinates(df_concrete, color=\"average_loss\",\n",
    "                              color_continuous_scale=px.colors.diverging.Tealrose,\n",
    "                              color_continuous_midpoint=2)\n",
    "fig_2.show()"
   ]
  },
  {
   "cell_type": "markdown",
   "metadata": {},
   "source": []
  },
  {
   "cell_type": "markdown",
   "metadata": {},
   "source": []
  },
  {
   "cell_type": "markdown",
   "metadata": {},
   "source": []
  }
 ],
 "metadata": {
  "kernelspec": {
   "display_name": "Python 3",
   "language": "python",
   "name": "python3"
  },
  "language_info": {
   "codemirror_mode": {
    "name": "ipython",
    "version": 3
   },
   "file_extension": ".py",
   "mimetype": "text/x-python",
   "name": "python",
   "nbconvert_exporter": "python",
   "pygments_lexer": "ipython3",
   "version": "3.11.6"
  }
 },
 "nbformat": 4,
 "nbformat_minor": 2
}
