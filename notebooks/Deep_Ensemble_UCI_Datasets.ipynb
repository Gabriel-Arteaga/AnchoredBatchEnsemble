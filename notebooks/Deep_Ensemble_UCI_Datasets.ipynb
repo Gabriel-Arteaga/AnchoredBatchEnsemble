{
 "cells": [
  {
   "cell_type": "code",
   "execution_count": 1,
   "metadata": {},
   "outputs": [],
   "source": [
    "import sys\n",
    "sys.path.append('..')\n",
    "import torch\n",
    "from torch import nn\n",
    "import numpy as np\n",
    "from sklearn.model_selection import train_test_split\n",
    "from sklearn.preprocessing import StandardScaler\n",
    "from torch.utils.data import TensorDataset, DataLoader\n",
    "import pandas as pd\n",
    "%matplotlib notebook\n",
    "from ipywidgets import *\n",
    "import matplotlib.pyplot as plt\n",
    "import plotly.express as px\n",
    "from utils.functions import train_models, train_models_w_mean_var, train_and_save_results\n",
    "from utils.models import BatchEnsemble\n",
    "from utils.layers import BatchLinear\n",
    "from utils.layers import AnchoredBatch"
   ]
  },
  {
   "cell_type": "markdown",
   "metadata": {},
   "source": [
    "## Concrete Dataset"
   ]
  },
  {
   "cell_type": "code",
   "execution_count": 2,
   "metadata": {},
   "outputs": [
    {
     "data": {
      "text/html": [
       "<div>\n",
       "<style scoped>\n",
       "    .dataframe tbody tr th:only-of-type {\n",
       "        vertical-align: middle;\n",
       "    }\n",
       "\n",
       "    .dataframe tbody tr th {\n",
       "        vertical-align: top;\n",
       "    }\n",
       "\n",
       "    .dataframe thead th {\n",
       "        text-align: right;\n",
       "    }\n",
       "</style>\n",
       "<table border=\"1\" class=\"dataframe\">\n",
       "  <thead>\n",
       "    <tr style=\"text-align: right;\">\n",
       "      <th></th>\n",
       "      <th>Cement (component 1)(kg in a m^3 mixture)</th>\n",
       "      <th>Blast Furnace Slag (component 2)(kg in a m^3 mixture)</th>\n",
       "      <th>Fly Ash (component 3)(kg in a m^3 mixture)</th>\n",
       "      <th>Water  (component 4)(kg in a m^3 mixture)</th>\n",
       "      <th>Superplasticizer (component 5)(kg in a m^3 mixture)</th>\n",
       "      <th>Coarse Aggregate  (component 6)(kg in a m^3 mixture)</th>\n",
       "      <th>Fine Aggregate (component 7)(kg in a m^3 mixture)</th>\n",
       "      <th>Age (day)</th>\n",
       "      <th>Concrete compressive strength(MPa, megapascals)</th>\n",
       "    </tr>\n",
       "  </thead>\n",
       "  <tbody>\n",
       "    <tr>\n",
       "      <th>0</th>\n",
       "      <td>540.0</td>\n",
       "      <td>0.0</td>\n",
       "      <td>0.0</td>\n",
       "      <td>162.0</td>\n",
       "      <td>2.5</td>\n",
       "      <td>1040.0</td>\n",
       "      <td>676.0</td>\n",
       "      <td>28</td>\n",
       "      <td>79.986111</td>\n",
       "    </tr>\n",
       "    <tr>\n",
       "      <th>1</th>\n",
       "      <td>540.0</td>\n",
       "      <td>0.0</td>\n",
       "      <td>0.0</td>\n",
       "      <td>162.0</td>\n",
       "      <td>2.5</td>\n",
       "      <td>1055.0</td>\n",
       "      <td>676.0</td>\n",
       "      <td>28</td>\n",
       "      <td>61.887366</td>\n",
       "    </tr>\n",
       "    <tr>\n",
       "      <th>2</th>\n",
       "      <td>332.5</td>\n",
       "      <td>142.5</td>\n",
       "      <td>0.0</td>\n",
       "      <td>228.0</td>\n",
       "      <td>0.0</td>\n",
       "      <td>932.0</td>\n",
       "      <td>594.0</td>\n",
       "      <td>270</td>\n",
       "      <td>40.269535</td>\n",
       "    </tr>\n",
       "    <tr>\n",
       "      <th>3</th>\n",
       "      <td>332.5</td>\n",
       "      <td>142.5</td>\n",
       "      <td>0.0</td>\n",
       "      <td>228.0</td>\n",
       "      <td>0.0</td>\n",
       "      <td>932.0</td>\n",
       "      <td>594.0</td>\n",
       "      <td>365</td>\n",
       "      <td>41.052780</td>\n",
       "    </tr>\n",
       "    <tr>\n",
       "      <th>4</th>\n",
       "      <td>198.6</td>\n",
       "      <td>132.4</td>\n",
       "      <td>0.0</td>\n",
       "      <td>192.0</td>\n",
       "      <td>0.0</td>\n",
       "      <td>978.4</td>\n",
       "      <td>825.5</td>\n",
       "      <td>360</td>\n",
       "      <td>44.296075</td>\n",
       "    </tr>\n",
       "  </tbody>\n",
       "</table>\n",
       "</div>"
      ],
      "text/plain": [
       "   Cement (component 1)(kg in a m^3 mixture)  \\\n",
       "0                                      540.0   \n",
       "1                                      540.0   \n",
       "2                                      332.5   \n",
       "3                                      332.5   \n",
       "4                                      198.6   \n",
       "\n",
       "   Blast Furnace Slag (component 2)(kg in a m^3 mixture)  \\\n",
       "0                                                0.0       \n",
       "1                                                0.0       \n",
       "2                                              142.5       \n",
       "3                                              142.5       \n",
       "4                                              132.4       \n",
       "\n",
       "   Fly Ash (component 3)(kg in a m^3 mixture)  \\\n",
       "0                                         0.0   \n",
       "1                                         0.0   \n",
       "2                                         0.0   \n",
       "3                                         0.0   \n",
       "4                                         0.0   \n",
       "\n",
       "   Water  (component 4)(kg in a m^3 mixture)  \\\n",
       "0                                      162.0   \n",
       "1                                      162.0   \n",
       "2                                      228.0   \n",
       "3                                      228.0   \n",
       "4                                      192.0   \n",
       "\n",
       "   Superplasticizer (component 5)(kg in a m^3 mixture)  \\\n",
       "0                                                2.5     \n",
       "1                                                2.5     \n",
       "2                                                0.0     \n",
       "3                                                0.0     \n",
       "4                                                0.0     \n",
       "\n",
       "   Coarse Aggregate  (component 6)(kg in a m^3 mixture)  \\\n",
       "0                                             1040.0      \n",
       "1                                             1055.0      \n",
       "2                                              932.0      \n",
       "3                                              932.0      \n",
       "4                                              978.4      \n",
       "\n",
       "   Fine Aggregate (component 7)(kg in a m^3 mixture)  Age (day)  \\\n",
       "0                                              676.0         28   \n",
       "1                                              676.0         28   \n",
       "2                                              594.0        270   \n",
       "3                                              594.0        365   \n",
       "4                                              825.5        360   \n",
       "\n",
       "   Concrete compressive strength(MPa, megapascals)   \n",
       "0                                         79.986111  \n",
       "1                                         61.887366  \n",
       "2                                         40.269535  \n",
       "3                                         41.052780  \n",
       "4                                         44.296075  "
      ]
     },
     "execution_count": 2,
     "metadata": {},
     "output_type": "execute_result"
    }
   ],
   "source": [
    "# Read data into a pandas dataframe\n",
    "concrete = pd.read_excel('..\\\\data\\\\UCI_Regression\\\\2.Concrete\\\\Concrete_Data.xls')\n",
    "\n",
    "concrete.head()"
   ]
  },
  {
   "cell_type": "code",
   "execution_count": 3,
   "metadata": {},
   "outputs": [],
   "source": [
    "# Set a seed for reproducibility\n",
    "np.random.seed(52)\n",
    "\n",
    "# Split into training and validation datasets\n",
    "concrete_train, concrete_val = train_test_split(concrete, test_size=0.1)\n",
    "concrete_train, concrete_val = concrete_train.to_numpy(), concrete_val.to_numpy()"
   ]
  },
  {
   "cell_type": "code",
   "execution_count": 4,
   "metadata": {},
   "outputs": [
    {
     "name": "stdout",
     "output_type": "stream",
     "text": [
      "torch.Size([648, 8])\n",
      "torch.Size([648, 1])\n",
      "torch.Size([279, 8])\n",
      "torch.Size([279, 1])\n"
     ]
    }
   ],
   "source": [
    "# Subtract mean and divide by standard deviation\n",
    "concrete_scaler = StandardScaler()\n",
    "concrete_scaler.fit(X=concrete_train[:,:8], y=concrete_train[:,8])\n",
    "concrete_train[:,:8] = concrete_scaler.transform(concrete_train[:,:8])\n",
    "\n",
    "# Split the training dataset into train and val\n",
    "x_train, x_test, y_train, y_test = train_test_split(concrete_train[:,:8], concrete_train[:,8],train_size=0.7)\n",
    "\n",
    "device = torch.device('cuda' if torch.cuda.is_available() else 'cpu')\n",
    "\n",
    "# Convert numpy arrays to PyTorch tensors\n",
    "x_train_tensor = torch.tensor(x_train, dtype=torch.float32).to(device)\n",
    "y_train_tensor = torch.tensor(y_train, dtype=torch.float32).unsqueeze(1).to(device)\n",
    "x_test_tensor = torch.tensor(x_test, dtype=torch.float32).to(device)\n",
    "y_test_tensor = torch.tensor(y_test, dtype=torch.float32).unsqueeze(1).to(device)\n",
    "\n",
    "print(x_train_tensor.shape)\n",
    "print(y_train_tensor.shape)\n",
    "print(x_test_tensor.shape)\n",
    "print(y_test_tensor.shape)\n",
    "\n",
    "# Create TensorDatasets\n",
    "train_dataset = TensorDataset(x_train_tensor, y_train_tensor)\n",
    "test_dataset = TensorDataset(x_test_tensor, y_test_tensor)\n",
    "\n",
    "# Define a batch size\n",
    "batch_size = 128\n",
    "\n",
    "# Create DataLoaders\n",
    "train_loader = DataLoader(dataset=train_dataset, batch_size=batch_size, shuffle=True)\n",
    "test_loader = DataLoader(dataset=test_dataset, batch_size=batch_size, shuffle=False)\n",
    "\n"
   ]
  },
  {
   "cell_type": "markdown",
   "metadata": {},
   "source": [
    "## Hyperparameter tuning"
   ]
  },
  {
   "cell_type": "code",
   "execution_count": 5,
   "metadata": {},
   "outputs": [
    {
     "name": "stdout",
     "output_type": "stream",
     "text": [
      "Epoch: 0\n",
      "-------\n",
      "Loss: 1442.4045817057292\n"
     ]
    },
    {
     "ename": "KeyboardInterrupt",
     "evalue": "",
     "output_type": "error",
     "traceback": [
      "\u001b[1;31m---------------------------------------------------------------------------\u001b[0m",
      "\u001b[1;31mKeyboardInterrupt\u001b[0m                         Traceback (most recent call last)",
      "\u001b[1;32m~\\AppData\\Local\\Temp\\ipykernel_45948\\4187440687.py\u001b[0m in \u001b[0;36m<cell line: 10>\u001b[1;34m()\u001b[0m\n\u001b[0;32m      8\u001b[0m \u001b[0moptimizer\u001b[0m \u001b[1;33m=\u001b[0m \u001b[0mtorch\u001b[0m\u001b[1;33m.\u001b[0m\u001b[0moptim\u001b[0m\u001b[1;33m.\u001b[0m\u001b[0mAdam\u001b[0m\u001b[1;33m\u001b[0m\u001b[1;33m\u001b[0m\u001b[0m\n\u001b[0;32m      9\u001b[0m \u001b[1;33m\u001b[0m\u001b[0m\n\u001b[1;32m---> 10\u001b[1;33m \u001b[0mtrain_and_save_results\u001b[0m\u001b[1;33m(\u001b[0m\u001b[0mmodel_name\u001b[0m \u001b[1;33m=\u001b[0m \u001b[1;34m'batch'\u001b[0m\u001b[1;33m,\u001b[0m \u001b[0mhidden_layers_options\u001b[0m\u001b[1;33m=\u001b[0m\u001b[0mhidden_layers_options\u001b[0m\u001b[1;33m,\u001b[0m \u001b[0mhidden_units_options\u001b[0m\u001b[1;33m=\u001b[0m\u001b[0mhidden_units_options\u001b[0m\u001b[1;33m,\u001b[0m \u001b[0minput_shape\u001b[0m\u001b[1;33m=\u001b[0m\u001b[1;36m8\u001b[0m\u001b[1;33m,\u001b[0m \u001b[0mloss_fn\u001b[0m\u001b[1;33m=\u001b[0m\u001b[0mloss_fn\u001b[0m\u001b[1;33m,\u001b[0m\u001b[0moptimizer\u001b[0m\u001b[1;33m=\u001b[0m\u001b[0moptimizer\u001b[0m\u001b[1;33m,\u001b[0m \u001b[0mtrain_loader\u001b[0m\u001b[1;33m=\u001b[0m\u001b[0mtrain_loader\u001b[0m\u001b[1;33m,\u001b[0m \u001b[0mtest_loader\u001b[0m\u001b[1;33m=\u001b[0m\u001b[0mtest_loader\u001b[0m\u001b[1;33m,\u001b[0m\u001b[0mensemble_size\u001b[0m\u001b[1;33m=\u001b[0m\u001b[1;36m10\u001b[0m\u001b[1;33m,\u001b[0m\u001b[0mepochs\u001b[0m\u001b[1;33m=\u001b[0m\u001b[1;36m1000\u001b[0m\u001b[1;33m,\u001b[0m \u001b[0mcsv_file\u001b[0m\u001b[1;33m=\u001b[0m\u001b[1;34m'concrete_model_results.csv'\u001b[0m\u001b[1;33m,\u001b[0m\u001b[0mweight_decay_options\u001b[0m\u001b[1;33m=\u001b[0m\u001b[0mweight_decay_options\u001b[0m\u001b[1;33m,\u001b[0m\u001b[0mprint_frequency\u001b[0m\u001b[1;33m=\u001b[0m\u001b[1;36m100\u001b[0m\u001b[1;33m)\u001b[0m\u001b[1;33m\u001b[0m\u001b[1;33m\u001b[0m\u001b[0m\n\u001b[0m",
      "\u001b[1;32mc:\\Users\\yanci\\OneDrive\\Documents\\Bayesian Ensembling Project\\AnchoredBatchEnsemble\\notebooks\\..\\utils\\functions.py\u001b[0m in \u001b[0;36mtrain_and_save_results\u001b[1;34m(model_name, hidden_layers_options, hidden_units_options, input_shape, loss_fn, optimizer, train_loader, test_loader, ensemble_size, epochs, csv_file, print_frequency, weight_decay_options, data_noise_options, test, RMSE, learning_rate, device)\u001b[0m\n\u001b[0;32m    571\u001b[0m                         \u001b[0mmodel\u001b[0m \u001b[1;33m=\u001b[0m \u001b[1;32mNone\u001b[0m\u001b[1;33m\u001b[0m\u001b[1;33m\u001b[0m\u001b[0m\n\u001b[0;32m    572\u001b[0m                     \u001b[1;31m# Train the model and get the average loss on test data\u001b[0m\u001b[1;33m\u001b[0m\u001b[1;33m\u001b[0m\u001b[0m\n\u001b[1;32m--> 573\u001b[1;33m                     GNLLL_result, rmse_result = train_models_w_mean_var(\n\u001b[0m\u001b[0;32m    574\u001b[0m                         \u001b[0mmodel\u001b[0m\u001b[1;33m=\u001b[0m\u001b[0mmodel\u001b[0m\u001b[1;33m,\u001b[0m\u001b[1;33m\u001b[0m\u001b[1;33m\u001b[0m\u001b[0m\n\u001b[0;32m    575\u001b[0m                         \u001b[0mensemble_type\u001b[0m\u001b[1;33m=\u001b[0m\u001b[0mmodel_name\u001b[0m\u001b[1;33m,\u001b[0m\u001b[1;33m\u001b[0m\u001b[1;33m\u001b[0m\u001b[0m\n",
      "\u001b[1;32mc:\\Users\\yanci\\OneDrive\\Documents\\Bayesian Ensembling Project\\AnchoredBatchEnsemble\\notebooks\\..\\utils\\functions.py\u001b[0m in \u001b[0;36mtrain_models_w_mean_var\u001b[1;34m(model, ensemble_type, ensemble_size, data_noise, epochs, print_frequency, loss_fn, optimizer, train_loader, test_loader, test, RMSE, ENCE, learning_rate, weight_decay, device)\u001b[0m\n\u001b[0;32m    394\u001b[0m                 \u001b[0moptimizer\u001b[0m\u001b[1;33m.\u001b[0m\u001b[0mzero_grad\u001b[0m\u001b[1;33m(\u001b[0m\u001b[1;33m)\u001b[0m\u001b[1;33m\u001b[0m\u001b[1;33m\u001b[0m\u001b[0m\n\u001b[0;32m    395\u001b[0m                 \u001b[1;31m# 4. Loss backward\u001b[0m\u001b[1;33m\u001b[0m\u001b[1;33m\u001b[0m\u001b[0m\n\u001b[1;32m--> 396\u001b[1;33m                 \u001b[0mloss\u001b[0m\u001b[1;33m.\u001b[0m\u001b[0mbackward\u001b[0m\u001b[1;33m(\u001b[0m\u001b[1;33m)\u001b[0m\u001b[1;33m\u001b[0m\u001b[1;33m\u001b[0m\u001b[0m\n\u001b[0m\u001b[0;32m    397\u001b[0m                 \u001b[1;31m# 5. Optimizer step\u001b[0m\u001b[1;33m\u001b[0m\u001b[1;33m\u001b[0m\u001b[0m\n\u001b[0;32m    398\u001b[0m                 \u001b[0moptimizer\u001b[0m\u001b[1;33m.\u001b[0m\u001b[0mstep\u001b[0m\u001b[1;33m(\u001b[0m\u001b[1;33m)\u001b[0m\u001b[1;33m\u001b[0m\u001b[1;33m\u001b[0m\u001b[0m\n",
      "\u001b[1;32mc:\\Python\\Python3101\\lib\\site-packages\\torch\\_tensor.py\u001b[0m in \u001b[0;36mbackward\u001b[1;34m(self, gradient, retain_graph, create_graph, inputs)\u001b[0m\n\u001b[0;32m    485\u001b[0m                 \u001b[0minputs\u001b[0m\u001b[1;33m=\u001b[0m\u001b[0minputs\u001b[0m\u001b[1;33m,\u001b[0m\u001b[1;33m\u001b[0m\u001b[1;33m\u001b[0m\u001b[0m\n\u001b[0;32m    486\u001b[0m             )\n\u001b[1;32m--> 487\u001b[1;33m         torch.autograd.backward(\n\u001b[0m\u001b[0;32m    488\u001b[0m             \u001b[0mself\u001b[0m\u001b[1;33m,\u001b[0m \u001b[0mgradient\u001b[0m\u001b[1;33m,\u001b[0m \u001b[0mretain_graph\u001b[0m\u001b[1;33m,\u001b[0m \u001b[0mcreate_graph\u001b[0m\u001b[1;33m,\u001b[0m \u001b[0minputs\u001b[0m\u001b[1;33m=\u001b[0m\u001b[0minputs\u001b[0m\u001b[1;33m\u001b[0m\u001b[1;33m\u001b[0m\u001b[0m\n\u001b[0;32m    489\u001b[0m         )\n",
      "\u001b[1;32mc:\\Python\\Python3101\\lib\\site-packages\\torch\\autograd\\__init__.py\u001b[0m in \u001b[0;36mbackward\u001b[1;34m(tensors, grad_tensors, retain_graph, create_graph, grad_variables, inputs)\u001b[0m\n\u001b[0;32m    198\u001b[0m     \u001b[1;31m# some Python versions print out the first line of a multi-line function\u001b[0m\u001b[1;33m\u001b[0m\u001b[1;33m\u001b[0m\u001b[0m\n\u001b[0;32m    199\u001b[0m     \u001b[1;31m# calls in the traceback and some print out the last line\u001b[0m\u001b[1;33m\u001b[0m\u001b[1;33m\u001b[0m\u001b[0m\n\u001b[1;32m--> 200\u001b[1;33m     Variable._execution_engine.run_backward(  # Calls into the C++ engine to run the backward pass\n\u001b[0m\u001b[0;32m    201\u001b[0m         \u001b[0mtensors\u001b[0m\u001b[1;33m,\u001b[0m \u001b[0mgrad_tensors_\u001b[0m\u001b[1;33m,\u001b[0m \u001b[0mretain_graph\u001b[0m\u001b[1;33m,\u001b[0m \u001b[0mcreate_graph\u001b[0m\u001b[1;33m,\u001b[0m \u001b[0minputs\u001b[0m\u001b[1;33m,\u001b[0m\u001b[1;33m\u001b[0m\u001b[1;33m\u001b[0m\u001b[0m\n\u001b[0;32m    202\u001b[0m         allow_unreachable=True, accumulate_grad=True)  # Calls into the C++ engine to run the backward pass\n",
      "\u001b[1;31mKeyboardInterrupt\u001b[0m: "
     ]
    }
   ],
   "source": [
    "# Initialize list of Hyperparameters to try out\n",
    "hidden_layers_options = list(range(6, 11))  \n",
    "hidden_units_options = [32, 64, 128]\n",
    "weight_decay_options = [0.01,0.001,0.0001,0.00001]\n",
    "\n",
    "# Define loss function and optimizer\n",
    "loss_fn = nn.GaussianNLLLoss()\n",
    "optimizer = torch.optim.Adam\n",
    "\n",
    "# Train and save results\n",
    "train_and_save_results(\n",
    "    model_name = 'batch', \n",
    "    hidden_layers_options = hidden_layers_options, \n",
    "    hidden_units_options = hidden_units_options, \n",
    "    input_shape = 8, \n",
    "    loss_fn = loss_fn,\n",
    "    optimizer = optimizer, \n",
    "    train_loader = train_loader, \n",
    "    test_loader = test_loader,\n",
    "    ensemble_size = 10,\n",
    "    epochs = 1000, \n",
    "    csv_file = 'concrete_model_results.csv',\n",
    "    weight_decay_options = weight_decay_options,\n",
    "    print_frequency = 100,\n",
    "    ENCE=False\n",
    ")\n"
   ]
  },
  {
   "cell_type": "markdown",
   "metadata": {},
   "source": [
    "### Comments\n",
    "We initially trained the different models without explictly taking calibration into account. We will now continue to experiment with our best candidates and investigate if applying re-calibration can help boost performance."
   ]
  },
  {
   "cell_type": "code",
   "execution_count": 37,
   "metadata": {},
   "outputs": [
    {
     "data": {
      "text/plain": [
       "Index(['model', 'ensemble_size', 'hidden_layers', 'hidden_units',\n",
       "       'weight_decay', 'data_noise', 'epochs', 'optimizer', 'loss_fn',\n",
       "       'learning_rate', 'ENCE', 'GNLLL', 'RMSE'],\n",
       "      dtype='object')"
      ]
     },
     "execution_count": 37,
     "metadata": {},
     "output_type": "execute_result"
    }
   ],
   "source": [
    "# Read the results from our trained models\n",
    "df = pd.read_csv('..\\\\results\\concrete_model_results.csv')\n",
    "\n",
    "# Filter out all models which achieves an RMSE worse than 6\n",
    "df_batch = df[(df['RMSE'] < 6) & (df['model'] == 'batch')]\n",
    "df_anchored = df[(df['RMSE'] < 6) & (df['model'] == 'anchored_batch')]\n",
    "df_anchored.columns"
   ]
  },
  {
   "cell_type": "code",
   "execution_count": 34,
   "metadata": {},
   "outputs": [
    {
     "data": {
      "application/vnd.plotly.v1+json": {
       "config": {
        "plotlyServerURL": "https://plot.ly"
       },
       "data": [
        {
         "dimensions": [
          {
           "label": "hidden_units",
           "values": [
            128,
            128,
            128,
            128,
            128,
            128
           ]
          },
          {
           "label": "hidden_layers",
           "values": [
            7,
            8,
            9,
            9,
            10,
            10
           ]
          },
          {
           "label": "weight_decay",
           "values": [
            0.0001,
            0.001,
            0.01,
            0.001,
            0.01,
            0.00001
           ]
          },
          {
           "label": "GNLLL",
           "values": [
            3.652743101119995,
            4.118065198262532,
            3.819531202316284,
            3.683366219202677,
            4.070416212081909,
            3.476388374964396
           ]
          },
          {
           "label": "RMSE",
           "values": [
            5.961671352386475,
            5.996624151865642,
            5.961311181386312,
            5.888752142588298,
            5.857677459716797,
            5.843685309092204
           ]
          }
         ],
         "domain": {
          "x": [
           0,
           1
          ],
          "y": [
           0,
           1
          ]
         },
         "name": "",
         "type": "parcoords"
        }
       ],
       "layout": {
        "legend": {
         "tracegroupgap": 0
        },
        "margin": {
         "t": 60
        },
        "template": {
         "data": {
          "bar": [
           {
            "error_x": {
             "color": "#2a3f5f"
            },
            "error_y": {
             "color": "#2a3f5f"
            },
            "marker": {
             "line": {
              "color": "#E5ECF6",
              "width": 0.5
             },
             "pattern": {
              "fillmode": "overlay",
              "size": 10,
              "solidity": 0.2
             }
            },
            "type": "bar"
           }
          ],
          "barpolar": [
           {
            "marker": {
             "line": {
              "color": "#E5ECF6",
              "width": 0.5
             },
             "pattern": {
              "fillmode": "overlay",
              "size": 10,
              "solidity": 0.2
             }
            },
            "type": "barpolar"
           }
          ],
          "carpet": [
           {
            "aaxis": {
             "endlinecolor": "#2a3f5f",
             "gridcolor": "white",
             "linecolor": "white",
             "minorgridcolor": "white",
             "startlinecolor": "#2a3f5f"
            },
            "baxis": {
             "endlinecolor": "#2a3f5f",
             "gridcolor": "white",
             "linecolor": "white",
             "minorgridcolor": "white",
             "startlinecolor": "#2a3f5f"
            },
            "type": "carpet"
           }
          ],
          "choropleth": [
           {
            "colorbar": {
             "outlinewidth": 0,
             "ticks": ""
            },
            "type": "choropleth"
           }
          ],
          "contour": [
           {
            "colorbar": {
             "outlinewidth": 0,
             "ticks": ""
            },
            "colorscale": [
             [
              0,
              "#0d0887"
             ],
             [
              0.1111111111111111,
              "#46039f"
             ],
             [
              0.2222222222222222,
              "#7201a8"
             ],
             [
              0.3333333333333333,
              "#9c179e"
             ],
             [
              0.4444444444444444,
              "#bd3786"
             ],
             [
              0.5555555555555556,
              "#d8576b"
             ],
             [
              0.6666666666666666,
              "#ed7953"
             ],
             [
              0.7777777777777778,
              "#fb9f3a"
             ],
             [
              0.8888888888888888,
              "#fdca26"
             ],
             [
              1,
              "#f0f921"
             ]
            ],
            "type": "contour"
           }
          ],
          "contourcarpet": [
           {
            "colorbar": {
             "outlinewidth": 0,
             "ticks": ""
            },
            "type": "contourcarpet"
           }
          ],
          "heatmap": [
           {
            "colorbar": {
             "outlinewidth": 0,
             "ticks": ""
            },
            "colorscale": [
             [
              0,
              "#0d0887"
             ],
             [
              0.1111111111111111,
              "#46039f"
             ],
             [
              0.2222222222222222,
              "#7201a8"
             ],
             [
              0.3333333333333333,
              "#9c179e"
             ],
             [
              0.4444444444444444,
              "#bd3786"
             ],
             [
              0.5555555555555556,
              "#d8576b"
             ],
             [
              0.6666666666666666,
              "#ed7953"
             ],
             [
              0.7777777777777778,
              "#fb9f3a"
             ],
             [
              0.8888888888888888,
              "#fdca26"
             ],
             [
              1,
              "#f0f921"
             ]
            ],
            "type": "heatmap"
           }
          ],
          "heatmapgl": [
           {
            "colorbar": {
             "outlinewidth": 0,
             "ticks": ""
            },
            "colorscale": [
             [
              0,
              "#0d0887"
             ],
             [
              0.1111111111111111,
              "#46039f"
             ],
             [
              0.2222222222222222,
              "#7201a8"
             ],
             [
              0.3333333333333333,
              "#9c179e"
             ],
             [
              0.4444444444444444,
              "#bd3786"
             ],
             [
              0.5555555555555556,
              "#d8576b"
             ],
             [
              0.6666666666666666,
              "#ed7953"
             ],
             [
              0.7777777777777778,
              "#fb9f3a"
             ],
             [
              0.8888888888888888,
              "#fdca26"
             ],
             [
              1,
              "#f0f921"
             ]
            ],
            "type": "heatmapgl"
           }
          ],
          "histogram": [
           {
            "marker": {
             "pattern": {
              "fillmode": "overlay",
              "size": 10,
              "solidity": 0.2
             }
            },
            "type": "histogram"
           }
          ],
          "histogram2d": [
           {
            "colorbar": {
             "outlinewidth": 0,
             "ticks": ""
            },
            "colorscale": [
             [
              0,
              "#0d0887"
             ],
             [
              0.1111111111111111,
              "#46039f"
             ],
             [
              0.2222222222222222,
              "#7201a8"
             ],
             [
              0.3333333333333333,
              "#9c179e"
             ],
             [
              0.4444444444444444,
              "#bd3786"
             ],
             [
              0.5555555555555556,
              "#d8576b"
             ],
             [
              0.6666666666666666,
              "#ed7953"
             ],
             [
              0.7777777777777778,
              "#fb9f3a"
             ],
             [
              0.8888888888888888,
              "#fdca26"
             ],
             [
              1,
              "#f0f921"
             ]
            ],
            "type": "histogram2d"
           }
          ],
          "histogram2dcontour": [
           {
            "colorbar": {
             "outlinewidth": 0,
             "ticks": ""
            },
            "colorscale": [
             [
              0,
              "#0d0887"
             ],
             [
              0.1111111111111111,
              "#46039f"
             ],
             [
              0.2222222222222222,
              "#7201a8"
             ],
             [
              0.3333333333333333,
              "#9c179e"
             ],
             [
              0.4444444444444444,
              "#bd3786"
             ],
             [
              0.5555555555555556,
              "#d8576b"
             ],
             [
              0.6666666666666666,
              "#ed7953"
             ],
             [
              0.7777777777777778,
              "#fb9f3a"
             ],
             [
              0.8888888888888888,
              "#fdca26"
             ],
             [
              1,
              "#f0f921"
             ]
            ],
            "type": "histogram2dcontour"
           }
          ],
          "mesh3d": [
           {
            "colorbar": {
             "outlinewidth": 0,
             "ticks": ""
            },
            "type": "mesh3d"
           }
          ],
          "parcoords": [
           {
            "line": {
             "colorbar": {
              "outlinewidth": 0,
              "ticks": ""
             }
            },
            "type": "parcoords"
           }
          ],
          "pie": [
           {
            "automargin": true,
            "type": "pie"
           }
          ],
          "scatter": [
           {
            "fillpattern": {
             "fillmode": "overlay",
             "size": 10,
             "solidity": 0.2
            },
            "type": "scatter"
           }
          ],
          "scatter3d": [
           {
            "line": {
             "colorbar": {
              "outlinewidth": 0,
              "ticks": ""
             }
            },
            "marker": {
             "colorbar": {
              "outlinewidth": 0,
              "ticks": ""
             }
            },
            "type": "scatter3d"
           }
          ],
          "scattercarpet": [
           {
            "marker": {
             "colorbar": {
              "outlinewidth": 0,
              "ticks": ""
             }
            },
            "type": "scattercarpet"
           }
          ],
          "scattergeo": [
           {
            "marker": {
             "colorbar": {
              "outlinewidth": 0,
              "ticks": ""
             }
            },
            "type": "scattergeo"
           }
          ],
          "scattergl": [
           {
            "marker": {
             "colorbar": {
              "outlinewidth": 0,
              "ticks": ""
             }
            },
            "type": "scattergl"
           }
          ],
          "scattermapbox": [
           {
            "marker": {
             "colorbar": {
              "outlinewidth": 0,
              "ticks": ""
             }
            },
            "type": "scattermapbox"
           }
          ],
          "scatterpolar": [
           {
            "marker": {
             "colorbar": {
              "outlinewidth": 0,
              "ticks": ""
             }
            },
            "type": "scatterpolar"
           }
          ],
          "scatterpolargl": [
           {
            "marker": {
             "colorbar": {
              "outlinewidth": 0,
              "ticks": ""
             }
            },
            "type": "scatterpolargl"
           }
          ],
          "scatterternary": [
           {
            "marker": {
             "colorbar": {
              "outlinewidth": 0,
              "ticks": ""
             }
            },
            "type": "scatterternary"
           }
          ],
          "surface": [
           {
            "colorbar": {
             "outlinewidth": 0,
             "ticks": ""
            },
            "colorscale": [
             [
              0,
              "#0d0887"
             ],
             [
              0.1111111111111111,
              "#46039f"
             ],
             [
              0.2222222222222222,
              "#7201a8"
             ],
             [
              0.3333333333333333,
              "#9c179e"
             ],
             [
              0.4444444444444444,
              "#bd3786"
             ],
             [
              0.5555555555555556,
              "#d8576b"
             ],
             [
              0.6666666666666666,
              "#ed7953"
             ],
             [
              0.7777777777777778,
              "#fb9f3a"
             ],
             [
              0.8888888888888888,
              "#fdca26"
             ],
             [
              1,
              "#f0f921"
             ]
            ],
            "type": "surface"
           }
          ],
          "table": [
           {
            "cells": {
             "fill": {
              "color": "#EBF0F8"
             },
             "line": {
              "color": "white"
             }
            },
            "header": {
             "fill": {
              "color": "#C8D4E3"
             },
             "line": {
              "color": "white"
             }
            },
            "type": "table"
           }
          ]
         },
         "layout": {
          "annotationdefaults": {
           "arrowcolor": "#2a3f5f",
           "arrowhead": 0,
           "arrowwidth": 1
          },
          "autotypenumbers": "strict",
          "coloraxis": {
           "colorbar": {
            "outlinewidth": 0,
            "ticks": ""
           }
          },
          "colorscale": {
           "diverging": [
            [
             0,
             "#8e0152"
            ],
            [
             0.1,
             "#c51b7d"
            ],
            [
             0.2,
             "#de77ae"
            ],
            [
             0.3,
             "#f1b6da"
            ],
            [
             0.4,
             "#fde0ef"
            ],
            [
             0.5,
             "#f7f7f7"
            ],
            [
             0.6,
             "#e6f5d0"
            ],
            [
             0.7,
             "#b8e186"
            ],
            [
             0.8,
             "#7fbc41"
            ],
            [
             0.9,
             "#4d9221"
            ],
            [
             1,
             "#276419"
            ]
           ],
           "sequential": [
            [
             0,
             "#0d0887"
            ],
            [
             0.1111111111111111,
             "#46039f"
            ],
            [
             0.2222222222222222,
             "#7201a8"
            ],
            [
             0.3333333333333333,
             "#9c179e"
            ],
            [
             0.4444444444444444,
             "#bd3786"
            ],
            [
             0.5555555555555556,
             "#d8576b"
            ],
            [
             0.6666666666666666,
             "#ed7953"
            ],
            [
             0.7777777777777778,
             "#fb9f3a"
            ],
            [
             0.8888888888888888,
             "#fdca26"
            ],
            [
             1,
             "#f0f921"
            ]
           ],
           "sequentialminus": [
            [
             0,
             "#0d0887"
            ],
            [
             0.1111111111111111,
             "#46039f"
            ],
            [
             0.2222222222222222,
             "#7201a8"
            ],
            [
             0.3333333333333333,
             "#9c179e"
            ],
            [
             0.4444444444444444,
             "#bd3786"
            ],
            [
             0.5555555555555556,
             "#d8576b"
            ],
            [
             0.6666666666666666,
             "#ed7953"
            ],
            [
             0.7777777777777778,
             "#fb9f3a"
            ],
            [
             0.8888888888888888,
             "#fdca26"
            ],
            [
             1,
             "#f0f921"
            ]
           ]
          },
          "colorway": [
           "#636efa",
           "#EF553B",
           "#00cc96",
           "#ab63fa",
           "#FFA15A",
           "#19d3f3",
           "#FF6692",
           "#B6E880",
           "#FF97FF",
           "#FECB52"
          ],
          "font": {
           "color": "#2a3f5f"
          },
          "geo": {
           "bgcolor": "white",
           "lakecolor": "white",
           "landcolor": "#E5ECF6",
           "showlakes": true,
           "showland": true,
           "subunitcolor": "white"
          },
          "hoverlabel": {
           "align": "left"
          },
          "hovermode": "closest",
          "mapbox": {
           "style": "light"
          },
          "paper_bgcolor": "white",
          "plot_bgcolor": "#E5ECF6",
          "polar": {
           "angularaxis": {
            "gridcolor": "white",
            "linecolor": "white",
            "ticks": ""
           },
           "bgcolor": "#E5ECF6",
           "radialaxis": {
            "gridcolor": "white",
            "linecolor": "white",
            "ticks": ""
           }
          },
          "scene": {
           "xaxis": {
            "backgroundcolor": "#E5ECF6",
            "gridcolor": "white",
            "gridwidth": 2,
            "linecolor": "white",
            "showbackground": true,
            "ticks": "",
            "zerolinecolor": "white"
           },
           "yaxis": {
            "backgroundcolor": "#E5ECF6",
            "gridcolor": "white",
            "gridwidth": 2,
            "linecolor": "white",
            "showbackground": true,
            "ticks": "",
            "zerolinecolor": "white"
           },
           "zaxis": {
            "backgroundcolor": "#E5ECF6",
            "gridcolor": "white",
            "gridwidth": 2,
            "linecolor": "white",
            "showbackground": true,
            "ticks": "",
            "zerolinecolor": "white"
           }
          },
          "shapedefaults": {
           "line": {
            "color": "#2a3f5f"
           }
          },
          "ternary": {
           "aaxis": {
            "gridcolor": "white",
            "linecolor": "white",
            "ticks": ""
           },
           "baxis": {
            "gridcolor": "white",
            "linecolor": "white",
            "ticks": ""
           },
           "bgcolor": "#E5ECF6",
           "caxis": {
            "gridcolor": "white",
            "linecolor": "white",
            "ticks": ""
           }
          },
          "title": {
           "x": 0.05
          },
          "xaxis": {
           "automargin": true,
           "gridcolor": "white",
           "linecolor": "white",
           "ticks": "",
           "title": {
            "standoff": 15
           },
           "zerolinecolor": "white",
           "zerolinewidth": 2
          },
          "yaxis": {
           "automargin": true,
           "gridcolor": "white",
           "linecolor": "white",
           "ticks": "",
           "title": {
            "standoff": 15
           },
           "zerolinecolor": "white",
           "zerolinewidth": 2
          }
         }
        }
       }
      }
     },
     "metadata": {},
     "output_type": "display_data"
    }
   ],
   "source": [
    "# Keep the interesting parameters which we are tuning and the performances\n",
    "df_batch = df_batch[['hidden_units', 'hidden_layers', 'weight_decay', 'GNLLL', 'RMSE']]\n",
    "fig = px.parallel_coordinates(df_batch)\n",
    "\n",
    "fig.show()"
   ]
  },
  {
   "cell_type": "code",
   "execution_count": 38,
   "metadata": {},
   "outputs": [
    {
     "data": {
      "application/vnd.plotly.v1+json": {
       "config": {
        "plotlyServerURL": "https://plot.ly"
       },
       "data": [
        {
         "dimensions": [
          {
           "label": "hidden_units",
           "values": [
            128,
            128,
            128,
            128,
            64,
            64,
            128,
            128,
            128,
            64,
            128,
            128,
            128,
            128,
            128,
            128,
            128,
            128,
            128,
            128,
            128,
            128,
            128,
            128,
            64,
            128,
            128,
            128
           ]
          },
          {
           "label": "hidden_layers",
           "values": [
            2,
            2,
            3,
            3,
            4,
            4,
            4,
            4,
            4,
            5,
            5,
            5,
            5,
            6,
            6,
            6,
            7,
            7,
            8,
            8,
            8,
            9,
            9,
            9,
            10,
            10,
            10,
            10
           ]
          },
          {
           "label": "data_noise",
           "values": [
            0.0001,
            0.00001,
            0.0001,
            0.00001,
            0.0001,
            0.00001,
            0.001,
            0.0001,
            0.00001,
            0.0001,
            0.001,
            0.0001,
            0.00001,
            0.001,
            0.0001,
            0.00001,
            0.0001,
            0.00001,
            0.001,
            0.0001,
            0.00001,
            0.001,
            0.0001,
            0.00001,
            0.00001,
            0.001,
            0.0001,
            0.00001
           ]
          },
          {
           "label": "GNLLL",
           "values": [
            10.712951501210531,
            8.87481689453125,
            17.761252482732136,
            15.592329819997152,
            4.241390466690064,
            10.562490940093994,
            3.5490339597066245,
            11.671838283538818,
            15.60145060221354,
            4.076668898264567,
            3.559578418731689,
            8.733853658040365,
            14.10594685872396,
            4.216512203216553,
            7.148545583089192,
            16.401554743448894,
            7.319722175598144,
            11.070034662882486,
            5.072137753168742,
            9.215691725413004,
            12.506927490234377,
            4.908412059148152,
            8.320497512817383,
            12.218944231669107,
            6.002985000610352,
            4.297097365061442,
            5.856045564015706,
            11.098532835642496
           ]
          },
          {
           "label": "RMSE",
           "values": [
            5.882968266805013,
            5.776899814605713,
            5.907707214355469,
            5.873912334442139,
            5.988715648651123,
            5.97155237197876,
            5.960526784261067,
            5.781195322672526,
            5.755360921223958,
            5.981833775838216,
            5.832211812337239,
            5.8630264600118,
            5.866578261057536,
            5.84995714823405,
            5.689590136210124,
            5.786251227060954,
            5.852104028065999,
            5.881096204121907,
            5.861131985982259,
            5.7410569190979,
            5.873189767201741,
            5.870797793070476,
            5.872607707977295,
            5.983311812082927,
            5.992528120676677,
            5.7641777992248535,
            5.876705010732015,
            5.629187107086182
           ]
          }
         ],
         "domain": {
          "x": [
           0,
           1
          ],
          "y": [
           0,
           1
          ]
         },
         "name": "",
         "type": "parcoords"
        }
       ],
       "layout": {
        "legend": {
         "tracegroupgap": 0
        },
        "margin": {
         "t": 60
        },
        "template": {
         "data": {
          "bar": [
           {
            "error_x": {
             "color": "#2a3f5f"
            },
            "error_y": {
             "color": "#2a3f5f"
            },
            "marker": {
             "line": {
              "color": "#E5ECF6",
              "width": 0.5
             },
             "pattern": {
              "fillmode": "overlay",
              "size": 10,
              "solidity": 0.2
             }
            },
            "type": "bar"
           }
          ],
          "barpolar": [
           {
            "marker": {
             "line": {
              "color": "#E5ECF6",
              "width": 0.5
             },
             "pattern": {
              "fillmode": "overlay",
              "size": 10,
              "solidity": 0.2
             }
            },
            "type": "barpolar"
           }
          ],
          "carpet": [
           {
            "aaxis": {
             "endlinecolor": "#2a3f5f",
             "gridcolor": "white",
             "linecolor": "white",
             "minorgridcolor": "white",
             "startlinecolor": "#2a3f5f"
            },
            "baxis": {
             "endlinecolor": "#2a3f5f",
             "gridcolor": "white",
             "linecolor": "white",
             "minorgridcolor": "white",
             "startlinecolor": "#2a3f5f"
            },
            "type": "carpet"
           }
          ],
          "choropleth": [
           {
            "colorbar": {
             "outlinewidth": 0,
             "ticks": ""
            },
            "type": "choropleth"
           }
          ],
          "contour": [
           {
            "colorbar": {
             "outlinewidth": 0,
             "ticks": ""
            },
            "colorscale": [
             [
              0,
              "#0d0887"
             ],
             [
              0.1111111111111111,
              "#46039f"
             ],
             [
              0.2222222222222222,
              "#7201a8"
             ],
             [
              0.3333333333333333,
              "#9c179e"
             ],
             [
              0.4444444444444444,
              "#bd3786"
             ],
             [
              0.5555555555555556,
              "#d8576b"
             ],
             [
              0.6666666666666666,
              "#ed7953"
             ],
             [
              0.7777777777777778,
              "#fb9f3a"
             ],
             [
              0.8888888888888888,
              "#fdca26"
             ],
             [
              1,
              "#f0f921"
             ]
            ],
            "type": "contour"
           }
          ],
          "contourcarpet": [
           {
            "colorbar": {
             "outlinewidth": 0,
             "ticks": ""
            },
            "type": "contourcarpet"
           }
          ],
          "heatmap": [
           {
            "colorbar": {
             "outlinewidth": 0,
             "ticks": ""
            },
            "colorscale": [
             [
              0,
              "#0d0887"
             ],
             [
              0.1111111111111111,
              "#46039f"
             ],
             [
              0.2222222222222222,
              "#7201a8"
             ],
             [
              0.3333333333333333,
              "#9c179e"
             ],
             [
              0.4444444444444444,
              "#bd3786"
             ],
             [
              0.5555555555555556,
              "#d8576b"
             ],
             [
              0.6666666666666666,
              "#ed7953"
             ],
             [
              0.7777777777777778,
              "#fb9f3a"
             ],
             [
              0.8888888888888888,
              "#fdca26"
             ],
             [
              1,
              "#f0f921"
             ]
            ],
            "type": "heatmap"
           }
          ],
          "heatmapgl": [
           {
            "colorbar": {
             "outlinewidth": 0,
             "ticks": ""
            },
            "colorscale": [
             [
              0,
              "#0d0887"
             ],
             [
              0.1111111111111111,
              "#46039f"
             ],
             [
              0.2222222222222222,
              "#7201a8"
             ],
             [
              0.3333333333333333,
              "#9c179e"
             ],
             [
              0.4444444444444444,
              "#bd3786"
             ],
             [
              0.5555555555555556,
              "#d8576b"
             ],
             [
              0.6666666666666666,
              "#ed7953"
             ],
             [
              0.7777777777777778,
              "#fb9f3a"
             ],
             [
              0.8888888888888888,
              "#fdca26"
             ],
             [
              1,
              "#f0f921"
             ]
            ],
            "type": "heatmapgl"
           }
          ],
          "histogram": [
           {
            "marker": {
             "pattern": {
              "fillmode": "overlay",
              "size": 10,
              "solidity": 0.2
             }
            },
            "type": "histogram"
           }
          ],
          "histogram2d": [
           {
            "colorbar": {
             "outlinewidth": 0,
             "ticks": ""
            },
            "colorscale": [
             [
              0,
              "#0d0887"
             ],
             [
              0.1111111111111111,
              "#46039f"
             ],
             [
              0.2222222222222222,
              "#7201a8"
             ],
             [
              0.3333333333333333,
              "#9c179e"
             ],
             [
              0.4444444444444444,
              "#bd3786"
             ],
             [
              0.5555555555555556,
              "#d8576b"
             ],
             [
              0.6666666666666666,
              "#ed7953"
             ],
             [
              0.7777777777777778,
              "#fb9f3a"
             ],
             [
              0.8888888888888888,
              "#fdca26"
             ],
             [
              1,
              "#f0f921"
             ]
            ],
            "type": "histogram2d"
           }
          ],
          "histogram2dcontour": [
           {
            "colorbar": {
             "outlinewidth": 0,
             "ticks": ""
            },
            "colorscale": [
             [
              0,
              "#0d0887"
             ],
             [
              0.1111111111111111,
              "#46039f"
             ],
             [
              0.2222222222222222,
              "#7201a8"
             ],
             [
              0.3333333333333333,
              "#9c179e"
             ],
             [
              0.4444444444444444,
              "#bd3786"
             ],
             [
              0.5555555555555556,
              "#d8576b"
             ],
             [
              0.6666666666666666,
              "#ed7953"
             ],
             [
              0.7777777777777778,
              "#fb9f3a"
             ],
             [
              0.8888888888888888,
              "#fdca26"
             ],
             [
              1,
              "#f0f921"
             ]
            ],
            "type": "histogram2dcontour"
           }
          ],
          "mesh3d": [
           {
            "colorbar": {
             "outlinewidth": 0,
             "ticks": ""
            },
            "type": "mesh3d"
           }
          ],
          "parcoords": [
           {
            "line": {
             "colorbar": {
              "outlinewidth": 0,
              "ticks": ""
             }
            },
            "type": "parcoords"
           }
          ],
          "pie": [
           {
            "automargin": true,
            "type": "pie"
           }
          ],
          "scatter": [
           {
            "fillpattern": {
             "fillmode": "overlay",
             "size": 10,
             "solidity": 0.2
            },
            "type": "scatter"
           }
          ],
          "scatter3d": [
           {
            "line": {
             "colorbar": {
              "outlinewidth": 0,
              "ticks": ""
             }
            },
            "marker": {
             "colorbar": {
              "outlinewidth": 0,
              "ticks": ""
             }
            },
            "type": "scatter3d"
           }
          ],
          "scattercarpet": [
           {
            "marker": {
             "colorbar": {
              "outlinewidth": 0,
              "ticks": ""
             }
            },
            "type": "scattercarpet"
           }
          ],
          "scattergeo": [
           {
            "marker": {
             "colorbar": {
              "outlinewidth": 0,
              "ticks": ""
             }
            },
            "type": "scattergeo"
           }
          ],
          "scattergl": [
           {
            "marker": {
             "colorbar": {
              "outlinewidth": 0,
              "ticks": ""
             }
            },
            "type": "scattergl"
           }
          ],
          "scattermapbox": [
           {
            "marker": {
             "colorbar": {
              "outlinewidth": 0,
              "ticks": ""
             }
            },
            "type": "scattermapbox"
           }
          ],
          "scatterpolar": [
           {
            "marker": {
             "colorbar": {
              "outlinewidth": 0,
              "ticks": ""
             }
            },
            "type": "scatterpolar"
           }
          ],
          "scatterpolargl": [
           {
            "marker": {
             "colorbar": {
              "outlinewidth": 0,
              "ticks": ""
             }
            },
            "type": "scatterpolargl"
           }
          ],
          "scatterternary": [
           {
            "marker": {
             "colorbar": {
              "outlinewidth": 0,
              "ticks": ""
             }
            },
            "type": "scatterternary"
           }
          ],
          "surface": [
           {
            "colorbar": {
             "outlinewidth": 0,
             "ticks": ""
            },
            "colorscale": [
             [
              0,
              "#0d0887"
             ],
             [
              0.1111111111111111,
              "#46039f"
             ],
             [
              0.2222222222222222,
              "#7201a8"
             ],
             [
              0.3333333333333333,
              "#9c179e"
             ],
             [
              0.4444444444444444,
              "#bd3786"
             ],
             [
              0.5555555555555556,
              "#d8576b"
             ],
             [
              0.6666666666666666,
              "#ed7953"
             ],
             [
              0.7777777777777778,
              "#fb9f3a"
             ],
             [
              0.8888888888888888,
              "#fdca26"
             ],
             [
              1,
              "#f0f921"
             ]
            ],
            "type": "surface"
           }
          ],
          "table": [
           {
            "cells": {
             "fill": {
              "color": "#EBF0F8"
             },
             "line": {
              "color": "white"
             }
            },
            "header": {
             "fill": {
              "color": "#C8D4E3"
             },
             "line": {
              "color": "white"
             }
            },
            "type": "table"
           }
          ]
         },
         "layout": {
          "annotationdefaults": {
           "arrowcolor": "#2a3f5f",
           "arrowhead": 0,
           "arrowwidth": 1
          },
          "autotypenumbers": "strict",
          "coloraxis": {
           "colorbar": {
            "outlinewidth": 0,
            "ticks": ""
           }
          },
          "colorscale": {
           "diverging": [
            [
             0,
             "#8e0152"
            ],
            [
             0.1,
             "#c51b7d"
            ],
            [
             0.2,
             "#de77ae"
            ],
            [
             0.3,
             "#f1b6da"
            ],
            [
             0.4,
             "#fde0ef"
            ],
            [
             0.5,
             "#f7f7f7"
            ],
            [
             0.6,
             "#e6f5d0"
            ],
            [
             0.7,
             "#b8e186"
            ],
            [
             0.8,
             "#7fbc41"
            ],
            [
             0.9,
             "#4d9221"
            ],
            [
             1,
             "#276419"
            ]
           ],
           "sequential": [
            [
             0,
             "#0d0887"
            ],
            [
             0.1111111111111111,
             "#46039f"
            ],
            [
             0.2222222222222222,
             "#7201a8"
            ],
            [
             0.3333333333333333,
             "#9c179e"
            ],
            [
             0.4444444444444444,
             "#bd3786"
            ],
            [
             0.5555555555555556,
             "#d8576b"
            ],
            [
             0.6666666666666666,
             "#ed7953"
            ],
            [
             0.7777777777777778,
             "#fb9f3a"
            ],
            [
             0.8888888888888888,
             "#fdca26"
            ],
            [
             1,
             "#f0f921"
            ]
           ],
           "sequentialminus": [
            [
             0,
             "#0d0887"
            ],
            [
             0.1111111111111111,
             "#46039f"
            ],
            [
             0.2222222222222222,
             "#7201a8"
            ],
            [
             0.3333333333333333,
             "#9c179e"
            ],
            [
             0.4444444444444444,
             "#bd3786"
            ],
            [
             0.5555555555555556,
             "#d8576b"
            ],
            [
             0.6666666666666666,
             "#ed7953"
            ],
            [
             0.7777777777777778,
             "#fb9f3a"
            ],
            [
             0.8888888888888888,
             "#fdca26"
            ],
            [
             1,
             "#f0f921"
            ]
           ]
          },
          "colorway": [
           "#636efa",
           "#EF553B",
           "#00cc96",
           "#ab63fa",
           "#FFA15A",
           "#19d3f3",
           "#FF6692",
           "#B6E880",
           "#FF97FF",
           "#FECB52"
          ],
          "font": {
           "color": "#2a3f5f"
          },
          "geo": {
           "bgcolor": "white",
           "lakecolor": "white",
           "landcolor": "#E5ECF6",
           "showlakes": true,
           "showland": true,
           "subunitcolor": "white"
          },
          "hoverlabel": {
           "align": "left"
          },
          "hovermode": "closest",
          "mapbox": {
           "style": "light"
          },
          "paper_bgcolor": "white",
          "plot_bgcolor": "#E5ECF6",
          "polar": {
           "angularaxis": {
            "gridcolor": "white",
            "linecolor": "white",
            "ticks": ""
           },
           "bgcolor": "#E5ECF6",
           "radialaxis": {
            "gridcolor": "white",
            "linecolor": "white",
            "ticks": ""
           }
          },
          "scene": {
           "xaxis": {
            "backgroundcolor": "#E5ECF6",
            "gridcolor": "white",
            "gridwidth": 2,
            "linecolor": "white",
            "showbackground": true,
            "ticks": "",
            "zerolinecolor": "white"
           },
           "yaxis": {
            "backgroundcolor": "#E5ECF6",
            "gridcolor": "white",
            "gridwidth": 2,
            "linecolor": "white",
            "showbackground": true,
            "ticks": "",
            "zerolinecolor": "white"
           },
           "zaxis": {
            "backgroundcolor": "#E5ECF6",
            "gridcolor": "white",
            "gridwidth": 2,
            "linecolor": "white",
            "showbackground": true,
            "ticks": "",
            "zerolinecolor": "white"
           }
          },
          "shapedefaults": {
           "line": {
            "color": "#2a3f5f"
           }
          },
          "ternary": {
           "aaxis": {
            "gridcolor": "white",
            "linecolor": "white",
            "ticks": ""
           },
           "baxis": {
            "gridcolor": "white",
            "linecolor": "white",
            "ticks": ""
           },
           "bgcolor": "#E5ECF6",
           "caxis": {
            "gridcolor": "white",
            "linecolor": "white",
            "ticks": ""
           }
          },
          "title": {
           "x": 0.05
          },
          "xaxis": {
           "automargin": true,
           "gridcolor": "white",
           "linecolor": "white",
           "ticks": "",
           "title": {
            "standoff": 15
           },
           "zerolinecolor": "white",
           "zerolinewidth": 2
          },
          "yaxis": {
           "automargin": true,
           "gridcolor": "white",
           "linecolor": "white",
           "ticks": "",
           "title": {
            "standoff": 15
           },
           "zerolinecolor": "white",
           "zerolinewidth": 2
          }
         }
        }
       }
      }
     },
     "metadata": {},
     "output_type": "display_data"
    }
   ],
   "source": [
    "# Keep the interesting parameters which we are tuning and the performances\n",
    "df_anchored = df_anchored[['hidden_units', 'hidden_layers', 'data_noise', 'GNLLL', 'RMSE']]\n",
    "fig = px.parallel_coordinates(df_anchored)\n",
    "\n",
    "fig.show()"
   ]
  },
  {
   "cell_type": "markdown",
   "metadata": {},
   "source": [
    "### Evaluation of results\n",
    "* **Anchored Batch**  \n",
    "The best performing models in terms of RMSE all have 128 hidden units. A data noise of 1e-4 and 1e-5 also seems to be a more suitalbe choice for performance. Finally, the amount of hidden layers ranges from 6-10, where more hidden layers corresponds to better performance in terms of RMSE but worse performance in terms of GNLLL. We will retrain three models and calculate their corresponding calibration errors using the ENCE metric.  \n",
    "\n",
    "* **Batch Ensemble**  \n",
    "In terms of RMSE it seems that a combination of 128 hidden units with  higher range (9-10) of hidden_layers seems to have the best performance. Weight decay parameter does not seem to have a big significance on the performance in terms of RMSE, the range 1e-3 to 1e-5 all have similar performances, however, it seems that a stronger regularization leads to a better improvement in terms of GNLLL. We will investigate the calibration error of models with 128 hidden units and 9-10 hidden layers."
   ]
  },
  {
   "cell_type": "markdown",
   "metadata": {},
   "source": [
    "### Investigate Calibration Error"
   ]
  },
  {
   "cell_type": "code",
   "execution_count": 6,
   "metadata": {},
   "outputs": [
    {
     "name": "stdout",
     "output_type": "stream",
     "text": [
      "Epoch: 0\n",
      "-------\n",
      "Loss: 1014.7159525553385\n",
      "\n",
      "Evaluation on Test Data\n",
      "------------------------\n",
      "Average Test Loss: 3.7201311588287354\n",
      "Epoch: 0\n",
      "-------\n",
      "Loss: 1492.4285278320312\n",
      "\n",
      "Evaluation on Test Data\n",
      "------------------------\n",
      "Average Test Loss: 3.921370585759481\n",
      "Epoch: 0\n",
      "-------\n",
      "Loss: 1235.784891764323\n",
      "\n",
      "Evaluation on Test Data\n",
      "------------------------\n",
      "Average Test Loss: 4.222842216491699\n",
      "Epoch: 0\n",
      "-------\n",
      "Loss: 1283.935770670573\n",
      "\n",
      "Evaluation on Test Data\n",
      "------------------------\n",
      "Average Test Loss: 3.5179531574249268\n",
      "Epoch: 0\n",
      "-------\n",
      "Loss: 1269.8308614095051\n",
      "\n",
      "Evaluation on Test Data\n",
      "------------------------\n",
      "Average Test Loss: 3.8427838484446206\n",
      "Epoch: 0\n",
      "-------\n",
      "Loss: 1241.7892049153645\n",
      "\n",
      "Evaluation on Test Data\n",
      "------------------------\n",
      "Average Test Loss: 3.743661324183146\n"
     ]
    }
   ],
   "source": [
    "# Initialize list of Hyperparameters for Batch Ensemble\n",
    "hidden_layers_options = [9,10]\n",
    "hidden_units_options = [128]\n",
    "weight_decay_options = [1e-2,1e-4,1e-5]\n",
    "\n",
    "# Define loss function and optimizer\n",
    "loss_fn = nn.GaussianNLLLoss()\n",
    "optimizer = torch.optim.Adam\n",
    "\n",
    "# Train and save results\n",
    "train_and_save_results(\n",
    "    model_name = 'batch', \n",
    "    hidden_layers_options = hidden_layers_options, \n",
    "    hidden_units_options = hidden_units_options, \n",
    "    input_shape = 8, \n",
    "    loss_fn = loss_fn,\n",
    "    optimizer = optimizer, \n",
    "    train_loader = train_loader, \n",
    "    test_loader = test_loader,\n",
    "    ensemble_size = 10,\n",
    "    epochs = 1000, \n",
    "    csv_file = 'concrete_model_results_ence.csv',\n",
    "    weight_decay_options = weight_decay_options,\n",
    "    print_frequency = 1000\n",
    ")"
   ]
  },
  {
   "cell_type": "code",
   "execution_count": 9,
   "metadata": {},
   "outputs": [
    {
     "name": "stdout",
     "output_type": "stream",
     "text": [
      "Epoch: 0\n",
      "-------\n",
      "Loss: 1132.7173360188801\n",
      "\n",
      "Evaluation on Test Data\n",
      "------------------------\n",
      "Average Test Loss: 9.231940269470215\n",
      "Epoch: 0\n",
      "-------\n",
      "Loss: 1284.07373046875\n",
      "\n",
      "Evaluation on Test Data\n",
      "------------------------\n",
      "Average Test Loss: 8.614970366160074\n",
      "Epoch: 0\n",
      "-------\n",
      "Loss: 1451.8767903645833\n",
      "\n",
      "Evaluation on Test Data\n",
      "------------------------\n",
      "Average Test Loss: 9.070743083953857\n",
      "Epoch: 0\n",
      "-------\n",
      "Loss: 1067.8715922037761\n",
      "\n",
      "Evaluation on Test Data\n",
      "------------------------\n",
      "Average Test Loss: 9.205824851989746\n",
      "Epoch: 0\n",
      "-------\n",
      "Loss: 1277.6501159667969\n",
      "\n",
      "Evaluation on Test Data\n",
      "------------------------\n",
      "Average Test Loss: 9.092270851135254\n",
      "Epoch: 0\n",
      "-------\n",
      "Loss: 1440.3821207682292\n",
      "\n",
      "Evaluation on Test Data\n",
      "------------------------\n",
      "Average Test Loss: 8.459661165873209\n",
      "Epoch: 0\n",
      "-------\n",
      "Loss: 1282.7774047851562\n",
      "\n",
      "Evaluation on Test Data\n",
      "------------------------\n",
      "Average Test Loss: 8.475510915120443\n",
      "Epoch: 0\n",
      "-------\n",
      "Loss: 1216.1648763020833\n",
      "\n",
      "Evaluation on Test Data\n",
      "------------------------\n",
      "Average Test Loss: 7.8697811762491865\n"
     ]
    }
   ],
   "source": [
    "# Initialize list of Hyperparameters for Batch Ensemble\n",
    "hidden_layers_options = [9,10]\n",
    "hidden_units_options = [128]\n",
    "weight_decay_options = [1e-2, 1e-3,1e-4,1e-5]\n",
    "\n",
    "# Define loss function and optimizer\n",
    "loss_fn = nn.GaussianNLLLoss()\n",
    "optimizer = torch.optim.Adam\n",
    "\n",
    "# Train and save results\n",
    "train_and_save_results(\n",
    "    model_name = 'batch', \n",
    "    hidden_layers_options = hidden_layers_options, \n",
    "    hidden_units_options = hidden_units_options, \n",
    "    input_shape = 8, \n",
    "    loss_fn = loss_fn,\n",
    "    optimizer = optimizer, \n",
    "    train_loader = train_loader, \n",
    "    test_loader = test_loader,\n",
    "    ensemble_size = 10,\n",
    "    epochs = 2000, # Increased number of epochs\n",
    "    csv_file = 'concrete_model_results_ence.csv',\n",
    "    weight_decay_options = weight_decay_options,\n",
    "    print_frequency = 2000\n",
    ")"
   ]
  },
  {
   "cell_type": "code",
   "execution_count": 10,
   "metadata": {},
   "outputs": [
    {
     "name": "stdout",
     "output_type": "stream",
     "text": [
      "Epoch: 0\n",
      "-------\n",
      "Loss: 988.6456807454427\n",
      "\n",
      "Evaluation on Test Data\n",
      "------------------------\n",
      "Average Test Loss: 3.455641746520996\n",
      "Epoch: 0\n",
      "-------\n",
      "Loss: 1.8116760452588399\n",
      "\n",
      "Evaluation on Test Data\n",
      "------------------------\n",
      "Average Test Loss: 7.075397491455078\n",
      "Epoch: 0\n",
      "-------\n",
      "Loss: 1259.15576171875\n",
      "\n",
      "Evaluation on Test Data\n",
      "------------------------\n",
      "Average Test Loss: 3.869340101877848\n",
      "Epoch: 0\n",
      "-------\n",
      "Loss: 1.7819743355115254\n",
      "\n",
      "Evaluation on Test Data\n",
      "------------------------\n",
      "Average Test Loss: 8.268374919891357\n",
      "Epoch: 0\n",
      "-------\n",
      "Loss: 1392.183369954427\n",
      "\n",
      "Evaluation on Test Data\n",
      "------------------------\n",
      "Average Test Loss: 3.7257259686787925\n",
      "Epoch: 0\n",
      "-------\n",
      "Loss: 1.8835856318473816\n",
      "\n",
      "Evaluation on Test Data\n",
      "------------------------\n",
      "Average Test Loss: 8.113072872161865\n"
     ]
    }
   ],
   "source": [
    "# Initialize list of Hyperparameters for Anchored Batch Ensemble\n",
    "hidden_layers_options = [6,8,10]\n",
    "hidden_units_options = [128]\n",
    "data_noise_options = [1e-4,1e-5]\n",
    "\n",
    "# Define loss function and optimizer\n",
    "loss_fn = nn.GaussianNLLLoss()\n",
    "optimizer = torch.optim.Adam\n",
    "\n",
    "# Train and save results\n",
    "train_and_save_results(\n",
    "    model_name = 'anchored_batch', \n",
    "    hidden_layers_options = hidden_layers_options, \n",
    "    hidden_units_options = hidden_units_options, \n",
    "    input_shape = 8, \n",
    "    loss_fn = loss_fn,\n",
    "    optimizer = optimizer, \n",
    "    train_loader = train_loader, \n",
    "    test_loader = test_loader,\n",
    "    ensemble_size = 10,\n",
    "    epochs = 1000, \n",
    "    csv_file = 'concrete_model_results_ence.csv',\n",
    "    data_noise_options = data_noise_options,\n",
    "    print_frequency = 1000\n",
    ")"
   ]
  },
  {
   "cell_type": "code",
   "execution_count": 11,
   "metadata": {},
   "outputs": [
    {
     "name": "stdout",
     "output_type": "stream",
     "text": [
      "Epoch: 0\n",
      "-------\n",
      "Loss: 1038.3498433430989\n",
      "\n",
      "Evaluation on Test Data\n",
      "------------------------\n",
      "Average Test Loss: 5.162876685460408\n",
      "Epoch: 0\n",
      "-------\n",
      "Loss: 1.826033929983775\n",
      "\n",
      "Evaluation on Test Data\n",
      "------------------------\n",
      "Average Test Loss: 15.193254788716635\n",
      "Epoch: 0\n",
      "-------\n",
      "Loss: 1470.7306111653645\n",
      "\n",
      "Evaluation on Test Data\n",
      "------------------------\n",
      "Average Test Loss: 7.184723377227783\n",
      "Epoch: 0\n",
      "-------\n",
      "Loss: 2.7468228340148926\n",
      "\n",
      "Evaluation on Test Data\n",
      "------------------------\n",
      "Average Test Loss: 14.553625424702963\n",
      "Epoch: 0\n",
      "-------\n",
      "Loss: 1336.8081563313801\n",
      "\n",
      "Evaluation on Test Data\n",
      "------------------------\n",
      "Average Test Loss: 6.611470381418864\n",
      "Epoch: 0\n",
      "-------\n",
      "Loss: 2.9432413081328073\n",
      "\n",
      "Evaluation on Test Data\n",
      "------------------------\n",
      "Average Test Loss: 15.40241813659668\n"
     ]
    }
   ],
   "source": [
    "# Initialize list of Hyperparameters for Anchored Batch Ensemble\n",
    "hidden_layers_options = [6,8,10]\n",
    "hidden_units_options = [128]\n",
    "data_noise_options = [1e-4,1e-5]\n",
    "\n",
    "# Define loss function and optimizer\n",
    "loss_fn = nn.GaussianNLLLoss()\n",
    "optimizer = torch.optim.Adam\n",
    "\n",
    "# Train and save results\n",
    "train_and_save_results(\n",
    "    model_name = 'anchored_batch', \n",
    "    hidden_layers_options = hidden_layers_options, \n",
    "    hidden_units_options = hidden_units_options, \n",
    "    input_shape = 8, \n",
    "    loss_fn = loss_fn,\n",
    "    optimizer = optimizer, \n",
    "    train_loader = train_loader, \n",
    "    test_loader = test_loader,\n",
    "    ensemble_size = 10,\n",
    "    epochs = 2000, \n",
    "    csv_file = 'concrete_model_results_ence.csv',\n",
    "    data_noise_options = data_noise_options,\n",
    "    print_frequency = 2000\n",
    ")"
   ]
  },
  {
   "cell_type": "code",
   "execution_count": 7,
   "metadata": {},
   "outputs": [
    {
     "name": "stdout",
     "output_type": "stream",
     "text": [
      "Epoch: 0\n",
      "-------\n",
      "Loss: 1000.7238972981771\n",
      "Epoch: 1000\n",
      "-------\n",
      "Loss: 1.1015309890111287\n",
      "\n",
      "Evaluation on Test Data\n",
      "------------------------\n",
      "Average Test Loss: 8.392441749572754\n",
      "Epoch: 0\n",
      "-------\n",
      "Loss: 4.1134850680828094\n",
      "Epoch: 1000\n",
      "-------\n",
      "Loss: 0.6920038014650345\n",
      "\n",
      "Evaluation on Test Data\n",
      "------------------------\n",
      "Average Test Loss: 15.647958755493164\n",
      "Epoch: 0\n",
      "-------\n",
      "Loss: 1450.5557861328125\n",
      "Epoch: 1000\n",
      "-------\n",
      "Loss: 3.3068974018096924\n",
      "\n",
      "Evaluation on Test Data\n",
      "------------------------\n",
      "Average Test Loss: 3.342614730199178\n",
      "Epoch: 0\n",
      "-------\n",
      "Loss: 3.2503873904546103\n",
      "Epoch: 1000\n",
      "-------\n",
      "Loss: 3.3541545470555625\n",
      "\n",
      "Evaluation on Test Data\n",
      "------------------------\n",
      "Average Test Loss: 3.3414089679718018\n",
      "Epoch: 0\n",
      "-------\n",
      "Loss: 1113.2577209472656\n",
      "Epoch: 1000\n",
      "-------\n",
      "Loss: 3.309673269589742\n",
      "\n",
      "Evaluation on Test Data\n",
      "------------------------\n",
      "Average Test Loss: 3.3423481782277427\n",
      "Epoch: 0\n",
      "-------\n",
      "Loss: 3.3082931439081826\n",
      "Epoch: 1000\n",
      "-------\n",
      "Loss: 3.315606196721395\n",
      "\n",
      "Evaluation on Test Data\n",
      "------------------------\n",
      "Average Test Loss: 3.3462672233581543\n"
     ]
    }
   ],
   "source": [
    "# Initialize list of Hyperparameters for Anchored Batch Ensemble\n",
    "hidden_layers_options = [20,30 , 40]\n",
    "hidden_units_options = [128]\n",
    "data_noise_options = [1e-4,1e-5]\n",
    "\n",
    "# Define loss function and optimizer\n",
    "loss_fn = nn.GaussianNLLLoss()\n",
    "optimizer = torch.optim.Adam\n",
    "\n",
    "# Train and save results\n",
    "train_and_save_results(\n",
    "    model_name = 'anchored_batch', \n",
    "    hidden_layers_options = hidden_layers_options, \n",
    "    hidden_units_options = hidden_units_options, \n",
    "    input_shape = 8, \n",
    "    loss_fn = loss_fn,\n",
    "    optimizer = optimizer, \n",
    "    train_loader = train_loader, \n",
    "    test_loader = test_loader,\n",
    "    ensemble_size = 10,\n",
    "    epochs = 2000, \n",
    "    csv_file = 'concrete_model_results_ence.csv',\n",
    "    data_noise_options = data_noise_options,\n",
    "    print_frequency = 1000\n",
    ")"
   ]
  },
  {
   "cell_type": "code",
   "execution_count": 21,
   "metadata": {},
   "outputs": [
    {
     "data": {
      "text/plain": [
       "Index(['model', 'ensemble_size', 'hidden_layers', 'hidden_units',\n",
       "       'weight_decay', 'data_noise', 'epochs', 'optimizer', 'loss_fn',\n",
       "       'learning_rate', 'ENCE', 'GNLLL', 'RMSE'],\n",
       "      dtype='object')"
      ]
     },
     "execution_count": 21,
     "metadata": {},
     "output_type": "execute_result"
    }
   ],
   "source": [
    "# Read the results from our trained models\n",
    "df = pd.read_csv('..\\\\results\\concrete_model_results_ence.csv')\n",
    "\n",
    "# Collect Batch and Anchored Batch model results\n",
    "df_batch = df[ (df['model'] == 'batch')]\n",
    "df_anchored = df[(df['model'] == 'anchored_batch')]\n",
    "df_anchored.columns"
   ]
  },
  {
   "cell_type": "code",
   "execution_count": 22,
   "metadata": {},
   "outputs": [
    {
     "data": {
      "application/vnd.plotly.v1+json": {
       "config": {
        "plotlyServerURL": "https://plot.ly"
       },
       "data": [
        {
         "dimensions": [
          {
           "label": "hidden_layers",
           "values": [
            9,
            9,
            9,
            10,
            10,
            10,
            9,
            10,
            9,
            9,
            9,
            9,
            10,
            10,
            10,
            10
           ]
          },
          {
           "label": "weight_decay",
           "values": [
            0.001,
            0.0001,
            0.00001,
            0.001,
            0.0001,
            0.00001,
            0.01,
            0.01,
            0.01,
            0.001,
            0.0001,
            0.00001,
            0.01,
            0.001,
            0.0001,
            0.00001
           ]
          },
          {
           "label": "ENCE",
           "values": [
            0.006672236,
            0.00606723,
            0.007755122,
            0.007921039,
            0.00606459,
            0.005292132,
            0.006213418,
            0.007324731,
            0.011924032,
            0.01212445,
            0.012462804,
            0.012335517,
            0.01289052,
            0.010851044,
            0.010094963,
            0.010861509
           ]
          },
          {
           "label": "GNLLL",
           "values": [
            3.970751206,
            4.196672837,
            4.618985415,
            4.061803261,
            3.990327438,
            4.188829819,
            4.37285622,
            3.933954557,
            9.231940269,
            8.614970366,
            9.070743084,
            9.205824852,
            9.092270851,
            8.459661166,
            8.475510915,
            7.869781176
           ]
          },
          {
           "label": "RMSE",
           "values": [
            6.040912787,
            6.084911505,
            6.165274461,
            6.019360701,
            6.097709179,
            6.022892475,
            5.993837357,
            5.93307972,
            5.82428058,
            5.99924612,
            5.918955803,
            5.837918917,
            6.242009958,
            6.116721153,
            5.846505801,
            6.133578142
           ]
          }
         ],
         "domain": {
          "x": [
           0,
           1
          ],
          "y": [
           0,
           1
          ]
         },
         "name": "",
         "type": "parcoords"
        }
       ],
       "layout": {
        "legend": {
         "tracegroupgap": 0
        },
        "margin": {
         "t": 60
        },
        "template": {
         "data": {
          "bar": [
           {
            "error_x": {
             "color": "#2a3f5f"
            },
            "error_y": {
             "color": "#2a3f5f"
            },
            "marker": {
             "line": {
              "color": "#E5ECF6",
              "width": 0.5
             },
             "pattern": {
              "fillmode": "overlay",
              "size": 10,
              "solidity": 0.2
             }
            },
            "type": "bar"
           }
          ],
          "barpolar": [
           {
            "marker": {
             "line": {
              "color": "#E5ECF6",
              "width": 0.5
             },
             "pattern": {
              "fillmode": "overlay",
              "size": 10,
              "solidity": 0.2
             }
            },
            "type": "barpolar"
           }
          ],
          "carpet": [
           {
            "aaxis": {
             "endlinecolor": "#2a3f5f",
             "gridcolor": "white",
             "linecolor": "white",
             "minorgridcolor": "white",
             "startlinecolor": "#2a3f5f"
            },
            "baxis": {
             "endlinecolor": "#2a3f5f",
             "gridcolor": "white",
             "linecolor": "white",
             "minorgridcolor": "white",
             "startlinecolor": "#2a3f5f"
            },
            "type": "carpet"
           }
          ],
          "choropleth": [
           {
            "colorbar": {
             "outlinewidth": 0,
             "ticks": ""
            },
            "type": "choropleth"
           }
          ],
          "contour": [
           {
            "colorbar": {
             "outlinewidth": 0,
             "ticks": ""
            },
            "colorscale": [
             [
              0,
              "#0d0887"
             ],
             [
              0.1111111111111111,
              "#46039f"
             ],
             [
              0.2222222222222222,
              "#7201a8"
             ],
             [
              0.3333333333333333,
              "#9c179e"
             ],
             [
              0.4444444444444444,
              "#bd3786"
             ],
             [
              0.5555555555555556,
              "#d8576b"
             ],
             [
              0.6666666666666666,
              "#ed7953"
             ],
             [
              0.7777777777777778,
              "#fb9f3a"
             ],
             [
              0.8888888888888888,
              "#fdca26"
             ],
             [
              1,
              "#f0f921"
             ]
            ],
            "type": "contour"
           }
          ],
          "contourcarpet": [
           {
            "colorbar": {
             "outlinewidth": 0,
             "ticks": ""
            },
            "type": "contourcarpet"
           }
          ],
          "heatmap": [
           {
            "colorbar": {
             "outlinewidth": 0,
             "ticks": ""
            },
            "colorscale": [
             [
              0,
              "#0d0887"
             ],
             [
              0.1111111111111111,
              "#46039f"
             ],
             [
              0.2222222222222222,
              "#7201a8"
             ],
             [
              0.3333333333333333,
              "#9c179e"
             ],
             [
              0.4444444444444444,
              "#bd3786"
             ],
             [
              0.5555555555555556,
              "#d8576b"
             ],
             [
              0.6666666666666666,
              "#ed7953"
             ],
             [
              0.7777777777777778,
              "#fb9f3a"
             ],
             [
              0.8888888888888888,
              "#fdca26"
             ],
             [
              1,
              "#f0f921"
             ]
            ],
            "type": "heatmap"
           }
          ],
          "heatmapgl": [
           {
            "colorbar": {
             "outlinewidth": 0,
             "ticks": ""
            },
            "colorscale": [
             [
              0,
              "#0d0887"
             ],
             [
              0.1111111111111111,
              "#46039f"
             ],
             [
              0.2222222222222222,
              "#7201a8"
             ],
             [
              0.3333333333333333,
              "#9c179e"
             ],
             [
              0.4444444444444444,
              "#bd3786"
             ],
             [
              0.5555555555555556,
              "#d8576b"
             ],
             [
              0.6666666666666666,
              "#ed7953"
             ],
             [
              0.7777777777777778,
              "#fb9f3a"
             ],
             [
              0.8888888888888888,
              "#fdca26"
             ],
             [
              1,
              "#f0f921"
             ]
            ],
            "type": "heatmapgl"
           }
          ],
          "histogram": [
           {
            "marker": {
             "pattern": {
              "fillmode": "overlay",
              "size": 10,
              "solidity": 0.2
             }
            },
            "type": "histogram"
           }
          ],
          "histogram2d": [
           {
            "colorbar": {
             "outlinewidth": 0,
             "ticks": ""
            },
            "colorscale": [
             [
              0,
              "#0d0887"
             ],
             [
              0.1111111111111111,
              "#46039f"
             ],
             [
              0.2222222222222222,
              "#7201a8"
             ],
             [
              0.3333333333333333,
              "#9c179e"
             ],
             [
              0.4444444444444444,
              "#bd3786"
             ],
             [
              0.5555555555555556,
              "#d8576b"
             ],
             [
              0.6666666666666666,
              "#ed7953"
             ],
             [
              0.7777777777777778,
              "#fb9f3a"
             ],
             [
              0.8888888888888888,
              "#fdca26"
             ],
             [
              1,
              "#f0f921"
             ]
            ],
            "type": "histogram2d"
           }
          ],
          "histogram2dcontour": [
           {
            "colorbar": {
             "outlinewidth": 0,
             "ticks": ""
            },
            "colorscale": [
             [
              0,
              "#0d0887"
             ],
             [
              0.1111111111111111,
              "#46039f"
             ],
             [
              0.2222222222222222,
              "#7201a8"
             ],
             [
              0.3333333333333333,
              "#9c179e"
             ],
             [
              0.4444444444444444,
              "#bd3786"
             ],
             [
              0.5555555555555556,
              "#d8576b"
             ],
             [
              0.6666666666666666,
              "#ed7953"
             ],
             [
              0.7777777777777778,
              "#fb9f3a"
             ],
             [
              0.8888888888888888,
              "#fdca26"
             ],
             [
              1,
              "#f0f921"
             ]
            ],
            "type": "histogram2dcontour"
           }
          ],
          "mesh3d": [
           {
            "colorbar": {
             "outlinewidth": 0,
             "ticks": ""
            },
            "type": "mesh3d"
           }
          ],
          "parcoords": [
           {
            "line": {
             "colorbar": {
              "outlinewidth": 0,
              "ticks": ""
             }
            },
            "type": "parcoords"
           }
          ],
          "pie": [
           {
            "automargin": true,
            "type": "pie"
           }
          ],
          "scatter": [
           {
            "fillpattern": {
             "fillmode": "overlay",
             "size": 10,
             "solidity": 0.2
            },
            "type": "scatter"
           }
          ],
          "scatter3d": [
           {
            "line": {
             "colorbar": {
              "outlinewidth": 0,
              "ticks": ""
             }
            },
            "marker": {
             "colorbar": {
              "outlinewidth": 0,
              "ticks": ""
             }
            },
            "type": "scatter3d"
           }
          ],
          "scattercarpet": [
           {
            "marker": {
             "colorbar": {
              "outlinewidth": 0,
              "ticks": ""
             }
            },
            "type": "scattercarpet"
           }
          ],
          "scattergeo": [
           {
            "marker": {
             "colorbar": {
              "outlinewidth": 0,
              "ticks": ""
             }
            },
            "type": "scattergeo"
           }
          ],
          "scattergl": [
           {
            "marker": {
             "colorbar": {
              "outlinewidth": 0,
              "ticks": ""
             }
            },
            "type": "scattergl"
           }
          ],
          "scattermapbox": [
           {
            "marker": {
             "colorbar": {
              "outlinewidth": 0,
              "ticks": ""
             }
            },
            "type": "scattermapbox"
           }
          ],
          "scatterpolar": [
           {
            "marker": {
             "colorbar": {
              "outlinewidth": 0,
              "ticks": ""
             }
            },
            "type": "scatterpolar"
           }
          ],
          "scatterpolargl": [
           {
            "marker": {
             "colorbar": {
              "outlinewidth": 0,
              "ticks": ""
             }
            },
            "type": "scatterpolargl"
           }
          ],
          "scatterternary": [
           {
            "marker": {
             "colorbar": {
              "outlinewidth": 0,
              "ticks": ""
             }
            },
            "type": "scatterternary"
           }
          ],
          "surface": [
           {
            "colorbar": {
             "outlinewidth": 0,
             "ticks": ""
            },
            "colorscale": [
             [
              0,
              "#0d0887"
             ],
             [
              0.1111111111111111,
              "#46039f"
             ],
             [
              0.2222222222222222,
              "#7201a8"
             ],
             [
              0.3333333333333333,
              "#9c179e"
             ],
             [
              0.4444444444444444,
              "#bd3786"
             ],
             [
              0.5555555555555556,
              "#d8576b"
             ],
             [
              0.6666666666666666,
              "#ed7953"
             ],
             [
              0.7777777777777778,
              "#fb9f3a"
             ],
             [
              0.8888888888888888,
              "#fdca26"
             ],
             [
              1,
              "#f0f921"
             ]
            ],
            "type": "surface"
           }
          ],
          "table": [
           {
            "cells": {
             "fill": {
              "color": "#EBF0F8"
             },
             "line": {
              "color": "white"
             }
            },
            "header": {
             "fill": {
              "color": "#C8D4E3"
             },
             "line": {
              "color": "white"
             }
            },
            "type": "table"
           }
          ]
         },
         "layout": {
          "annotationdefaults": {
           "arrowcolor": "#2a3f5f",
           "arrowhead": 0,
           "arrowwidth": 1
          },
          "autotypenumbers": "strict",
          "coloraxis": {
           "colorbar": {
            "outlinewidth": 0,
            "ticks": ""
           }
          },
          "colorscale": {
           "diverging": [
            [
             0,
             "#8e0152"
            ],
            [
             0.1,
             "#c51b7d"
            ],
            [
             0.2,
             "#de77ae"
            ],
            [
             0.3,
             "#f1b6da"
            ],
            [
             0.4,
             "#fde0ef"
            ],
            [
             0.5,
             "#f7f7f7"
            ],
            [
             0.6,
             "#e6f5d0"
            ],
            [
             0.7,
             "#b8e186"
            ],
            [
             0.8,
             "#7fbc41"
            ],
            [
             0.9,
             "#4d9221"
            ],
            [
             1,
             "#276419"
            ]
           ],
           "sequential": [
            [
             0,
             "#0d0887"
            ],
            [
             0.1111111111111111,
             "#46039f"
            ],
            [
             0.2222222222222222,
             "#7201a8"
            ],
            [
             0.3333333333333333,
             "#9c179e"
            ],
            [
             0.4444444444444444,
             "#bd3786"
            ],
            [
             0.5555555555555556,
             "#d8576b"
            ],
            [
             0.6666666666666666,
             "#ed7953"
            ],
            [
             0.7777777777777778,
             "#fb9f3a"
            ],
            [
             0.8888888888888888,
             "#fdca26"
            ],
            [
             1,
             "#f0f921"
            ]
           ],
           "sequentialminus": [
            [
             0,
             "#0d0887"
            ],
            [
             0.1111111111111111,
             "#46039f"
            ],
            [
             0.2222222222222222,
             "#7201a8"
            ],
            [
             0.3333333333333333,
             "#9c179e"
            ],
            [
             0.4444444444444444,
             "#bd3786"
            ],
            [
             0.5555555555555556,
             "#d8576b"
            ],
            [
             0.6666666666666666,
             "#ed7953"
            ],
            [
             0.7777777777777778,
             "#fb9f3a"
            ],
            [
             0.8888888888888888,
             "#fdca26"
            ],
            [
             1,
             "#f0f921"
            ]
           ]
          },
          "colorway": [
           "#636efa",
           "#EF553B",
           "#00cc96",
           "#ab63fa",
           "#FFA15A",
           "#19d3f3",
           "#FF6692",
           "#B6E880",
           "#FF97FF",
           "#FECB52"
          ],
          "font": {
           "color": "#2a3f5f"
          },
          "geo": {
           "bgcolor": "white",
           "lakecolor": "white",
           "landcolor": "#E5ECF6",
           "showlakes": true,
           "showland": true,
           "subunitcolor": "white"
          },
          "hoverlabel": {
           "align": "left"
          },
          "hovermode": "closest",
          "mapbox": {
           "style": "light"
          },
          "paper_bgcolor": "white",
          "plot_bgcolor": "#E5ECF6",
          "polar": {
           "angularaxis": {
            "gridcolor": "white",
            "linecolor": "white",
            "ticks": ""
           },
           "bgcolor": "#E5ECF6",
           "radialaxis": {
            "gridcolor": "white",
            "linecolor": "white",
            "ticks": ""
           }
          },
          "scene": {
           "xaxis": {
            "backgroundcolor": "#E5ECF6",
            "gridcolor": "white",
            "gridwidth": 2,
            "linecolor": "white",
            "showbackground": true,
            "ticks": "",
            "zerolinecolor": "white"
           },
           "yaxis": {
            "backgroundcolor": "#E5ECF6",
            "gridcolor": "white",
            "gridwidth": 2,
            "linecolor": "white",
            "showbackground": true,
            "ticks": "",
            "zerolinecolor": "white"
           },
           "zaxis": {
            "backgroundcolor": "#E5ECF6",
            "gridcolor": "white",
            "gridwidth": 2,
            "linecolor": "white",
            "showbackground": true,
            "ticks": "",
            "zerolinecolor": "white"
           }
          },
          "shapedefaults": {
           "line": {
            "color": "#2a3f5f"
           }
          },
          "ternary": {
           "aaxis": {
            "gridcolor": "white",
            "linecolor": "white",
            "ticks": ""
           },
           "baxis": {
            "gridcolor": "white",
            "linecolor": "white",
            "ticks": ""
           },
           "bgcolor": "#E5ECF6",
           "caxis": {
            "gridcolor": "white",
            "linecolor": "white",
            "ticks": ""
           }
          },
          "title": {
           "x": 0.05
          },
          "xaxis": {
           "automargin": true,
           "gridcolor": "white",
           "linecolor": "white",
           "ticks": "",
           "title": {
            "standoff": 15
           },
           "zerolinecolor": "white",
           "zerolinewidth": 2
          },
          "yaxis": {
           "automargin": true,
           "gridcolor": "white",
           "linecolor": "white",
           "ticks": "",
           "title": {
            "standoff": 15
           },
           "zerolinecolor": "white",
           "zerolinewidth": 2
          }
         }
        }
       }
      }
     },
     "metadata": {},
     "output_type": "display_data"
    }
   ],
   "source": [
    "# Keep the interesting parameters which we are tuning and the performances\n",
    "df_batch = df_batch[['hidden_layers', 'weight_decay', 'ENCE','GNLLL', 'RMSE']]\n",
    "fig = px.parallel_coordinates(df_batch)\n",
    "\n",
    "fig.show()"
   ]
  },
  {
   "cell_type": "code",
   "execution_count": 23,
   "metadata": {},
   "outputs": [
    {
     "data": {
      "application/vnd.plotly.v1+json": {
       "config": {
        "plotlyServerURL": "https://plot.ly"
       },
       "data": [
        {
         "dimensions": [
          {
           "label": "hidden_layers",
           "values": [
            6,
            6,
            8,
            8,
            10,
            10,
            6,
            6,
            8,
            8,
            10,
            10,
            20,
            20,
            30,
            30,
            40,
            40
           ]
          },
          {
           "label": "data_noise",
           "values": [
            0.0001,
            0.00001,
            0.0001,
            0.00001,
            0.0001,
            0.00001,
            0.0001,
            0.00001,
            0.0001,
            0.00001,
            0.0001,
            0.00001,
            0.0001,
            0.00001,
            0.0001,
            0.00001,
            0.0001,
            0.00001
           ]
          },
          {
           "label": "epochs",
           "values": [
            1000,
            1000,
            1000,
            1000,
            1000,
            1000,
            2000,
            2000,
            2000,
            2000,
            2000,
            2000,
            2000,
            2000,
            2000,
            2000,
            2000,
            2000
           ]
          },
          {
           "label": "ENCE",
           "values": [
            0.00480916,
            0.010480901,
            0.006889387,
            0.013993959,
            0.006188143,
            0.011756305,
            0.008879848,
            0.013204359,
            0.011353688,
            0.015565337,
            0.012789492,
            0.021443877,
            0.012177449,
            0.024905061,
            0.001342244,
            0.001783624,
            0.001188093,
            0.001163729
           ]
          },
          {
           "label": "GNLLL",
           "values": [
            3.455641747,
            7.075397491,
            3.869340102,
            8.26837492,
            3.725725969,
            8.113072872,
            5.162876685,
            15.19325479,
            7.184723377,
            14.55362542,
            6.611470381,
            15.40241814,
            8.39244175,
            15.64795876,
            3.34261473,
            3.341408968,
            3.342348178,
            3.346267223
           ]
          },
          {
           "label": "RMSE",
           "values": [
            6.007744471,
            5.944034894,
            6.418173949,
            6.054938634,
            6.161677202,
            6.065714677,
            5.692839781,
            5.781888008,
            6.005028884,
            5.947098096,
            5.601760705,
            5.668970426,
            5.764507135,
            5.792701085,
            17.11308988,
            17.11381086,
            17.1323452,
            17.16711617
           ]
          }
         ],
         "domain": {
          "x": [
           0,
           1
          ],
          "y": [
           0,
           1
          ]
         },
         "name": "",
         "type": "parcoords"
        }
       ],
       "layout": {
        "legend": {
         "tracegroupgap": 0
        },
        "margin": {
         "t": 60
        },
        "template": {
         "data": {
          "bar": [
           {
            "error_x": {
             "color": "#2a3f5f"
            },
            "error_y": {
             "color": "#2a3f5f"
            },
            "marker": {
             "line": {
              "color": "#E5ECF6",
              "width": 0.5
             },
             "pattern": {
              "fillmode": "overlay",
              "size": 10,
              "solidity": 0.2
             }
            },
            "type": "bar"
           }
          ],
          "barpolar": [
           {
            "marker": {
             "line": {
              "color": "#E5ECF6",
              "width": 0.5
             },
             "pattern": {
              "fillmode": "overlay",
              "size": 10,
              "solidity": 0.2
             }
            },
            "type": "barpolar"
           }
          ],
          "carpet": [
           {
            "aaxis": {
             "endlinecolor": "#2a3f5f",
             "gridcolor": "white",
             "linecolor": "white",
             "minorgridcolor": "white",
             "startlinecolor": "#2a3f5f"
            },
            "baxis": {
             "endlinecolor": "#2a3f5f",
             "gridcolor": "white",
             "linecolor": "white",
             "minorgridcolor": "white",
             "startlinecolor": "#2a3f5f"
            },
            "type": "carpet"
           }
          ],
          "choropleth": [
           {
            "colorbar": {
             "outlinewidth": 0,
             "ticks": ""
            },
            "type": "choropleth"
           }
          ],
          "contour": [
           {
            "colorbar": {
             "outlinewidth": 0,
             "ticks": ""
            },
            "colorscale": [
             [
              0,
              "#0d0887"
             ],
             [
              0.1111111111111111,
              "#46039f"
             ],
             [
              0.2222222222222222,
              "#7201a8"
             ],
             [
              0.3333333333333333,
              "#9c179e"
             ],
             [
              0.4444444444444444,
              "#bd3786"
             ],
             [
              0.5555555555555556,
              "#d8576b"
             ],
             [
              0.6666666666666666,
              "#ed7953"
             ],
             [
              0.7777777777777778,
              "#fb9f3a"
             ],
             [
              0.8888888888888888,
              "#fdca26"
             ],
             [
              1,
              "#f0f921"
             ]
            ],
            "type": "contour"
           }
          ],
          "contourcarpet": [
           {
            "colorbar": {
             "outlinewidth": 0,
             "ticks": ""
            },
            "type": "contourcarpet"
           }
          ],
          "heatmap": [
           {
            "colorbar": {
             "outlinewidth": 0,
             "ticks": ""
            },
            "colorscale": [
             [
              0,
              "#0d0887"
             ],
             [
              0.1111111111111111,
              "#46039f"
             ],
             [
              0.2222222222222222,
              "#7201a8"
             ],
             [
              0.3333333333333333,
              "#9c179e"
             ],
             [
              0.4444444444444444,
              "#bd3786"
             ],
             [
              0.5555555555555556,
              "#d8576b"
             ],
             [
              0.6666666666666666,
              "#ed7953"
             ],
             [
              0.7777777777777778,
              "#fb9f3a"
             ],
             [
              0.8888888888888888,
              "#fdca26"
             ],
             [
              1,
              "#f0f921"
             ]
            ],
            "type": "heatmap"
           }
          ],
          "heatmapgl": [
           {
            "colorbar": {
             "outlinewidth": 0,
             "ticks": ""
            },
            "colorscale": [
             [
              0,
              "#0d0887"
             ],
             [
              0.1111111111111111,
              "#46039f"
             ],
             [
              0.2222222222222222,
              "#7201a8"
             ],
             [
              0.3333333333333333,
              "#9c179e"
             ],
             [
              0.4444444444444444,
              "#bd3786"
             ],
             [
              0.5555555555555556,
              "#d8576b"
             ],
             [
              0.6666666666666666,
              "#ed7953"
             ],
             [
              0.7777777777777778,
              "#fb9f3a"
             ],
             [
              0.8888888888888888,
              "#fdca26"
             ],
             [
              1,
              "#f0f921"
             ]
            ],
            "type": "heatmapgl"
           }
          ],
          "histogram": [
           {
            "marker": {
             "pattern": {
              "fillmode": "overlay",
              "size": 10,
              "solidity": 0.2
             }
            },
            "type": "histogram"
           }
          ],
          "histogram2d": [
           {
            "colorbar": {
             "outlinewidth": 0,
             "ticks": ""
            },
            "colorscale": [
             [
              0,
              "#0d0887"
             ],
             [
              0.1111111111111111,
              "#46039f"
             ],
             [
              0.2222222222222222,
              "#7201a8"
             ],
             [
              0.3333333333333333,
              "#9c179e"
             ],
             [
              0.4444444444444444,
              "#bd3786"
             ],
             [
              0.5555555555555556,
              "#d8576b"
             ],
             [
              0.6666666666666666,
              "#ed7953"
             ],
             [
              0.7777777777777778,
              "#fb9f3a"
             ],
             [
              0.8888888888888888,
              "#fdca26"
             ],
             [
              1,
              "#f0f921"
             ]
            ],
            "type": "histogram2d"
           }
          ],
          "histogram2dcontour": [
           {
            "colorbar": {
             "outlinewidth": 0,
             "ticks": ""
            },
            "colorscale": [
             [
              0,
              "#0d0887"
             ],
             [
              0.1111111111111111,
              "#46039f"
             ],
             [
              0.2222222222222222,
              "#7201a8"
             ],
             [
              0.3333333333333333,
              "#9c179e"
             ],
             [
              0.4444444444444444,
              "#bd3786"
             ],
             [
              0.5555555555555556,
              "#d8576b"
             ],
             [
              0.6666666666666666,
              "#ed7953"
             ],
             [
              0.7777777777777778,
              "#fb9f3a"
             ],
             [
              0.8888888888888888,
              "#fdca26"
             ],
             [
              1,
              "#f0f921"
             ]
            ],
            "type": "histogram2dcontour"
           }
          ],
          "mesh3d": [
           {
            "colorbar": {
             "outlinewidth": 0,
             "ticks": ""
            },
            "type": "mesh3d"
           }
          ],
          "parcoords": [
           {
            "line": {
             "colorbar": {
              "outlinewidth": 0,
              "ticks": ""
             }
            },
            "type": "parcoords"
           }
          ],
          "pie": [
           {
            "automargin": true,
            "type": "pie"
           }
          ],
          "scatter": [
           {
            "fillpattern": {
             "fillmode": "overlay",
             "size": 10,
             "solidity": 0.2
            },
            "type": "scatter"
           }
          ],
          "scatter3d": [
           {
            "line": {
             "colorbar": {
              "outlinewidth": 0,
              "ticks": ""
             }
            },
            "marker": {
             "colorbar": {
              "outlinewidth": 0,
              "ticks": ""
             }
            },
            "type": "scatter3d"
           }
          ],
          "scattercarpet": [
           {
            "marker": {
             "colorbar": {
              "outlinewidth": 0,
              "ticks": ""
             }
            },
            "type": "scattercarpet"
           }
          ],
          "scattergeo": [
           {
            "marker": {
             "colorbar": {
              "outlinewidth": 0,
              "ticks": ""
             }
            },
            "type": "scattergeo"
           }
          ],
          "scattergl": [
           {
            "marker": {
             "colorbar": {
              "outlinewidth": 0,
              "ticks": ""
             }
            },
            "type": "scattergl"
           }
          ],
          "scattermapbox": [
           {
            "marker": {
             "colorbar": {
              "outlinewidth": 0,
              "ticks": ""
             }
            },
            "type": "scattermapbox"
           }
          ],
          "scatterpolar": [
           {
            "marker": {
             "colorbar": {
              "outlinewidth": 0,
              "ticks": ""
             }
            },
            "type": "scatterpolar"
           }
          ],
          "scatterpolargl": [
           {
            "marker": {
             "colorbar": {
              "outlinewidth": 0,
              "ticks": ""
             }
            },
            "type": "scatterpolargl"
           }
          ],
          "scatterternary": [
           {
            "marker": {
             "colorbar": {
              "outlinewidth": 0,
              "ticks": ""
             }
            },
            "type": "scatterternary"
           }
          ],
          "surface": [
           {
            "colorbar": {
             "outlinewidth": 0,
             "ticks": ""
            },
            "colorscale": [
             [
              0,
              "#0d0887"
             ],
             [
              0.1111111111111111,
              "#46039f"
             ],
             [
              0.2222222222222222,
              "#7201a8"
             ],
             [
              0.3333333333333333,
              "#9c179e"
             ],
             [
              0.4444444444444444,
              "#bd3786"
             ],
             [
              0.5555555555555556,
              "#d8576b"
             ],
             [
              0.6666666666666666,
              "#ed7953"
             ],
             [
              0.7777777777777778,
              "#fb9f3a"
             ],
             [
              0.8888888888888888,
              "#fdca26"
             ],
             [
              1,
              "#f0f921"
             ]
            ],
            "type": "surface"
           }
          ],
          "table": [
           {
            "cells": {
             "fill": {
              "color": "#EBF0F8"
             },
             "line": {
              "color": "white"
             }
            },
            "header": {
             "fill": {
              "color": "#C8D4E3"
             },
             "line": {
              "color": "white"
             }
            },
            "type": "table"
           }
          ]
         },
         "layout": {
          "annotationdefaults": {
           "arrowcolor": "#2a3f5f",
           "arrowhead": 0,
           "arrowwidth": 1
          },
          "autotypenumbers": "strict",
          "coloraxis": {
           "colorbar": {
            "outlinewidth": 0,
            "ticks": ""
           }
          },
          "colorscale": {
           "diverging": [
            [
             0,
             "#8e0152"
            ],
            [
             0.1,
             "#c51b7d"
            ],
            [
             0.2,
             "#de77ae"
            ],
            [
             0.3,
             "#f1b6da"
            ],
            [
             0.4,
             "#fde0ef"
            ],
            [
             0.5,
             "#f7f7f7"
            ],
            [
             0.6,
             "#e6f5d0"
            ],
            [
             0.7,
             "#b8e186"
            ],
            [
             0.8,
             "#7fbc41"
            ],
            [
             0.9,
             "#4d9221"
            ],
            [
             1,
             "#276419"
            ]
           ],
           "sequential": [
            [
             0,
             "#0d0887"
            ],
            [
             0.1111111111111111,
             "#46039f"
            ],
            [
             0.2222222222222222,
             "#7201a8"
            ],
            [
             0.3333333333333333,
             "#9c179e"
            ],
            [
             0.4444444444444444,
             "#bd3786"
            ],
            [
             0.5555555555555556,
             "#d8576b"
            ],
            [
             0.6666666666666666,
             "#ed7953"
            ],
            [
             0.7777777777777778,
             "#fb9f3a"
            ],
            [
             0.8888888888888888,
             "#fdca26"
            ],
            [
             1,
             "#f0f921"
            ]
           ],
           "sequentialminus": [
            [
             0,
             "#0d0887"
            ],
            [
             0.1111111111111111,
             "#46039f"
            ],
            [
             0.2222222222222222,
             "#7201a8"
            ],
            [
             0.3333333333333333,
             "#9c179e"
            ],
            [
             0.4444444444444444,
             "#bd3786"
            ],
            [
             0.5555555555555556,
             "#d8576b"
            ],
            [
             0.6666666666666666,
             "#ed7953"
            ],
            [
             0.7777777777777778,
             "#fb9f3a"
            ],
            [
             0.8888888888888888,
             "#fdca26"
            ],
            [
             1,
             "#f0f921"
            ]
           ]
          },
          "colorway": [
           "#636efa",
           "#EF553B",
           "#00cc96",
           "#ab63fa",
           "#FFA15A",
           "#19d3f3",
           "#FF6692",
           "#B6E880",
           "#FF97FF",
           "#FECB52"
          ],
          "font": {
           "color": "#2a3f5f"
          },
          "geo": {
           "bgcolor": "white",
           "lakecolor": "white",
           "landcolor": "#E5ECF6",
           "showlakes": true,
           "showland": true,
           "subunitcolor": "white"
          },
          "hoverlabel": {
           "align": "left"
          },
          "hovermode": "closest",
          "mapbox": {
           "style": "light"
          },
          "paper_bgcolor": "white",
          "plot_bgcolor": "#E5ECF6",
          "polar": {
           "angularaxis": {
            "gridcolor": "white",
            "linecolor": "white",
            "ticks": ""
           },
           "bgcolor": "#E5ECF6",
           "radialaxis": {
            "gridcolor": "white",
            "linecolor": "white",
            "ticks": ""
           }
          },
          "scene": {
           "xaxis": {
            "backgroundcolor": "#E5ECF6",
            "gridcolor": "white",
            "gridwidth": 2,
            "linecolor": "white",
            "showbackground": true,
            "ticks": "",
            "zerolinecolor": "white"
           },
           "yaxis": {
            "backgroundcolor": "#E5ECF6",
            "gridcolor": "white",
            "gridwidth": 2,
            "linecolor": "white",
            "showbackground": true,
            "ticks": "",
            "zerolinecolor": "white"
           },
           "zaxis": {
            "backgroundcolor": "#E5ECF6",
            "gridcolor": "white",
            "gridwidth": 2,
            "linecolor": "white",
            "showbackground": true,
            "ticks": "",
            "zerolinecolor": "white"
           }
          },
          "shapedefaults": {
           "line": {
            "color": "#2a3f5f"
           }
          },
          "ternary": {
           "aaxis": {
            "gridcolor": "white",
            "linecolor": "white",
            "ticks": ""
           },
           "baxis": {
            "gridcolor": "white",
            "linecolor": "white",
            "ticks": ""
           },
           "bgcolor": "#E5ECF6",
           "caxis": {
            "gridcolor": "white",
            "linecolor": "white",
            "ticks": ""
           }
          },
          "title": {
           "x": 0.05
          },
          "xaxis": {
           "automargin": true,
           "gridcolor": "white",
           "linecolor": "white",
           "ticks": "",
           "title": {
            "standoff": 15
           },
           "zerolinecolor": "white",
           "zerolinewidth": 2
          },
          "yaxis": {
           "automargin": true,
           "gridcolor": "white",
           "linecolor": "white",
           "ticks": "",
           "title": {
            "standoff": 15
           },
           "zerolinecolor": "white",
           "zerolinewidth": 2
          }
         }
        }
       }
      }
     },
     "metadata": {},
     "output_type": "display_data"
    }
   ],
   "source": [
    "# Keep the interesting parameters which we are tuning and the performances\n",
    "df_anchored = df_anchored[['hidden_layers', 'data_noise', 'epochs', 'ENCE','GNLLL', 'RMSE']]\n",
    "fig = px.parallel_coordinates(df_anchored)\n",
    "\n",
    "fig.show()"
   ]
  },
  {
   "cell_type": "code",
   "execution_count": 24,
   "metadata": {},
   "outputs": [
    {
     "data": {
      "application/vnd.plotly.v1+json": {
       "config": {
        "plotlyServerURL": "https://plot.ly"
       },
       "data": [
        {
         "dimensions": [
          {
           "label": "hidden_layers",
           "values": [
            6,
            6,
            8,
            8,
            10,
            10,
            6,
            6,
            8,
            8,
            10,
            10,
            20,
            20
           ]
          },
          {
           "label": "data_noise",
           "values": [
            0.0001,
            0.00001,
            0.0001,
            0.00001,
            0.0001,
            0.00001,
            0.0001,
            0.00001,
            0.0001,
            0.00001,
            0.0001,
            0.00001,
            0.0001,
            0.00001
           ]
          },
          {
           "label": "epochs",
           "values": [
            1000,
            1000,
            1000,
            1000,
            1000,
            1000,
            2000,
            2000,
            2000,
            2000,
            2000,
            2000,
            2000,
            2000
           ]
          },
          {
           "label": "ENCE",
           "values": [
            0.00480916,
            0.010480901,
            0.006889387,
            0.013993959,
            0.006188143,
            0.011756305,
            0.008879848,
            0.013204359,
            0.011353688,
            0.015565337,
            0.012789492,
            0.021443877,
            0.012177449,
            0.024905061
           ]
          },
          {
           "label": "GNLLL",
           "values": [
            3.455641747,
            7.075397491,
            3.869340102,
            8.26837492,
            3.725725969,
            8.113072872,
            5.162876685,
            15.19325479,
            7.184723377,
            14.55362542,
            6.611470381,
            15.40241814,
            8.39244175,
            15.64795876
           ]
          },
          {
           "label": "RMSE",
           "values": [
            6.007744471,
            5.944034894,
            6.418173949,
            6.054938634,
            6.161677202,
            6.065714677,
            5.692839781,
            5.781888008,
            6.005028884,
            5.947098096,
            5.601760705,
            5.668970426,
            5.764507135,
            5.792701085
           ]
          }
         ],
         "domain": {
          "x": [
           0,
           1
          ],
          "y": [
           0,
           1
          ]
         },
         "name": "",
         "type": "parcoords"
        }
       ],
       "layout": {
        "legend": {
         "tracegroupgap": 0
        },
        "margin": {
         "t": 60
        },
        "template": {
         "data": {
          "bar": [
           {
            "error_x": {
             "color": "#2a3f5f"
            },
            "error_y": {
             "color": "#2a3f5f"
            },
            "marker": {
             "line": {
              "color": "#E5ECF6",
              "width": 0.5
             },
             "pattern": {
              "fillmode": "overlay",
              "size": 10,
              "solidity": 0.2
             }
            },
            "type": "bar"
           }
          ],
          "barpolar": [
           {
            "marker": {
             "line": {
              "color": "#E5ECF6",
              "width": 0.5
             },
             "pattern": {
              "fillmode": "overlay",
              "size": 10,
              "solidity": 0.2
             }
            },
            "type": "barpolar"
           }
          ],
          "carpet": [
           {
            "aaxis": {
             "endlinecolor": "#2a3f5f",
             "gridcolor": "white",
             "linecolor": "white",
             "minorgridcolor": "white",
             "startlinecolor": "#2a3f5f"
            },
            "baxis": {
             "endlinecolor": "#2a3f5f",
             "gridcolor": "white",
             "linecolor": "white",
             "minorgridcolor": "white",
             "startlinecolor": "#2a3f5f"
            },
            "type": "carpet"
           }
          ],
          "choropleth": [
           {
            "colorbar": {
             "outlinewidth": 0,
             "ticks": ""
            },
            "type": "choropleth"
           }
          ],
          "contour": [
           {
            "colorbar": {
             "outlinewidth": 0,
             "ticks": ""
            },
            "colorscale": [
             [
              0,
              "#0d0887"
             ],
             [
              0.1111111111111111,
              "#46039f"
             ],
             [
              0.2222222222222222,
              "#7201a8"
             ],
             [
              0.3333333333333333,
              "#9c179e"
             ],
             [
              0.4444444444444444,
              "#bd3786"
             ],
             [
              0.5555555555555556,
              "#d8576b"
             ],
             [
              0.6666666666666666,
              "#ed7953"
             ],
             [
              0.7777777777777778,
              "#fb9f3a"
             ],
             [
              0.8888888888888888,
              "#fdca26"
             ],
             [
              1,
              "#f0f921"
             ]
            ],
            "type": "contour"
           }
          ],
          "contourcarpet": [
           {
            "colorbar": {
             "outlinewidth": 0,
             "ticks": ""
            },
            "type": "contourcarpet"
           }
          ],
          "heatmap": [
           {
            "colorbar": {
             "outlinewidth": 0,
             "ticks": ""
            },
            "colorscale": [
             [
              0,
              "#0d0887"
             ],
             [
              0.1111111111111111,
              "#46039f"
             ],
             [
              0.2222222222222222,
              "#7201a8"
             ],
             [
              0.3333333333333333,
              "#9c179e"
             ],
             [
              0.4444444444444444,
              "#bd3786"
             ],
             [
              0.5555555555555556,
              "#d8576b"
             ],
             [
              0.6666666666666666,
              "#ed7953"
             ],
             [
              0.7777777777777778,
              "#fb9f3a"
             ],
             [
              0.8888888888888888,
              "#fdca26"
             ],
             [
              1,
              "#f0f921"
             ]
            ],
            "type": "heatmap"
           }
          ],
          "heatmapgl": [
           {
            "colorbar": {
             "outlinewidth": 0,
             "ticks": ""
            },
            "colorscale": [
             [
              0,
              "#0d0887"
             ],
             [
              0.1111111111111111,
              "#46039f"
             ],
             [
              0.2222222222222222,
              "#7201a8"
             ],
             [
              0.3333333333333333,
              "#9c179e"
             ],
             [
              0.4444444444444444,
              "#bd3786"
             ],
             [
              0.5555555555555556,
              "#d8576b"
             ],
             [
              0.6666666666666666,
              "#ed7953"
             ],
             [
              0.7777777777777778,
              "#fb9f3a"
             ],
             [
              0.8888888888888888,
              "#fdca26"
             ],
             [
              1,
              "#f0f921"
             ]
            ],
            "type": "heatmapgl"
           }
          ],
          "histogram": [
           {
            "marker": {
             "pattern": {
              "fillmode": "overlay",
              "size": 10,
              "solidity": 0.2
             }
            },
            "type": "histogram"
           }
          ],
          "histogram2d": [
           {
            "colorbar": {
             "outlinewidth": 0,
             "ticks": ""
            },
            "colorscale": [
             [
              0,
              "#0d0887"
             ],
             [
              0.1111111111111111,
              "#46039f"
             ],
             [
              0.2222222222222222,
              "#7201a8"
             ],
             [
              0.3333333333333333,
              "#9c179e"
             ],
             [
              0.4444444444444444,
              "#bd3786"
             ],
             [
              0.5555555555555556,
              "#d8576b"
             ],
             [
              0.6666666666666666,
              "#ed7953"
             ],
             [
              0.7777777777777778,
              "#fb9f3a"
             ],
             [
              0.8888888888888888,
              "#fdca26"
             ],
             [
              1,
              "#f0f921"
             ]
            ],
            "type": "histogram2d"
           }
          ],
          "histogram2dcontour": [
           {
            "colorbar": {
             "outlinewidth": 0,
             "ticks": ""
            },
            "colorscale": [
             [
              0,
              "#0d0887"
             ],
             [
              0.1111111111111111,
              "#46039f"
             ],
             [
              0.2222222222222222,
              "#7201a8"
             ],
             [
              0.3333333333333333,
              "#9c179e"
             ],
             [
              0.4444444444444444,
              "#bd3786"
             ],
             [
              0.5555555555555556,
              "#d8576b"
             ],
             [
              0.6666666666666666,
              "#ed7953"
             ],
             [
              0.7777777777777778,
              "#fb9f3a"
             ],
             [
              0.8888888888888888,
              "#fdca26"
             ],
             [
              1,
              "#f0f921"
             ]
            ],
            "type": "histogram2dcontour"
           }
          ],
          "mesh3d": [
           {
            "colorbar": {
             "outlinewidth": 0,
             "ticks": ""
            },
            "type": "mesh3d"
           }
          ],
          "parcoords": [
           {
            "line": {
             "colorbar": {
              "outlinewidth": 0,
              "ticks": ""
             }
            },
            "type": "parcoords"
           }
          ],
          "pie": [
           {
            "automargin": true,
            "type": "pie"
           }
          ],
          "scatter": [
           {
            "fillpattern": {
             "fillmode": "overlay",
             "size": 10,
             "solidity": 0.2
            },
            "type": "scatter"
           }
          ],
          "scatter3d": [
           {
            "line": {
             "colorbar": {
              "outlinewidth": 0,
              "ticks": ""
             }
            },
            "marker": {
             "colorbar": {
              "outlinewidth": 0,
              "ticks": ""
             }
            },
            "type": "scatter3d"
           }
          ],
          "scattercarpet": [
           {
            "marker": {
             "colorbar": {
              "outlinewidth": 0,
              "ticks": ""
             }
            },
            "type": "scattercarpet"
           }
          ],
          "scattergeo": [
           {
            "marker": {
             "colorbar": {
              "outlinewidth": 0,
              "ticks": ""
             }
            },
            "type": "scattergeo"
           }
          ],
          "scattergl": [
           {
            "marker": {
             "colorbar": {
              "outlinewidth": 0,
              "ticks": ""
             }
            },
            "type": "scattergl"
           }
          ],
          "scattermapbox": [
           {
            "marker": {
             "colorbar": {
              "outlinewidth": 0,
              "ticks": ""
             }
            },
            "type": "scattermapbox"
           }
          ],
          "scatterpolar": [
           {
            "marker": {
             "colorbar": {
              "outlinewidth": 0,
              "ticks": ""
             }
            },
            "type": "scatterpolar"
           }
          ],
          "scatterpolargl": [
           {
            "marker": {
             "colorbar": {
              "outlinewidth": 0,
              "ticks": ""
             }
            },
            "type": "scatterpolargl"
           }
          ],
          "scatterternary": [
           {
            "marker": {
             "colorbar": {
              "outlinewidth": 0,
              "ticks": ""
             }
            },
            "type": "scatterternary"
           }
          ],
          "surface": [
           {
            "colorbar": {
             "outlinewidth": 0,
             "ticks": ""
            },
            "colorscale": [
             [
              0,
              "#0d0887"
             ],
             [
              0.1111111111111111,
              "#46039f"
             ],
             [
              0.2222222222222222,
              "#7201a8"
             ],
             [
              0.3333333333333333,
              "#9c179e"
             ],
             [
              0.4444444444444444,
              "#bd3786"
             ],
             [
              0.5555555555555556,
              "#d8576b"
             ],
             [
              0.6666666666666666,
              "#ed7953"
             ],
             [
              0.7777777777777778,
              "#fb9f3a"
             ],
             [
              0.8888888888888888,
              "#fdca26"
             ],
             [
              1,
              "#f0f921"
             ]
            ],
            "type": "surface"
           }
          ],
          "table": [
           {
            "cells": {
             "fill": {
              "color": "#EBF0F8"
             },
             "line": {
              "color": "white"
             }
            },
            "header": {
             "fill": {
              "color": "#C8D4E3"
             },
             "line": {
              "color": "white"
             }
            },
            "type": "table"
           }
          ]
         },
         "layout": {
          "annotationdefaults": {
           "arrowcolor": "#2a3f5f",
           "arrowhead": 0,
           "arrowwidth": 1
          },
          "autotypenumbers": "strict",
          "coloraxis": {
           "colorbar": {
            "outlinewidth": 0,
            "ticks": ""
           }
          },
          "colorscale": {
           "diverging": [
            [
             0,
             "#8e0152"
            ],
            [
             0.1,
             "#c51b7d"
            ],
            [
             0.2,
             "#de77ae"
            ],
            [
             0.3,
             "#f1b6da"
            ],
            [
             0.4,
             "#fde0ef"
            ],
            [
             0.5,
             "#f7f7f7"
            ],
            [
             0.6,
             "#e6f5d0"
            ],
            [
             0.7,
             "#b8e186"
            ],
            [
             0.8,
             "#7fbc41"
            ],
            [
             0.9,
             "#4d9221"
            ],
            [
             1,
             "#276419"
            ]
           ],
           "sequential": [
            [
             0,
             "#0d0887"
            ],
            [
             0.1111111111111111,
             "#46039f"
            ],
            [
             0.2222222222222222,
             "#7201a8"
            ],
            [
             0.3333333333333333,
             "#9c179e"
            ],
            [
             0.4444444444444444,
             "#bd3786"
            ],
            [
             0.5555555555555556,
             "#d8576b"
            ],
            [
             0.6666666666666666,
             "#ed7953"
            ],
            [
             0.7777777777777778,
             "#fb9f3a"
            ],
            [
             0.8888888888888888,
             "#fdca26"
            ],
            [
             1,
             "#f0f921"
            ]
           ],
           "sequentialminus": [
            [
             0,
             "#0d0887"
            ],
            [
             0.1111111111111111,
             "#46039f"
            ],
            [
             0.2222222222222222,
             "#7201a8"
            ],
            [
             0.3333333333333333,
             "#9c179e"
            ],
            [
             0.4444444444444444,
             "#bd3786"
            ],
            [
             0.5555555555555556,
             "#d8576b"
            ],
            [
             0.6666666666666666,
             "#ed7953"
            ],
            [
             0.7777777777777778,
             "#fb9f3a"
            ],
            [
             0.8888888888888888,
             "#fdca26"
            ],
            [
             1,
             "#f0f921"
            ]
           ]
          },
          "colorway": [
           "#636efa",
           "#EF553B",
           "#00cc96",
           "#ab63fa",
           "#FFA15A",
           "#19d3f3",
           "#FF6692",
           "#B6E880",
           "#FF97FF",
           "#FECB52"
          ],
          "font": {
           "color": "#2a3f5f"
          },
          "geo": {
           "bgcolor": "white",
           "lakecolor": "white",
           "landcolor": "#E5ECF6",
           "showlakes": true,
           "showland": true,
           "subunitcolor": "white"
          },
          "hoverlabel": {
           "align": "left"
          },
          "hovermode": "closest",
          "mapbox": {
           "style": "light"
          },
          "paper_bgcolor": "white",
          "plot_bgcolor": "#E5ECF6",
          "polar": {
           "angularaxis": {
            "gridcolor": "white",
            "linecolor": "white",
            "ticks": ""
           },
           "bgcolor": "#E5ECF6",
           "radialaxis": {
            "gridcolor": "white",
            "linecolor": "white",
            "ticks": ""
           }
          },
          "scene": {
           "xaxis": {
            "backgroundcolor": "#E5ECF6",
            "gridcolor": "white",
            "gridwidth": 2,
            "linecolor": "white",
            "showbackground": true,
            "ticks": "",
            "zerolinecolor": "white"
           },
           "yaxis": {
            "backgroundcolor": "#E5ECF6",
            "gridcolor": "white",
            "gridwidth": 2,
            "linecolor": "white",
            "showbackground": true,
            "ticks": "",
            "zerolinecolor": "white"
           },
           "zaxis": {
            "backgroundcolor": "#E5ECF6",
            "gridcolor": "white",
            "gridwidth": 2,
            "linecolor": "white",
            "showbackground": true,
            "ticks": "",
            "zerolinecolor": "white"
           }
          },
          "shapedefaults": {
           "line": {
            "color": "#2a3f5f"
           }
          },
          "ternary": {
           "aaxis": {
            "gridcolor": "white",
            "linecolor": "white",
            "ticks": ""
           },
           "baxis": {
            "gridcolor": "white",
            "linecolor": "white",
            "ticks": ""
           },
           "bgcolor": "#E5ECF6",
           "caxis": {
            "gridcolor": "white",
            "linecolor": "white",
            "ticks": ""
           }
          },
          "title": {
           "x": 0.05
          },
          "xaxis": {
           "automargin": true,
           "gridcolor": "white",
           "linecolor": "white",
           "ticks": "",
           "title": {
            "standoff": 15
           },
           "zerolinecolor": "white",
           "zerolinewidth": 2
          },
          "yaxis": {
           "automargin": true,
           "gridcolor": "white",
           "linecolor": "white",
           "ticks": "",
           "title": {
            "standoff": 15
           },
           "zerolinecolor": "white",
           "zerolinewidth": 2
          }
         }
        }
       }
      }
     },
     "metadata": {},
     "output_type": "display_data"
    }
   ],
   "source": [
    "# Filter the worst performing models in terms of RMSE\n",
    "df_anchored = df_anchored[(df_anchored['RMSE'] <10)]\n",
    "\n",
    "# Keep the interesting parameters which we are tuning and the performances\n",
    "df_anchored = df_anchored[['hidden_layers', 'data_noise', 'epochs', 'ENCE','GNLLL', 'RMSE']]\n",
    "fig = px.parallel_coordinates(df_anchored)\n",
    "\n",
    "fig.show()"
   ]
  },
  {
   "cell_type": "markdown",
   "metadata": {},
   "source": [
    "### Power Plant Dataset"
   ]
  },
  {
   "cell_type": "code",
   "execution_count": 5,
   "metadata": {},
   "outputs": [
    {
     "data": {
      "text/html": [
       "<div>\n",
       "<style scoped>\n",
       "    .dataframe tbody tr th:only-of-type {\n",
       "        vertical-align: middle;\n",
       "    }\n",
       "\n",
       "    .dataframe tbody tr th {\n",
       "        vertical-align: top;\n",
       "    }\n",
       "\n",
       "    .dataframe thead th {\n",
       "        text-align: right;\n",
       "    }\n",
       "</style>\n",
       "<table border=\"1\" class=\"dataframe\">\n",
       "  <thead>\n",
       "    <tr style=\"text-align: right;\">\n",
       "      <th></th>\n",
       "      <th>AT</th>\n",
       "      <th>V</th>\n",
       "      <th>AP</th>\n",
       "      <th>RH</th>\n",
       "      <th>PE</th>\n",
       "    </tr>\n",
       "  </thead>\n",
       "  <tbody>\n",
       "    <tr>\n",
       "      <th>0</th>\n",
       "      <td>14.96</td>\n",
       "      <td>41.76</td>\n",
       "      <td>1024.07</td>\n",
       "      <td>73.17</td>\n",
       "      <td>463.26</td>\n",
       "    </tr>\n",
       "    <tr>\n",
       "      <th>1</th>\n",
       "      <td>25.18</td>\n",
       "      <td>62.96</td>\n",
       "      <td>1020.04</td>\n",
       "      <td>59.08</td>\n",
       "      <td>444.37</td>\n",
       "    </tr>\n",
       "    <tr>\n",
       "      <th>2</th>\n",
       "      <td>5.11</td>\n",
       "      <td>39.40</td>\n",
       "      <td>1012.16</td>\n",
       "      <td>92.14</td>\n",
       "      <td>488.56</td>\n",
       "    </tr>\n",
       "    <tr>\n",
       "      <th>3</th>\n",
       "      <td>20.86</td>\n",
       "      <td>57.32</td>\n",
       "      <td>1010.24</td>\n",
       "      <td>76.64</td>\n",
       "      <td>446.48</td>\n",
       "    </tr>\n",
       "    <tr>\n",
       "      <th>4</th>\n",
       "      <td>10.82</td>\n",
       "      <td>37.50</td>\n",
       "      <td>1009.23</td>\n",
       "      <td>96.62</td>\n",
       "      <td>473.90</td>\n",
       "    </tr>\n",
       "  </tbody>\n",
       "</table>\n",
       "</div>"
      ],
      "text/plain": [
       "      AT      V       AP     RH      PE\n",
       "0  14.96  41.76  1024.07  73.17  463.26\n",
       "1  25.18  62.96  1020.04  59.08  444.37\n",
       "2   5.11  39.40  1012.16  92.14  488.56\n",
       "3  20.86  57.32  1010.24  76.64  446.48\n",
       "4  10.82  37.50  1009.23  96.62  473.90"
      ]
     },
     "execution_count": 5,
     "metadata": {},
     "output_type": "execute_result"
    }
   ],
   "source": [
    "# Read data into a pandas dataframe\n",
    "power = pd.read_excel('..\\\\data\\\\UCI_Regression\\\\5.PowerPlant\\\\Folds5x2_pp.xlsx')\n",
    "\n",
    "power.head()"
   ]
  },
  {
   "cell_type": "code",
   "execution_count": 6,
   "metadata": {},
   "outputs": [],
   "source": [
    "# Set a seed for reproducibility\n",
    "np.random.seed(52)\n",
    "\n",
    "# Split into training and validation datasets\n",
    "power_train, power_val = train_test_split(power, test_size=0.1)\n",
    "power_train, power_val = power_train.to_numpy(), power_val.to_numpy()"
   ]
  },
  {
   "cell_type": "code",
   "execution_count": 7,
   "metadata": {},
   "outputs": [
    {
     "name": "stdout",
     "output_type": "stream",
     "text": [
      "torch.Size([6027, 4])\n",
      "torch.Size([6027, 1])\n",
      "torch.Size([2584, 4])\n",
      "torch.Size([2584, 1])\n"
     ]
    }
   ],
   "source": [
    "# Subtract mean and divide by standard deviation\n",
    "power_scaler = StandardScaler()\n",
    "power_scaler.fit(X=power_train[:,:4], y=power_train[:,4])\n",
    "power_train[:,:4] = power_scaler.transform(power_train[:,:4])\n",
    "\n",
    "# Split the training dataset into train and val\n",
    "x_train, x_test, y_train, y_test = train_test_split(power_train[:,:4], power_train[:,4],train_size=0.7)\n",
    "\n",
    "device = torch.device('cuda' if torch.cuda.is_available() else 'cpu')\n",
    "\n",
    "# Convert numpy arrays to PyTorch tensors\n",
    "x_train_tensor = torch.tensor(x_train, dtype=torch.float32).to(device)\n",
    "y_train_tensor = torch.tensor(y_train, dtype=torch.float32).unsqueeze(1).to(device)\n",
    "x_test_tensor = torch.tensor(x_test, dtype=torch.float32).to(device)\n",
    "y_test_tensor = torch.tensor(y_test, dtype=torch.float32).unsqueeze(1).to(device)\n",
    "\n",
    "print(x_train_tensor.shape)\n",
    "print(y_train_tensor.shape)\n",
    "print(x_test_tensor.shape)\n",
    "print(y_test_tensor.shape)\n",
    "\n",
    "# Create TensorDatasets\n",
    "train_dataset = TensorDataset(x_train_tensor, y_train_tensor)\n",
    "test_dataset = TensorDataset(x_test_tensor, y_test_tensor)\n",
    "\n",
    "# Define a batch size\n",
    "batch_size = 128\n",
    "\n",
    "# Create DataLoaders\n",
    "train_loader = DataLoader(dataset=train_dataset, batch_size=batch_size, shuffle=True)\n",
    "test_loader = DataLoader(dataset=test_dataset, batch_size=batch_size, shuffle=False)\n",
    "\n"
   ]
  },
  {
   "cell_type": "code",
   "execution_count": 8,
   "metadata": {},
   "outputs": [
    {
     "name": "stdout",
     "output_type": "stream",
     "text": [
      "Epoch: 0\n",
      "-------\n",
      "Train Loss: 351202.5245535714\n",
      "Test loss: 148544.13541666666 \n"
     ]
    },
    {
     "ename": "KeyboardInterrupt",
     "evalue": "",
     "output_type": "error",
     "traceback": [
      "\u001b[1;31m---------------------------------------------------------------------------\u001b[0m",
      "\u001b[1;31mKeyboardInterrupt\u001b[0m                         Traceback (most recent call last)",
      "\u001b[1;32m~\\AppData\\Local\\Temp\\ipykernel_27556\\2002576089.py\u001b[0m in \u001b[0;36m<cell line: 11>\u001b[1;34m()\u001b[0m\n\u001b[0;32m      9\u001b[0m \u001b[1;33m\u001b[0m\u001b[0m\n\u001b[0;32m     10\u001b[0m \u001b[1;31m# Train and save results\u001b[0m\u001b[1;33m\u001b[0m\u001b[1;33m\u001b[0m\u001b[0m\n\u001b[1;32m---> 11\u001b[1;33m train_and_save_results(\n\u001b[0m\u001b[0;32m     12\u001b[0m     \u001b[0mmodel_name\u001b[0m \u001b[1;33m=\u001b[0m \u001b[1;34m'batch'\u001b[0m\u001b[1;33m,\u001b[0m\u001b[1;33m\u001b[0m\u001b[1;33m\u001b[0m\u001b[0m\n\u001b[0;32m     13\u001b[0m     \u001b[0mhidden_layers_options\u001b[0m \u001b[1;33m=\u001b[0m \u001b[0mhidden_layers_options\u001b[0m\u001b[1;33m,\u001b[0m\u001b[1;33m\u001b[0m\u001b[1;33m\u001b[0m\u001b[0m\n",
      "\u001b[1;32mc:\\Users\\yanci\\OneDrive\\Documents\\Bayesian Ensembling Project\\AnchoredBatchEnsemble\\notebooks\\..\\utils\\functions.py\u001b[0m in \u001b[0;36mtrain_and_save_results\u001b[1;34m(model_name, hidden_layers_options, hidden_units_options, input_shape, loss_fn, optimizer, train_loader, test_loader, ensemble_size, epochs, csv_file, print_frequency, weight_decay_options, data_noise_options, test, early_stopping, RMSE, ENCE, learning_rate, device)\u001b[0m\n\u001b[0;32m    607\u001b[0m                         \u001b[0mmodel\u001b[0m \u001b[1;33m=\u001b[0m \u001b[1;32mNone\u001b[0m\u001b[1;33m\u001b[0m\u001b[1;33m\u001b[0m\u001b[0m\n\u001b[0;32m    608\u001b[0m                     \u001b[1;31m# Train the model and get the average loss on test data\u001b[0m\u001b[1;33m\u001b[0m\u001b[1;33m\u001b[0m\u001b[0m\n\u001b[1;32m--> 609\u001b[1;33m                     GNLLL_result, rmse_result, ENCE_result, epoch = train_models_w_mean_var(\n\u001b[0m\u001b[0;32m    610\u001b[0m                         \u001b[0mmodel\u001b[0m\u001b[1;33m=\u001b[0m\u001b[0mmodel\u001b[0m\u001b[1;33m,\u001b[0m\u001b[1;33m\u001b[0m\u001b[1;33m\u001b[0m\u001b[0m\n\u001b[0;32m    611\u001b[0m                         \u001b[0mensemble_type\u001b[0m\u001b[1;33m=\u001b[0m\u001b[0mmodel_name\u001b[0m\u001b[1;33m,\u001b[0m\u001b[1;33m\u001b[0m\u001b[1;33m\u001b[0m\u001b[0m\n",
      "\u001b[1;32mc:\\Users\\yanci\\OneDrive\\Documents\\Bayesian Ensembling Project\\AnchoredBatchEnsemble\\notebooks\\..\\utils\\functions.py\u001b[0m in \u001b[0;36mtrain_models_w_mean_var\u001b[1;34m(model, ensemble_type, ensemble_size, data_noise, epochs, print_frequency, loss_fn, optimizer, train_loader, test_loader, test, RMSE, ENCE, early_stopping, patience, min_delta, learning_rate, weight_decay, device)\u001b[0m\n\u001b[0;32m    423\u001b[0m                 \u001b[0mtest_loss\u001b[0m \u001b[1;33m=\u001b[0m \u001b[1;36m0\u001b[0m\u001b[1;33m\u001b[0m\u001b[1;33m\u001b[0m\u001b[0m\n\u001b[0;32m    424\u001b[0m                 \u001b[1;32mfor\u001b[0m \u001b[0mbatch\u001b[0m\u001b[1;33m,\u001b[0m \u001b[1;33m(\u001b[0m\u001b[0mX_test\u001b[0m\u001b[1;33m,\u001b[0m \u001b[0my_test\u001b[0m\u001b[1;33m)\u001b[0m \u001b[1;32min\u001b[0m \u001b[0menumerate\u001b[0m\u001b[1;33m(\u001b[0m\u001b[0mtest_loader\u001b[0m\u001b[1;33m)\u001b[0m\u001b[1;33m:\u001b[0m\u001b[1;33m\u001b[0m\u001b[1;33m\u001b[0m\u001b[0m\n\u001b[1;32m--> 425\u001b[1;33m                     \u001b[0mmean_test\u001b[0m\u001b[1;33m,\u001b[0m \u001b[0mvar_test\u001b[0m \u001b[1;33m=\u001b[0m \u001b[0mmodel\u001b[0m\u001b[1;33m(\u001b[0m\u001b[0mX_test\u001b[0m\u001b[1;33m.\u001b[0m\u001b[0mrepeat\u001b[0m\u001b[1;33m(\u001b[0m\u001b[0mensemble_size\u001b[0m\u001b[1;33m,\u001b[0m \u001b[1;36m1\u001b[0m\u001b[1;33m)\u001b[0m\u001b[1;33m)\u001b[0m\u001b[1;33m\u001b[0m\u001b[1;33m\u001b[0m\u001b[0m\n\u001b[0m\u001b[0;32m    426\u001b[0m                     \u001b[0mtest_loss\u001b[0m \u001b[1;33m+=\u001b[0m \u001b[0mloss_fn\u001b[0m\u001b[1;33m(\u001b[0m\u001b[0mmean_test\u001b[0m\u001b[1;33m,\u001b[0m \u001b[0my_test\u001b[0m\u001b[1;33m.\u001b[0m\u001b[0mrepeat\u001b[0m\u001b[1;33m(\u001b[0m\u001b[0mensemble_size\u001b[0m\u001b[1;33m,\u001b[0m \u001b[1;36m1\u001b[0m\u001b[1;33m)\u001b[0m\u001b[1;33m,\u001b[0m \u001b[0mvar_test\u001b[0m\u001b[1;33m)\u001b[0m\u001b[1;33m.\u001b[0m\u001b[0mitem\u001b[0m\u001b[1;33m(\u001b[0m\u001b[1;33m)\u001b[0m\u001b[1;33m\u001b[0m\u001b[1;33m\u001b[0m\u001b[0m\n\u001b[0;32m    427\u001b[0m                 \u001b[0maverage_test_loss\u001b[0m \u001b[1;33m=\u001b[0m \u001b[0mtest_loss\u001b[0m \u001b[1;33m/\u001b[0m \u001b[1;33m(\u001b[0m\u001b[0mbatch\u001b[0m \u001b[1;33m+\u001b[0m \u001b[1;36m1\u001b[0m\u001b[1;33m)\u001b[0m\u001b[1;33m\u001b[0m\u001b[1;33m\u001b[0m\u001b[0m\n",
      "\u001b[1;32mc:\\Python\\Python3101\\lib\\site-packages\\torch\\nn\\modules\\module.py\u001b[0m in \u001b[0;36m_call_impl\u001b[1;34m(self, *args, **kwargs)\u001b[0m\n\u001b[0;32m   1499\u001b[0m                 \u001b[1;32mor\u001b[0m \u001b[0m_global_backward_pre_hooks\u001b[0m \u001b[1;32mor\u001b[0m \u001b[0m_global_backward_hooks\u001b[0m\u001b[1;33m\u001b[0m\u001b[1;33m\u001b[0m\u001b[0m\n\u001b[0;32m   1500\u001b[0m                 or _global_forward_hooks or _global_forward_pre_hooks):\n\u001b[1;32m-> 1501\u001b[1;33m             \u001b[1;32mreturn\u001b[0m \u001b[0mforward_call\u001b[0m\u001b[1;33m(\u001b[0m\u001b[1;33m*\u001b[0m\u001b[0margs\u001b[0m\u001b[1;33m,\u001b[0m \u001b[1;33m**\u001b[0m\u001b[0mkwargs\u001b[0m\u001b[1;33m)\u001b[0m\u001b[1;33m\u001b[0m\u001b[1;33m\u001b[0m\u001b[0m\n\u001b[0m\u001b[0;32m   1502\u001b[0m         \u001b[1;31m# Do not call functions when jit is used\u001b[0m\u001b[1;33m\u001b[0m\u001b[1;33m\u001b[0m\u001b[0m\n\u001b[0;32m   1503\u001b[0m         \u001b[0mfull_backward_hooks\u001b[0m\u001b[1;33m,\u001b[0m \u001b[0mnon_full_backward_hooks\u001b[0m \u001b[1;33m=\u001b[0m \u001b[1;33m[\u001b[0m\u001b[1;33m]\u001b[0m\u001b[1;33m,\u001b[0m \u001b[1;33m[\u001b[0m\u001b[1;33m]\u001b[0m\u001b[1;33m\u001b[0m\u001b[1;33m\u001b[0m\u001b[0m\n",
      "\u001b[1;32mc:\\Users\\yanci\\OneDrive\\Documents\\Bayesian Ensembling Project\\AnchoredBatchEnsemble\\notebooks\\..\\utils\\models.py\u001b[0m in \u001b[0;36mforward\u001b[1;34m(self, x)\u001b[0m\n\u001b[0;32m     47\u001b[0m     \u001b[1;32mdef\u001b[0m \u001b[0mforward\u001b[0m\u001b[1;33m(\u001b[0m\u001b[0mself\u001b[0m\u001b[1;33m,\u001b[0m \u001b[0mx\u001b[0m\u001b[1;33m)\u001b[0m\u001b[1;33m:\u001b[0m\u001b[1;33m\u001b[0m\u001b[1;33m\u001b[0m\u001b[0m\n\u001b[0;32m     48\u001b[0m         \u001b[1;31m# Returns hidden units\u001b[0m\u001b[1;33m\u001b[0m\u001b[1;33m\u001b[0m\u001b[0m\n\u001b[1;32m---> 49\u001b[1;33m         \u001b[0mz\u001b[0m \u001b[1;33m=\u001b[0m \u001b[0mself\u001b[0m\u001b[1;33m.\u001b[0m\u001b[0mlayer_stack\u001b[0m\u001b[1;33m(\u001b[0m\u001b[0mx\u001b[0m\u001b[1;33m)\u001b[0m\u001b[1;33m\u001b[0m\u001b[1;33m\u001b[0m\u001b[0m\n\u001b[0m\u001b[0;32m     50\u001b[0m \u001b[1;33m\u001b[0m\u001b[0m\n\u001b[0;32m     51\u001b[0m         \u001b[1;31m# Send the hidden units to mean and variance layer\u001b[0m\u001b[1;33m\u001b[0m\u001b[1;33m\u001b[0m\u001b[0m\n",
      "\u001b[1;32mc:\\Python\\Python3101\\lib\\site-packages\\torch\\nn\\modules\\module.py\u001b[0m in \u001b[0;36m_call_impl\u001b[1;34m(self, *args, **kwargs)\u001b[0m\n\u001b[0;32m   1499\u001b[0m                 \u001b[1;32mor\u001b[0m \u001b[0m_global_backward_pre_hooks\u001b[0m \u001b[1;32mor\u001b[0m \u001b[0m_global_backward_hooks\u001b[0m\u001b[1;33m\u001b[0m\u001b[1;33m\u001b[0m\u001b[0m\n\u001b[0;32m   1500\u001b[0m                 or _global_forward_hooks or _global_forward_pre_hooks):\n\u001b[1;32m-> 1501\u001b[1;33m             \u001b[1;32mreturn\u001b[0m \u001b[0mforward_call\u001b[0m\u001b[1;33m(\u001b[0m\u001b[1;33m*\u001b[0m\u001b[0margs\u001b[0m\u001b[1;33m,\u001b[0m \u001b[1;33m**\u001b[0m\u001b[0mkwargs\u001b[0m\u001b[1;33m)\u001b[0m\u001b[1;33m\u001b[0m\u001b[1;33m\u001b[0m\u001b[0m\n\u001b[0m\u001b[0;32m   1502\u001b[0m         \u001b[1;31m# Do not call functions when jit is used\u001b[0m\u001b[1;33m\u001b[0m\u001b[1;33m\u001b[0m\u001b[0m\n\u001b[0;32m   1503\u001b[0m         \u001b[0mfull_backward_hooks\u001b[0m\u001b[1;33m,\u001b[0m \u001b[0mnon_full_backward_hooks\u001b[0m \u001b[1;33m=\u001b[0m \u001b[1;33m[\u001b[0m\u001b[1;33m]\u001b[0m\u001b[1;33m,\u001b[0m \u001b[1;33m[\u001b[0m\u001b[1;33m]\u001b[0m\u001b[1;33m\u001b[0m\u001b[1;33m\u001b[0m\u001b[0m\n",
      "\u001b[1;32mc:\\Python\\Python3101\\lib\\site-packages\\torch\\nn\\modules\\container.py\u001b[0m in \u001b[0;36mforward\u001b[1;34m(self, input)\u001b[0m\n\u001b[0;32m    215\u001b[0m     \u001b[1;32mdef\u001b[0m \u001b[0mforward\u001b[0m\u001b[1;33m(\u001b[0m\u001b[0mself\u001b[0m\u001b[1;33m,\u001b[0m \u001b[0minput\u001b[0m\u001b[1;33m)\u001b[0m\u001b[1;33m:\u001b[0m\u001b[1;33m\u001b[0m\u001b[1;33m\u001b[0m\u001b[0m\n\u001b[0;32m    216\u001b[0m         \u001b[1;32mfor\u001b[0m \u001b[0mmodule\u001b[0m \u001b[1;32min\u001b[0m \u001b[0mself\u001b[0m\u001b[1;33m:\u001b[0m\u001b[1;33m\u001b[0m\u001b[1;33m\u001b[0m\u001b[0m\n\u001b[1;32m--> 217\u001b[1;33m             \u001b[0minput\u001b[0m \u001b[1;33m=\u001b[0m \u001b[0mmodule\u001b[0m\u001b[1;33m(\u001b[0m\u001b[0minput\u001b[0m\u001b[1;33m)\u001b[0m\u001b[1;33m\u001b[0m\u001b[1;33m\u001b[0m\u001b[0m\n\u001b[0m\u001b[0;32m    218\u001b[0m         \u001b[1;32mreturn\u001b[0m \u001b[0minput\u001b[0m\u001b[1;33m\u001b[0m\u001b[1;33m\u001b[0m\u001b[0m\n\u001b[0;32m    219\u001b[0m \u001b[1;33m\u001b[0m\u001b[0m\n",
      "\u001b[1;32mc:\\Python\\Python3101\\lib\\site-packages\\torch\\nn\\modules\\module.py\u001b[0m in \u001b[0;36m_call_impl\u001b[1;34m(self, *args, **kwargs)\u001b[0m\n\u001b[0;32m   1499\u001b[0m                 \u001b[1;32mor\u001b[0m \u001b[0m_global_backward_pre_hooks\u001b[0m \u001b[1;32mor\u001b[0m \u001b[0m_global_backward_hooks\u001b[0m\u001b[1;33m\u001b[0m\u001b[1;33m\u001b[0m\u001b[0m\n\u001b[0;32m   1500\u001b[0m                 or _global_forward_hooks or _global_forward_pre_hooks):\n\u001b[1;32m-> 1501\u001b[1;33m             \u001b[1;32mreturn\u001b[0m \u001b[0mforward_call\u001b[0m\u001b[1;33m(\u001b[0m\u001b[1;33m*\u001b[0m\u001b[0margs\u001b[0m\u001b[1;33m,\u001b[0m \u001b[1;33m**\u001b[0m\u001b[0mkwargs\u001b[0m\u001b[1;33m)\u001b[0m\u001b[1;33m\u001b[0m\u001b[1;33m\u001b[0m\u001b[0m\n\u001b[0m\u001b[0;32m   1502\u001b[0m         \u001b[1;31m# Do not call functions when jit is used\u001b[0m\u001b[1;33m\u001b[0m\u001b[1;33m\u001b[0m\u001b[0m\n\u001b[0;32m   1503\u001b[0m         \u001b[0mfull_backward_hooks\u001b[0m\u001b[1;33m,\u001b[0m \u001b[0mnon_full_backward_hooks\u001b[0m \u001b[1;33m=\u001b[0m \u001b[1;33m[\u001b[0m\u001b[1;33m]\u001b[0m\u001b[1;33m,\u001b[0m \u001b[1;33m[\u001b[0m\u001b[1;33m]\u001b[0m\u001b[1;33m\u001b[0m\u001b[1;33m\u001b[0m\u001b[0m\n",
      "\u001b[1;32mc:\\Users\\yanci\\OneDrive\\Documents\\Bayesian Ensembling Project\\AnchoredBatchEnsemble\\notebooks\\..\\utils\\layers.py\u001b[0m in \u001b[0;36mforward\u001b[1;34m(self, input)\u001b[0m\n\u001b[0;32m     96\u001b[0m \u001b[1;33m\u001b[0m\u001b[0m\n\u001b[0;32m     97\u001b[0m         \u001b[1;31m# Repeat the fast weights so that it fits the batch_size appropritaely\u001b[0m\u001b[1;33m\u001b[0m\u001b[1;33m\u001b[0m\u001b[0m\n\u001b[1;32m---> 98\u001b[1;33m         \u001b[0mR\u001b[0m \u001b[1;33m=\u001b[0m \u001b[0mself\u001b[0m\u001b[1;33m.\u001b[0m\u001b[0mr\u001b[0m\u001b[1;33m.\u001b[0m\u001b[0mrepeat_interleave\u001b[0m\u001b[1;33m(\u001b[0m\u001b[0mbatch_size\u001b[0m\u001b[1;33m,\u001b[0m\u001b[0mdim\u001b[0m\u001b[1;33m=\u001b[0m\u001b[1;36m0\u001b[0m\u001b[1;33m)\u001b[0m\u001b[1;33m\u001b[0m\u001b[1;33m\u001b[0m\u001b[0m\n\u001b[0m\u001b[0;32m     99\u001b[0m         \u001b[0mS\u001b[0m \u001b[1;33m=\u001b[0m \u001b[0mself\u001b[0m\u001b[1;33m.\u001b[0m\u001b[0ms\u001b[0m\u001b[1;33m.\u001b[0m\u001b[0mrepeat_interleave\u001b[0m\u001b[1;33m(\u001b[0m\u001b[0mbatch_size\u001b[0m\u001b[1;33m,\u001b[0m\u001b[0mdim\u001b[0m\u001b[1;33m=\u001b[0m\u001b[1;36m0\u001b[0m\u001b[1;33m)\u001b[0m\u001b[1;33m\u001b[0m\u001b[1;33m\u001b[0m\u001b[0m\n\u001b[0;32m    100\u001b[0m \u001b[1;33m\u001b[0m\u001b[0m\n",
      "\u001b[1;31mKeyboardInterrupt\u001b[0m: "
     ]
    }
   ],
   "source": [
    "# Initialize list of Hyperparameters to try out\n",
    "hidden_layers_options = [6]  \n",
    "hidden_units_options = [32,64,128]\n",
    "weight_decay_options = [0.01,0.0001,0.00001]\n",
    "\n",
    "# Define loss function and optimizer\n",
    "loss_fn = nn.GaussianNLLLoss()\n",
    "optimizer = torch.optim.Adam\n",
    "\n",
    "# Train and save results\n",
    "train_and_save_results(\n",
    "    model_name = 'batch', \n",
    "    hidden_layers_options = hidden_layers_options, \n",
    "    hidden_units_options = hidden_units_options, \n",
    "    input_shape = 4, \n",
    "    loss_fn = loss_fn,\n",
    "    optimizer = optimizer, \n",
    "    train_loader = train_loader, \n",
    "    test_loader = test_loader,\n",
    "    ensemble_size = 10,\n",
    "    epochs = 200, \n",
    "    csv_file = 'power_model_results.csv',\n",
    "    weight_decay_options = weight_decay_options,\n",
    "    print_frequency = 20,\n",
    ")\n"
   ]
  },
  {
   "cell_type": "code",
   "execution_count": 15,
   "metadata": {},
   "outputs": [
    {
     "name": "stdout",
     "output_type": "stream",
     "text": [
      "Epoch: 0\n",
      "-------\n",
      "Train Loss: 355817.00595238095\n",
      "Test loss: 151440.76264880953 \n",
      "Epoch: 10\n",
      "-------\n",
      "Train Loss: 38.40261386689686\n",
      "Test loss: 15.620517776125954 Improvement found, counter reset to 0\n",
      "Epoch: 20\n",
      "-------\n",
      "Train Loss: 9.702053978329612\n",
      "Test loss: 4.042075316111247 Improvement found, counter reset to 0\n",
      "Epoch: 30\n",
      "-------\n",
      "Train Loss: 6.796389034816197\n",
      "Test loss: 2.965614330200922 Improvement found, counter reset to 0\n",
      "Epoch: 40\n",
      "-------\n",
      "Train Loss: 6.5411161581675215\n",
      "Test loss: 2.8600851808275496 Improvement found, counter reset to 0\n",
      "Epoch: 50\n",
      "-------\n",
      "Train Loss: 6.435928787503924\n",
      "Test loss: 2.8166073731013705 Improvement found, counter reset to 0\n",
      "Epoch: 60\n",
      "-------\n",
      "Train Loss: 6.370002860114688\n",
      "Test loss: 2.7887246835799444 Improvement found, counter reset to 0\n",
      "Epoch: 70\n",
      "-------\n",
      "Train Loss: 6.315686782201131\n",
      "Test loss: 2.765982605162121 Improvement found, counter reset to 0\n",
      "Epoch: 80\n",
      "-------\n",
      "Train Loss: 6.259228104636783\n",
      "Test loss: 2.7398969672975086 Improvement found, counter reset to 0\n",
      "Epoch: 90\n",
      "-------\n",
      "Train Loss: 6.195769082932245\n",
      "Test loss: 2.713269063404628 Improvement found, counter reset to 0\n",
      "Epoch: 100\n",
      "-------\n",
      "Train Loss: 6.1182319436754495\n",
      "Test loss: 2.6767003536224365 Improvement found, counter reset to 0\n",
      "Epoch: 110\n",
      "-------\n",
      "Train Loss: 5.94343021937779\n",
      "Test loss: 2.599345491045997 Improvement found, counter reset to 0\n",
      "Epoch: 120\n",
      "-------\n",
      "Train Loss: 5.807141985212054\n",
      "Test loss: 2.531595922651745 Improvement found, counter reset to 0\n",
      "Epoch: 130\n",
      "-------\n",
      "Train Loss: 5.6288549445924305\n",
      "Test loss: 2.518240349633353 No improvement in the last 1 epochs\n",
      "Epoch: 140\n",
      "-------\n",
      "Train Loss: 5.538853452319191\n",
      "Test loss: 2.444316557475499 No improvement in the last 2 epochs\n",
      "Epoch: 150\n",
      "-------\n",
      "Train Loss: 5.374777294340587\n",
      "Test loss: 2.449860481988816 No improvement in the last 1 epochs\n",
      "Epoch: 160\n",
      "-------\n",
      "Train Loss: 5.324671132223947\n",
      "Test loss: 2.3199886140369235 Improvement found, counter reset to 0\n",
      "Epoch: 170\n",
      "-------\n",
      "Train Loss: 5.22246131442842\n",
      "Test loss: 2.299621196020217 Improvement found, counter reset to 0\n",
      "Epoch: 180\n",
      "-------\n",
      "Train Loss: 5.172525156111944\n",
      "Test loss: 2.259297427676973 Improvement found, counter reset to 0\n",
      "Epoch: 190\n",
      "-------\n",
      "Train Loss: 5.166955050967989\n",
      "Test loss: 2.2363350618453253 Improvement found, counter reset to 0\n",
      "Epoch: 200\n",
      "-------\n",
      "Train Loss: 5.040997913905552\n",
      "Test loss: 2.250474350793021 No improvement in the last 3 epochs\n",
      "Epoch: 210\n",
      "-------\n",
      "Train Loss: 4.997074331556048\n",
      "Test loss: 2.2732484681265697 No improvement in the last 6 epochs\n",
      "Epoch: 220\n",
      "-------\n",
      "Train Loss: 4.950229633422125\n",
      "Test loss: 2.1577867099217007 Improvement found, counter reset to 0\n",
      "Epoch: 230\n",
      "-------\n",
      "Train Loss: 4.846536954243978\n",
      "Test loss: 2.1368482339949835 No improvement in the last 3 epochs\n",
      "Epoch: 240\n",
      "-------\n",
      "Train Loss: 4.844022296723866\n",
      "Test loss: 2.115224281946818 No improvement in the last 7 epochs\n",
      "\n",
      "Evaluation on Test Data\n",
      "------------------------\n",
      "Average Test Loss: 2.1132135618300665\n",
      "Epoch: 0\n",
      "-------\n",
      "Train Loss: 5.969384761083694\n",
      "Test loss: 2.1823448680696034 \n",
      "Epoch: 10\n",
      "-------\n",
      "Train Loss: 4.55587162857964\n",
      "Test loss: 2.084667001451765 No improvement in the last 5 epochs\n",
      "Epoch: 20\n",
      "-------\n",
      "Train Loss: 4.533966552643549\n",
      "Test loss: 2.0202015411286127 No improvement in the last 7 epochs\n",
      "\n",
      "Evaluation on Test Data\n",
      "------------------------\n",
      "Average Test Loss: 1.944926278931754\n",
      "Epoch: 0\n",
      "-------\n",
      "Train Loss: 6.374049010730925\n",
      "Test loss: 1.9853873593466622 \n",
      "Epoch: 10\n",
      "-------\n",
      "Train Loss: 4.499655036699204\n",
      "Test loss: 2.405342181523641 No improvement in the last 6 epochs\n",
      "\n",
      "Evaluation on Test Data\n",
      "------------------------\n",
      "Average Test Loss: 1.9410213799703688\n",
      "Epoch: 0\n",
      "-------\n",
      "Train Loss: 6.428694469588144\n",
      "Test loss: 1.993059856551034 \n",
      "Epoch: 10\n",
      "-------\n",
      "Train Loss: 4.602543024789719\n",
      "Test loss: 2.6575937952314104 No improvement in the last 7 epochs\n",
      "\n",
      "Evaluation on Test Data\n",
      "------------------------\n",
      "Average Test Loss: 1.9430188224429177\n",
      "Epoch: 0\n",
      "-------\n",
      "Train Loss: 381879.8348214286\n",
      "Test loss: 162117.99255952382 \n",
      "Epoch: 10\n",
      "-------\n",
      "Train Loss: 27.399446759905135\n",
      "Test loss: 11.031909988040017 Improvement found, counter reset to 0\n",
      "Epoch: 20\n",
      "-------\n",
      "Train Loss: 6.955705438341413\n",
      "Test loss: 3.012216817765009 Improvement found, counter reset to 0\n",
      "Epoch: 30\n",
      "-------\n",
      "Train Loss: 6.587942838668823\n",
      "Test loss: 2.8784209205990745 Improvement found, counter reset to 0\n",
      "Epoch: 40\n",
      "-------\n",
      "Train Loss: 6.512395404634022\n",
      "Test loss: 2.847546384448097 Improvement found, counter reset to 0\n",
      "Epoch: 50\n",
      "-------\n",
      "Train Loss: 6.458801099232265\n",
      "Test loss: 2.8257543586549305 Improvement found, counter reset to 0\n",
      "Epoch: 60\n",
      "-------\n",
      "Train Loss: 6.4100672744569325\n",
      "Test loss: 2.804678167615618 Improvement found, counter reset to 0\n",
      "Epoch: 70\n",
      "-------\n",
      "Train Loss: 6.356273866835094\n",
      "Test loss: 2.78296092578343 Improvement found, counter reset to 0\n",
      "Epoch: 80\n",
      "-------\n",
      "Train Loss: 6.299103203273955\n",
      "Test loss: 2.7559687864212763 Improvement found, counter reset to 0\n",
      "Epoch: 90\n",
      "-------\n",
      "Train Loss: 6.229110695066906\n",
      "Test loss: 2.7253225644429526 Improvement found, counter reset to 0\n",
      "Epoch: 100\n",
      "-------\n",
      "Train Loss: 6.1509735357193716\n",
      "Test loss: 2.692086560385568 Improvement found, counter reset to 0\n",
      "Epoch: 110\n",
      "-------\n",
      "Train Loss: 6.059312650135586\n",
      "Test loss: 2.6522905713035945 Improvement found, counter reset to 0\n",
      "Epoch: 120\n",
      "-------\n",
      "Train Loss: 5.9593992573874335\n",
      "Test loss: 2.6085921696254184 Improvement found, counter reset to 0\n",
      "Epoch: 130\n",
      "-------\n",
      "Train Loss: 5.848238207045055\n",
      "Test loss: 2.5621621381668818 Improvement found, counter reset to 0\n",
      "Epoch: 140\n",
      "-------\n",
      "Train Loss: 5.730741137549991\n",
      "Test loss: 2.5107383728027344 Improvement found, counter reset to 0\n",
      "Epoch: 150\n",
      "-------\n",
      "Train Loss: 5.606597741444905\n",
      "Test loss: 2.452318850017729 Improvement found, counter reset to 0\n",
      "Epoch: 160\n",
      "-------\n",
      "Train Loss: 5.48808681397211\n",
      "Test loss: 2.4001400811331615 Improvement found, counter reset to 0\n",
      "Epoch: 170\n",
      "-------\n",
      "Train Loss: 5.353058519817534\n",
      "Test loss: 2.343118633542742 Improvement found, counter reset to 0\n",
      "Epoch: 180\n",
      "-------\n",
      "Train Loss: 5.245125316438221\n",
      "Test loss: 2.3599707058497836 No improvement in the last 1 epochs\n",
      "Epoch: 190\n",
      "-------\n",
      "Train Loss: 5.150347777775356\n",
      "Test loss: 2.2745179675874256 No improvement in the last 2 epochs\n",
      "Epoch: 200\n",
      "-------\n",
      "Train Loss: 5.075149581545875\n",
      "Test loss: 2.2378552981785367 No improvement in the last 1 epochs\n",
      "Epoch: 210\n",
      "-------\n",
      "Train Loss: 4.982777561460223\n",
      "Test loss: 2.1968021733420238 No improvement in the last 1 epochs\n",
      "Epoch: 220\n",
      "-------\n",
      "Train Loss: 4.922955251875377\n",
      "Test loss: 2.2067039353506908 No improvement in the last 3 epochs\n",
      "Epoch: 230\n",
      "-------\n",
      "Train Loss: 4.849064327421642\n",
      "Test loss: 2.1697109199705578 No improvement in the last 4 epochs\n",
      "Epoch: 240\n",
      "-------\n",
      "Train Loss: 4.7947576613653276\n",
      "Test loss: 2.1471365179334367 No improvement in the last 2 epochs\n",
      "Epoch: 250\n",
      "-------\n",
      "Train Loss: 4.78318038440886\n",
      "Test loss: 2.146075237364996 No improvement in the last 4 epochs\n",
      "Epoch: 260\n",
      "-------\n",
      "Train Loss: 4.672497647149222\n",
      "Test loss: 2.0584433249064853 No improvement in the last 1 epochs\n",
      "Epoch: 270\n",
      "-------\n",
      "Train Loss: 4.643290934108553\n",
      "Test loss: 2.1015991313116893 No improvement in the last 6 epochs\n",
      "\n",
      "Evaluation on Test Data\n",
      "------------------------\n",
      "Average Test Loss: 2.0368669033050537\n",
      "Epoch: 0\n",
      "-------\n",
      "Train Loss: 5.861903128169832\n",
      "Test loss: 2.0503941149938676 \n",
      "Epoch: 10\n",
      "-------\n",
      "Train Loss: 4.897666408902123\n",
      "Test loss: 2.0194709925424483 No improvement in the last 3 epochs\n",
      "Epoch: 20\n",
      "-------\n",
      "Train Loss: 4.491201951390221\n",
      "Test loss: 2.327483585902623 No improvement in the last 7 epochs\n",
      "Epoch: 30\n",
      "-------\n",
      "Train Loss: 4.391519887106759\n",
      "Test loss: 1.9765244722366333 No improvement in the last 9 epochs\n",
      "\n",
      "Evaluation on Test Data\n",
      "------------------------\n",
      "Average Test Loss: 1.9247513725644065\n",
      "Epoch: 0\n",
      "-------\n",
      "Train Loss: 6.721471707026164\n",
      "Test loss: 2.0736493439901444 \n",
      "Epoch: 10\n",
      "-------\n",
      "Train Loss: 4.3898973521732145\n",
      "Test loss: 2.251847187678019 No improvement in the last 4 epochs\n",
      "Epoch: 20\n",
      "-------\n",
      "Train Loss: 4.541575823511396\n",
      "Test loss: 2.0632244859422957 No improvement in the last 8 epochs\n",
      "\n",
      "Evaluation on Test Data\n",
      "------------------------\n",
      "Average Test Loss: 1.9317226693743752\n",
      "Epoch: 0\n",
      "-------\n",
      "Train Loss: 6.8111378295081\n",
      "Test loss: 1.9277267228989374 \n",
      "Epoch: 10\n",
      "-------\n",
      "Train Loss: 4.391078046389988\n",
      "Test loss: 1.9565080915178572 No improvement in the last 4 epochs\n",
      "\n",
      "Evaluation on Test Data\n",
      "------------------------\n",
      "Average Test Loss: 1.919780935559954\n",
      "Epoch: 0\n",
      "-------\n",
      "Train Loss: 338207.8973214286\n",
      "Test loss: 143733.23735119047 \n",
      "Epoch: 10\n",
      "-------\n",
      "Train Loss: 19.834638209570024\n",
      "Test loss: 7.590838591257731 Improvement found, counter reset to 0\n",
      "Epoch: 20\n",
      "-------\n",
      "Train Loss: 6.6376044409615655\n",
      "Test loss: 2.900613535018194 Improvement found, counter reset to 0\n",
      "Epoch: 30\n",
      "-------\n",
      "Train Loss: 6.515455382210868\n",
      "Test loss: 2.851464339665004 Improvement found, counter reset to 0\n",
      "Epoch: 40\n",
      "-------\n",
      "Train Loss: 6.460977588381086\n",
      "Test loss: 2.8275703362056186 Improvement found, counter reset to 0\n",
      "Epoch: 50\n",
      "-------\n",
      "Train Loss: 6.408279112407139\n",
      "Test loss: 2.804858196349371 Improvement found, counter reset to 0\n",
      "Epoch: 60\n",
      "-------\n",
      "Train Loss: 6.353998808633714\n",
      "Test loss: 2.780067659559704 Improvement found, counter reset to 0\n",
      "Epoch: 70\n",
      "-------\n",
      "Train Loss: 6.2954386075337725\n",
      "Test loss: 2.754997423716954 Improvement found, counter reset to 0\n",
      "Epoch: 80\n",
      "-------\n",
      "Train Loss: 6.225501491909935\n",
      "Test loss: 2.7255653086162748 Improvement found, counter reset to 0\n",
      "Epoch: 90\n",
      "-------\n",
      "Train Loss: 6.151944115048363\n",
      "Test loss: 2.6894407726469494 Improvement found, counter reset to 0\n",
      "Epoch: 100\n",
      "-------\n",
      "Train Loss: 6.061026187170119\n",
      "Test loss: 2.6498154345012845 Improvement found, counter reset to 0\n",
      "Epoch: 110\n",
      "-------\n",
      "Train Loss: 5.95405379931132\n",
      "Test loss: 2.609862452461606 Improvement found, counter reset to 0\n",
      "Epoch: 120\n",
      "-------\n",
      "Train Loss: 5.843412138166881\n",
      "Test loss: 2.5561171826862155 Improvement found, counter reset to 0\n",
      "Epoch: 130\n",
      "-------\n",
      "Train Loss: 5.714979659943354\n",
      "Test loss: 2.50405216217041 Improvement found, counter reset to 0\n",
      "Epoch: 140\n",
      "-------\n",
      "Train Loss: 5.597097714742024\n",
      "Test loss: 2.4574867203122093 Improvement found, counter reset to 0\n",
      "Epoch: 150\n",
      "-------\n",
      "Train Loss: 5.454264481862386\n",
      "Test loss: 2.385262409845988 Improvement found, counter reset to 0\n",
      "Epoch: 160\n",
      "-------\n",
      "Train Loss: 5.337821585791452\n",
      "Test loss: 2.3345590773082914 Improvement found, counter reset to 0\n",
      "Epoch: 170\n",
      "-------\n",
      "Train Loss: 5.229274148032779\n",
      "Test loss: 2.311439934230986 No improvement in the last 2 epochs\n",
      "Epoch: 180\n",
      "-------\n",
      "Train Loss: 5.0949864728110175\n",
      "Test loss: 2.2345940272013345 No improvement in the last 1 epochs\n",
      "Epoch: 190\n",
      "-------\n",
      "Train Loss: 4.992440393992832\n",
      "Test loss: 2.2917713891892206 No improvement in the last 5 epochs\n",
      "Epoch: 200\n",
      "-------\n",
      "Train Loss: 4.922484545480637\n",
      "Test loss: 2.1712685766674222 No improvement in the last 1 epochs\n",
      "Epoch: 210\n",
      "-------\n",
      "Train Loss: 4.862400980222793\n",
      "Test loss: 2.1899278731573197 No improvement in the last 3 epochs\n",
      "Epoch: 220\n",
      "-------\n",
      "Train Loss: 4.81823266120184\n",
      "Test loss: 2.1018173694610596 Improvement found, counter reset to 0\n",
      "Epoch: 230\n",
      "-------\n",
      "Train Loss: 4.763190507888794\n",
      "Test loss: 2.1160934425535656 No improvement in the last 1 epochs\n",
      "Epoch: 240\n",
      "-------\n",
      "Train Loss: 4.673807047662281\n",
      "Test loss: 2.060753175190517 No improvement in the last 3 epochs\n",
      "\n",
      "Evaluation on Test Data\n",
      "------------------------\n",
      "Average Test Loss: 2.0542647497994557\n",
      "Epoch: 0\n",
      "-------\n",
      "Train Loss: 6.334917494228908\n",
      "Test loss: 2.0834175859178816 \n",
      "Epoch: 10\n",
      "-------\n",
      "Train Loss: 4.53423353603908\n",
      "Test loss: 2.352559963862101 No improvement in the last 3 epochs\n",
      "Epoch: 20\n",
      "-------\n",
      "Train Loss: 4.49669485432761\n",
      "Test loss: 1.9153933070954823 Improvement found, counter reset to 0\n",
      "Epoch: 30\n",
      "-------\n",
      "Train Loss: 4.379134972890218\n",
      "Test loss: 1.971598466237386 Early stopping triggered after 10 epochs.\n",
      "\n",
      "Evaluation on Test Data\n",
      "------------------------\n",
      "Average Test Loss: 1.9153933070954823\n",
      "Epoch: 0\n",
      "-------\n",
      "Train Loss: 7.834943022046771\n",
      "Test loss: 1.976042560168675 \n",
      "Epoch: 10\n",
      "-------\n",
      "Train Loss: 4.498644823119754\n",
      "Test loss: 1.936364803995405 No improvement in the last 8 epochs\n",
      "\n",
      "Evaluation on Test Data\n",
      "------------------------\n",
      "Average Test Loss: 1.928112160591852\n",
      "Epoch: 0\n",
      "-------\n",
      "Train Loss: 7.156180461247762\n",
      "Test loss: 1.9527901694888161 \n",
      "Epoch: 10\n",
      "-------\n",
      "Train Loss: 4.449230846904573\n",
      "Test loss: 1.9702994936988467 No improvement in the last 6 epochs\n",
      "\n",
      "Evaluation on Test Data\n",
      "------------------------\n",
      "Average Test Loss: 1.9171328658149356\n"
     ]
    }
   ],
   "source": [
    "# Initialize list of Hyperparameters to try out\n",
    "hidden_layers_options = [8,]  \n",
    "hidden_units_options = [32, 64, 128]\n",
    "data_noise_options = [0.01,0.0001,0.00001,1e-6]\n",
    "\n",
    "# Define loss function and optimizer\n",
    "loss_fn = nn.GaussianNLLLoss()\n",
    "optimizer = torch.optim.Adam\n",
    "\n",
    "# Train and save results\n",
    "train_and_save_results(\n",
    "    model_name = 'anchored_batch', \n",
    "    hidden_layers_options = hidden_layers_options, \n",
    "    hidden_units_options = hidden_units_options, \n",
    "    input_shape = 4, \n",
    "    loss_fn = loss_fn,\n",
    "    optimizer = optimizer, \n",
    "    train_loader = train_loader, \n",
    "    test_loader = test_loader,\n",
    "    ensemble_size = 10,\n",
    "    epochs = 600, \n",
    "    csv_file = 'power_model_results_ES.csv',\n",
    "    data_noise_options = data_noise_options,\n",
    "    print_frequency = 10,\n",
    ")\n"
   ]
  },
  {
   "cell_type": "code",
   "execution_count": 23,
   "metadata": {},
   "outputs": [
    {
     "data": {
      "text/plain": [
       "Index(['model', 'ensemble_size', 'hidden_layers', 'hidden_units',\n",
       "       'weight_decay', 'data_noise', 'epochs', 'optimizer', 'loss_fn',\n",
       "       'learning_rate', 'ENCE', 'GNLLL', 'RMSE'],\n",
       "      dtype='object')"
      ]
     },
     "execution_count": 23,
     "metadata": {},
     "output_type": "execute_result"
    }
   ],
   "source": [
    "# Read the results from our trained models\n",
    "df = pd.read_csv('..\\\\results\\power_model_results_ES.csv')\n",
    "\n",
    "# Collect Batch and Anchored Batch model results\n",
    "df_batch = df[ (df['model'] == 'batch')]\n",
    "df_anchored = df[(df['model'] == 'anchored_batch')]\n",
    "df_anchored.columns"
   ]
  },
  {
   "cell_type": "code",
   "execution_count": 25,
   "metadata": {},
   "outputs": [
    {
     "data": {
      "application/vnd.plotly.v1+json": {
       "config": {
        "plotlyServerURL": "https://plot.ly"
       },
       "data": [
        {
         "dimensions": [
          {
           "label": "hidden_layers",
           "values": [
            4,
            4,
            4,
            4,
            4,
            4,
            6,
            6,
            6,
            6,
            6,
            8,
            8,
            8,
            8,
            8,
            8,
            8,
            8,
            8
           ]
          },
          {
           "label": "hidden_units",
           "values": [
            32,
            32,
            64,
            64,
            128,
            128,
            32,
            64,
            64,
            128,
            128,
            32,
            32,
            32,
            64,
            64,
            64,
            128,
            128,
            128
           ]
          },
          {
           "label": "data_noise",
           "values": [
            0.0001,
            0.00001,
            0.0001,
            0.00001,
            0.0001,
            0.00001,
            0.000001,
            0.00001,
            0.000001,
            0.00001,
            0.000001,
            0.0001,
            0.00001,
            0.000001,
            0.0001,
            0.00001,
            0.000001,
            0.0001,
            0.00001,
            0.000001
           ]
          },
          {
           "label": "ENCE",
           "values": [
            0.0004235976375639,
            0.0004755549889523,
            0.0003299172094557,
            0.0004486169782467,
            0.0003553904243744,
            0.0003199546481482,
            0.0002285206428496,
            0.00008220746531151235,
            0.0004930917639285,
            0.0001936079497681,
            0.00004407889355206862,
            0.0003174531739205,
            0.0003000174474436,
            0.000206742217415,
            0.0002931897470261,
            0.000289335148409,
            0.0003053436812479,
            0.000261623354163,
            0.0002796924964059,
            0.000279181957012
           ]
          },
          {
           "label": "GNLLL",
           "values": [
            1.955424484752473,
            1.95607929002671,
            1.936232952844529,
            1.9321718783605664,
            1.9270708617709933,
            1.941337750071571,
            1.979690120333717,
            2.015871275038946,
            1.9778406165895008,
            2.0038435345604304,
            2.003819255601792,
            1.944926278931754,
            1.9410213799703688,
            1.9430188224429177,
            1.9247513725644063,
            1.9317226693743752,
            1.919780935559954,
            1.9153933070954825,
            1.928112160591852,
            1.917132865814936
           ]
          },
          {
           "label": "RMSE",
           "values": [
            4.274132297152565,
            4.280421154839652,
            4.191292422158377,
            4.177677847090221,
            4.157669862111409,
            4.216423534211659,
            4.387019861312139,
            4.49595958845956,
            4.377219393139794,
            4.459939831779117,
            4.367848362241473,
            4.232460862114316,
            4.211974575406029,
            4.202540034339542,
            4.138487895329793,
            4.176771640777588,
            4.126732349395752,
            4.103834197634742,
            4.13552787190392,
            4.086668752488636
           ]
          }
         ],
         "domain": {
          "x": [
           0,
           1
          ],
          "y": [
           0,
           1
          ]
         },
         "name": "",
         "type": "parcoords"
        }
       ],
       "layout": {
        "legend": {
         "tracegroupgap": 0
        },
        "margin": {
         "t": 60
        },
        "template": {
         "data": {
          "bar": [
           {
            "error_x": {
             "color": "#2a3f5f"
            },
            "error_y": {
             "color": "#2a3f5f"
            },
            "marker": {
             "line": {
              "color": "#E5ECF6",
              "width": 0.5
             },
             "pattern": {
              "fillmode": "overlay",
              "size": 10,
              "solidity": 0.2
             }
            },
            "type": "bar"
           }
          ],
          "barpolar": [
           {
            "marker": {
             "line": {
              "color": "#E5ECF6",
              "width": 0.5
             },
             "pattern": {
              "fillmode": "overlay",
              "size": 10,
              "solidity": 0.2
             }
            },
            "type": "barpolar"
           }
          ],
          "carpet": [
           {
            "aaxis": {
             "endlinecolor": "#2a3f5f",
             "gridcolor": "white",
             "linecolor": "white",
             "minorgridcolor": "white",
             "startlinecolor": "#2a3f5f"
            },
            "baxis": {
             "endlinecolor": "#2a3f5f",
             "gridcolor": "white",
             "linecolor": "white",
             "minorgridcolor": "white",
             "startlinecolor": "#2a3f5f"
            },
            "type": "carpet"
           }
          ],
          "choropleth": [
           {
            "colorbar": {
             "outlinewidth": 0,
             "ticks": ""
            },
            "type": "choropleth"
           }
          ],
          "contour": [
           {
            "colorbar": {
             "outlinewidth": 0,
             "ticks": ""
            },
            "colorscale": [
             [
              0,
              "#0d0887"
             ],
             [
              0.1111111111111111,
              "#46039f"
             ],
             [
              0.2222222222222222,
              "#7201a8"
             ],
             [
              0.3333333333333333,
              "#9c179e"
             ],
             [
              0.4444444444444444,
              "#bd3786"
             ],
             [
              0.5555555555555556,
              "#d8576b"
             ],
             [
              0.6666666666666666,
              "#ed7953"
             ],
             [
              0.7777777777777778,
              "#fb9f3a"
             ],
             [
              0.8888888888888888,
              "#fdca26"
             ],
             [
              1,
              "#f0f921"
             ]
            ],
            "type": "contour"
           }
          ],
          "contourcarpet": [
           {
            "colorbar": {
             "outlinewidth": 0,
             "ticks": ""
            },
            "type": "contourcarpet"
           }
          ],
          "heatmap": [
           {
            "colorbar": {
             "outlinewidth": 0,
             "ticks": ""
            },
            "colorscale": [
             [
              0,
              "#0d0887"
             ],
             [
              0.1111111111111111,
              "#46039f"
             ],
             [
              0.2222222222222222,
              "#7201a8"
             ],
             [
              0.3333333333333333,
              "#9c179e"
             ],
             [
              0.4444444444444444,
              "#bd3786"
             ],
             [
              0.5555555555555556,
              "#d8576b"
             ],
             [
              0.6666666666666666,
              "#ed7953"
             ],
             [
              0.7777777777777778,
              "#fb9f3a"
             ],
             [
              0.8888888888888888,
              "#fdca26"
             ],
             [
              1,
              "#f0f921"
             ]
            ],
            "type": "heatmap"
           }
          ],
          "heatmapgl": [
           {
            "colorbar": {
             "outlinewidth": 0,
             "ticks": ""
            },
            "colorscale": [
             [
              0,
              "#0d0887"
             ],
             [
              0.1111111111111111,
              "#46039f"
             ],
             [
              0.2222222222222222,
              "#7201a8"
             ],
             [
              0.3333333333333333,
              "#9c179e"
             ],
             [
              0.4444444444444444,
              "#bd3786"
             ],
             [
              0.5555555555555556,
              "#d8576b"
             ],
             [
              0.6666666666666666,
              "#ed7953"
             ],
             [
              0.7777777777777778,
              "#fb9f3a"
             ],
             [
              0.8888888888888888,
              "#fdca26"
             ],
             [
              1,
              "#f0f921"
             ]
            ],
            "type": "heatmapgl"
           }
          ],
          "histogram": [
           {
            "marker": {
             "pattern": {
              "fillmode": "overlay",
              "size": 10,
              "solidity": 0.2
             }
            },
            "type": "histogram"
           }
          ],
          "histogram2d": [
           {
            "colorbar": {
             "outlinewidth": 0,
             "ticks": ""
            },
            "colorscale": [
             [
              0,
              "#0d0887"
             ],
             [
              0.1111111111111111,
              "#46039f"
             ],
             [
              0.2222222222222222,
              "#7201a8"
             ],
             [
              0.3333333333333333,
              "#9c179e"
             ],
             [
              0.4444444444444444,
              "#bd3786"
             ],
             [
              0.5555555555555556,
              "#d8576b"
             ],
             [
              0.6666666666666666,
              "#ed7953"
             ],
             [
              0.7777777777777778,
              "#fb9f3a"
             ],
             [
              0.8888888888888888,
              "#fdca26"
             ],
             [
              1,
              "#f0f921"
             ]
            ],
            "type": "histogram2d"
           }
          ],
          "histogram2dcontour": [
           {
            "colorbar": {
             "outlinewidth": 0,
             "ticks": ""
            },
            "colorscale": [
             [
              0,
              "#0d0887"
             ],
             [
              0.1111111111111111,
              "#46039f"
             ],
             [
              0.2222222222222222,
              "#7201a8"
             ],
             [
              0.3333333333333333,
              "#9c179e"
             ],
             [
              0.4444444444444444,
              "#bd3786"
             ],
             [
              0.5555555555555556,
              "#d8576b"
             ],
             [
              0.6666666666666666,
              "#ed7953"
             ],
             [
              0.7777777777777778,
              "#fb9f3a"
             ],
             [
              0.8888888888888888,
              "#fdca26"
             ],
             [
              1,
              "#f0f921"
             ]
            ],
            "type": "histogram2dcontour"
           }
          ],
          "mesh3d": [
           {
            "colorbar": {
             "outlinewidth": 0,
             "ticks": ""
            },
            "type": "mesh3d"
           }
          ],
          "parcoords": [
           {
            "line": {
             "colorbar": {
              "outlinewidth": 0,
              "ticks": ""
             }
            },
            "type": "parcoords"
           }
          ],
          "pie": [
           {
            "automargin": true,
            "type": "pie"
           }
          ],
          "scatter": [
           {
            "fillpattern": {
             "fillmode": "overlay",
             "size": 10,
             "solidity": 0.2
            },
            "type": "scatter"
           }
          ],
          "scatter3d": [
           {
            "line": {
             "colorbar": {
              "outlinewidth": 0,
              "ticks": ""
             }
            },
            "marker": {
             "colorbar": {
              "outlinewidth": 0,
              "ticks": ""
             }
            },
            "type": "scatter3d"
           }
          ],
          "scattercarpet": [
           {
            "marker": {
             "colorbar": {
              "outlinewidth": 0,
              "ticks": ""
             }
            },
            "type": "scattercarpet"
           }
          ],
          "scattergeo": [
           {
            "marker": {
             "colorbar": {
              "outlinewidth": 0,
              "ticks": ""
             }
            },
            "type": "scattergeo"
           }
          ],
          "scattergl": [
           {
            "marker": {
             "colorbar": {
              "outlinewidth": 0,
              "ticks": ""
             }
            },
            "type": "scattergl"
           }
          ],
          "scattermapbox": [
           {
            "marker": {
             "colorbar": {
              "outlinewidth": 0,
              "ticks": ""
             }
            },
            "type": "scattermapbox"
           }
          ],
          "scatterpolar": [
           {
            "marker": {
             "colorbar": {
              "outlinewidth": 0,
              "ticks": ""
             }
            },
            "type": "scatterpolar"
           }
          ],
          "scatterpolargl": [
           {
            "marker": {
             "colorbar": {
              "outlinewidth": 0,
              "ticks": ""
             }
            },
            "type": "scatterpolargl"
           }
          ],
          "scatterternary": [
           {
            "marker": {
             "colorbar": {
              "outlinewidth": 0,
              "ticks": ""
             }
            },
            "type": "scatterternary"
           }
          ],
          "surface": [
           {
            "colorbar": {
             "outlinewidth": 0,
             "ticks": ""
            },
            "colorscale": [
             [
              0,
              "#0d0887"
             ],
             [
              0.1111111111111111,
              "#46039f"
             ],
             [
              0.2222222222222222,
              "#7201a8"
             ],
             [
              0.3333333333333333,
              "#9c179e"
             ],
             [
              0.4444444444444444,
              "#bd3786"
             ],
             [
              0.5555555555555556,
              "#d8576b"
             ],
             [
              0.6666666666666666,
              "#ed7953"
             ],
             [
              0.7777777777777778,
              "#fb9f3a"
             ],
             [
              0.8888888888888888,
              "#fdca26"
             ],
             [
              1,
              "#f0f921"
             ]
            ],
            "type": "surface"
           }
          ],
          "table": [
           {
            "cells": {
             "fill": {
              "color": "#EBF0F8"
             },
             "line": {
              "color": "white"
             }
            },
            "header": {
             "fill": {
              "color": "#C8D4E3"
             },
             "line": {
              "color": "white"
             }
            },
            "type": "table"
           }
          ]
         },
         "layout": {
          "annotationdefaults": {
           "arrowcolor": "#2a3f5f",
           "arrowhead": 0,
           "arrowwidth": 1
          },
          "autotypenumbers": "strict",
          "coloraxis": {
           "colorbar": {
            "outlinewidth": 0,
            "ticks": ""
           }
          },
          "colorscale": {
           "diverging": [
            [
             0,
             "#8e0152"
            ],
            [
             0.1,
             "#c51b7d"
            ],
            [
             0.2,
             "#de77ae"
            ],
            [
             0.3,
             "#f1b6da"
            ],
            [
             0.4,
             "#fde0ef"
            ],
            [
             0.5,
             "#f7f7f7"
            ],
            [
             0.6,
             "#e6f5d0"
            ],
            [
             0.7,
             "#b8e186"
            ],
            [
             0.8,
             "#7fbc41"
            ],
            [
             0.9,
             "#4d9221"
            ],
            [
             1,
             "#276419"
            ]
           ],
           "sequential": [
            [
             0,
             "#0d0887"
            ],
            [
             0.1111111111111111,
             "#46039f"
            ],
            [
             0.2222222222222222,
             "#7201a8"
            ],
            [
             0.3333333333333333,
             "#9c179e"
            ],
            [
             0.4444444444444444,
             "#bd3786"
            ],
            [
             0.5555555555555556,
             "#d8576b"
            ],
            [
             0.6666666666666666,
             "#ed7953"
            ],
            [
             0.7777777777777778,
             "#fb9f3a"
            ],
            [
             0.8888888888888888,
             "#fdca26"
            ],
            [
             1,
             "#f0f921"
            ]
           ],
           "sequentialminus": [
            [
             0,
             "#0d0887"
            ],
            [
             0.1111111111111111,
             "#46039f"
            ],
            [
             0.2222222222222222,
             "#7201a8"
            ],
            [
             0.3333333333333333,
             "#9c179e"
            ],
            [
             0.4444444444444444,
             "#bd3786"
            ],
            [
             0.5555555555555556,
             "#d8576b"
            ],
            [
             0.6666666666666666,
             "#ed7953"
            ],
            [
             0.7777777777777778,
             "#fb9f3a"
            ],
            [
             0.8888888888888888,
             "#fdca26"
            ],
            [
             1,
             "#f0f921"
            ]
           ]
          },
          "colorway": [
           "#636efa",
           "#EF553B",
           "#00cc96",
           "#ab63fa",
           "#FFA15A",
           "#19d3f3",
           "#FF6692",
           "#B6E880",
           "#FF97FF",
           "#FECB52"
          ],
          "font": {
           "color": "#2a3f5f"
          },
          "geo": {
           "bgcolor": "white",
           "lakecolor": "white",
           "landcolor": "#E5ECF6",
           "showlakes": true,
           "showland": true,
           "subunitcolor": "white"
          },
          "hoverlabel": {
           "align": "left"
          },
          "hovermode": "closest",
          "mapbox": {
           "style": "light"
          },
          "paper_bgcolor": "white",
          "plot_bgcolor": "#E5ECF6",
          "polar": {
           "angularaxis": {
            "gridcolor": "white",
            "linecolor": "white",
            "ticks": ""
           },
           "bgcolor": "#E5ECF6",
           "radialaxis": {
            "gridcolor": "white",
            "linecolor": "white",
            "ticks": ""
           }
          },
          "scene": {
           "xaxis": {
            "backgroundcolor": "#E5ECF6",
            "gridcolor": "white",
            "gridwidth": 2,
            "linecolor": "white",
            "showbackground": true,
            "ticks": "",
            "zerolinecolor": "white"
           },
           "yaxis": {
            "backgroundcolor": "#E5ECF6",
            "gridcolor": "white",
            "gridwidth": 2,
            "linecolor": "white",
            "showbackground": true,
            "ticks": "",
            "zerolinecolor": "white"
           },
           "zaxis": {
            "backgroundcolor": "#E5ECF6",
            "gridcolor": "white",
            "gridwidth": 2,
            "linecolor": "white",
            "showbackground": true,
            "ticks": "",
            "zerolinecolor": "white"
           }
          },
          "shapedefaults": {
           "line": {
            "color": "#2a3f5f"
           }
          },
          "ternary": {
           "aaxis": {
            "gridcolor": "white",
            "linecolor": "white",
            "ticks": ""
           },
           "baxis": {
            "gridcolor": "white",
            "linecolor": "white",
            "ticks": ""
           },
           "bgcolor": "#E5ECF6",
           "caxis": {
            "gridcolor": "white",
            "linecolor": "white",
            "ticks": ""
           }
          },
          "title": {
           "x": 0.05
          },
          "xaxis": {
           "automargin": true,
           "gridcolor": "white",
           "linecolor": "white",
           "ticks": "",
           "title": {
            "standoff": 15
           },
           "zerolinecolor": "white",
           "zerolinewidth": 2
          },
          "yaxis": {
           "automargin": true,
           "gridcolor": "white",
           "linecolor": "white",
           "ticks": "",
           "title": {
            "standoff": 15
           },
           "zerolinecolor": "white",
           "zerolinewidth": 2
          }
         }
        }
       }
      }
     },
     "metadata": {},
     "output_type": "display_data"
    }
   ],
   "source": [
    "# Filter the worst performing models in terms of RMSE\n",
    "df_anchored = df_anchored[(df_anchored['RMSE'] <4.5)  & (df_anchored['data_noise'] != 0.01)]\n",
    "\n",
    "# Keep the interesting parameters which we are tuning and the performances\n",
    "df_anchored = df_anchored[['hidden_layers','hidden_units', 'data_noise', 'ENCE','GNLLL', 'RMSE']]\n",
    "fig = px.parallel_coordinates(df_anchored)\n",
    "\n",
    "fig.show()"
   ]
  },
  {
   "cell_type": "code",
   "execution_count": null,
   "metadata": {},
   "outputs": [],
   "source": []
  }
 ],
 "metadata": {
  "kernelspec": {
   "display_name": "Python 3",
   "language": "python",
   "name": "python3"
  },
  "language_info": {
   "codemirror_mode": {
    "name": "ipython",
    "version": 3
   },
   "file_extension": ".py",
   "mimetype": "text/x-python",
   "name": "python",
   "nbconvert_exporter": "python",
   "pygments_lexer": "ipython3",
   "version": "3.10.1"
  }
 },
 "nbformat": 4,
 "nbformat_minor": 2
}
